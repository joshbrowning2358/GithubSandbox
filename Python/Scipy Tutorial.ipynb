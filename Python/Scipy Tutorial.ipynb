{
 "cells": [
  {
   "cell_type": "code",
   "execution_count": null,
   "metadata": {
    "collapsed": false
   },
   "outputs": [],
   "source": [
    "import numpy as np\n",
    "a = np.array([0, 1, 2, 3])\n",
    "a"
   ]
  },
  {
   "cell_type": "code",
   "execution_count": null,
   "metadata": {
    "collapsed": false
   },
   "outputs": [],
   "source": [
    "# Test speed:\n",
    "L = range(1000)\n",
    "%timeit [i**2 for i in L]\n",
    "a = np.arange(1000)\n",
    "%timeit [i**2 for i in a]\n",
    "%timeit a**2"
   ]
  },
  {
   "cell_type": "code",
   "execution_count": null,
   "metadata": {
    "collapsed": false
   },
   "outputs": [],
   "source": [
    "a = np.arange(10)\n",
    "a*2 + 10\n",
    "np.sin(a)"
   ]
  },
  {
   "cell_type": "code",
   "execution_count": null,
   "metadata": {
    "collapsed": false,
    "scrolled": true
   },
   "outputs": [],
   "source": [
    "# np.array?\n",
    "np.lookfor(\"create array\")"
   ]
  },
  {
   "cell_type": "code",
   "execution_count": null,
   "metadata": {
    "collapsed": false
   },
   "outputs": [],
   "source": [
    "a = np.array([0, 1, 2, 3])\n",
    "print(a, a.ndim, a.shape, len(a))"
   ]
  },
  {
   "cell_type": "markdown",
   "metadata": {},
   "source": [
    "Create an array with odd numbers counting backwards on the first row, and even numbers on the second:"
   ]
  },
  {
   "cell_type": "code",
   "execution_count": null,
   "metadata": {
    "collapsed": false
   },
   "outputs": [],
   "source": [
    "a = 19-np.arange(10)*2\n",
    "b = np.arange(10)*2\n",
    "x = np.row_stack([a, b])\n",
    "print(x)\n",
    "print(np.matrix.flatten(x))\n",
    "y = np.array([a, b])\n",
    "print(\"y=\", y)\n",
    "print(np.equal(x, y))\n",
    "print(type(x), type(y))\n",
    "print(len(x))\n",
    "print(np.shape(x))\n",
    "print(x.ndim)\n",
    "y.ndim"
   ]
  },
  {
   "cell_type": "code",
   "execution_count": null,
   "metadata": {
    "collapsed": false
   },
   "outputs": [],
   "source": [
    "a = np.arange(10)\n",
    "a"
   ]
  },
  {
   "cell_type": "code",
   "execution_count": null,
   "metadata": {
    "collapsed": false
   },
   "outputs": [],
   "source": [
    "b = np.arange(1, 9, 2)\n",
    "b"
   ]
  },
  {
   "cell_type": "code",
   "execution_count": null,
   "metadata": {
    "collapsed": false
   },
   "outputs": [],
   "source": [
    "c = np.linspace(0, 1, 6)\n",
    "c"
   ]
  },
  {
   "cell_type": "code",
   "execution_count": null,
   "metadata": {
    "collapsed": false
   },
   "outputs": [],
   "source": [
    "d = np.linspace(0, 1, 5, endpoint=False)\n",
    "d"
   ]
  },
  {
   "cell_type": "code",
   "execution_count": null,
   "metadata": {
    "collapsed": false
   },
   "outputs": [],
   "source": [
    "e = np.linspace(0, 1, 5, endpoint=False)\n",
    "e[1:5]"
   ]
  },
  {
   "cell_type": "code",
   "execution_count": null,
   "metadata": {
    "collapsed": false
   },
   "outputs": [],
   "source": [
    "a = np.ones((3, 3))\n",
    "a"
   ]
  },
  {
   "cell_type": "code",
   "execution_count": null,
   "metadata": {
    "collapsed": false
   },
   "outputs": [],
   "source": [
    "b = np.zeros((2, 2))\n",
    "b"
   ]
  },
  {
   "cell_type": "code",
   "execution_count": null,
   "metadata": {
    "collapsed": false
   },
   "outputs": [],
   "source": [
    "c = np.eye(3)\n",
    "c"
   ]
  },
  {
   "cell_type": "code",
   "execution_count": null,
   "metadata": {
    "collapsed": false
   },
   "outputs": [],
   "source": [
    "d = np.diag(np.array((1, 2, 3, 4)))\n",
    "d"
   ]
  },
  {
   "cell_type": "code",
   "execution_count": null,
   "metadata": {
    "collapsed": false
   },
   "outputs": [],
   "source": [
    "a = np.random.rand(4)\n",
    "a"
   ]
  },
  {
   "cell_type": "code",
   "execution_count": null,
   "metadata": {
    "collapsed": false
   },
   "outputs": [],
   "source": [
    "b = np.random.randn(4)\n",
    "b"
   ]
  },
  {
   "cell_type": "code",
   "execution_count": null,
   "metadata": {
    "collapsed": false
   },
   "outputs": [],
   "source": [
    "np.random.seed(1234)\n",
    "print(np.random.rand(5))\n",
    "np.random.seed(1234)\n",
    "print(np.random.rand(5))"
   ]
  },
  {
   "cell_type": "code",
   "execution_count": null,
   "metadata": {
    "collapsed": false
   },
   "outputs": [],
   "source": [
    "np.empty((10, 10))"
   ]
  },
  {
   "cell_type": "code",
   "execution_count": null,
   "metadata": {
    "collapsed": false
   },
   "outputs": [],
   "source": [
    "a = np.arange(3)\n",
    "a.dtype"
   ]
  },
  {
   "cell_type": "code",
   "execution_count": null,
   "metadata": {
    "collapsed": false
   },
   "outputs": [],
   "source": [
    "b = np.array([1., 2., 3])\n",
    "b.dtype"
   ]
  },
  {
   "cell_type": "code",
   "execution_count": null,
   "metadata": {
    "collapsed": false
   },
   "outputs": [],
   "source": [
    "c = np.arange(3, dtype = float)\n",
    "c"
   ]
  },
  {
   "cell_type": "code",
   "execution_count": null,
   "metadata": {
    "collapsed": false
   },
   "outputs": [],
   "source": [
    "e = np.array([0, 1, 1, 0], dtype = bool)\n",
    "e"
   ]
  },
  {
   "cell_type": "code",
   "execution_count": null,
   "metadata": {
    "collapsed": false
   },
   "outputs": [],
   "source": [
    "print((e + 1).dtype)"
   ]
  },
  {
   "cell_type": "code",
   "execution_count": null,
   "metadata": {
    "collapsed": false
   },
   "outputs": [],
   "source": [
    "np.not_equal(e, True)"
   ]
  },
  {
   "cell_type": "code",
   "execution_count": null,
   "metadata": {
    "collapsed": false
   },
   "outputs": [],
   "source": [
    "np.logical_not(e)"
   ]
  },
  {
   "cell_type": "code",
   "execution_count": null,
   "metadata": {
    "collapsed": false
   },
   "outputs": [],
   "source": [
    "f = np.array(['Bonjour', 'Hello', 'Hallo',])\n",
    "f.dtype"
   ]
  },
  {
   "cell_type": "code",
   "execution_count": null,
   "metadata": {
    "collapsed": false
   },
   "outputs": [],
   "source": [
    "%matplotlib inline\n",
    "import matplotlib.pyplot as plt\n",
    "x = np.arange(10)\n",
    "y = x * x\n",
    "plt.plot(x, y)\n",
    "plt.plot(x, y, \"o\")"
   ]
  },
  {
   "cell_type": "code",
   "execution_count": null,
   "metadata": {
    "collapsed": false
   },
   "outputs": [],
   "source": [
    "image = np.random.rand(50, 50)\n",
    "plt.imshow(image, cmap=plt.cm.hot_r)\n",
    "plt.colorbar()"
   ]
  },
  {
   "cell_type": "markdown",
   "metadata": {},
   "source": [
    "Plot some simple arrays: a cosine as a function of time and a 2D matrix."
   ]
  },
  {
   "cell_type": "code",
   "execution_count": null,
   "metadata": {
    "collapsed": false
   },
   "outputs": [],
   "source": [
    "x = np.linspace(0, 5*np.pi)\n",
    "y = np.cos(x)\n",
    "plt.plot(x, y)"
   ]
  },
  {
   "cell_type": "code",
   "execution_count": null,
   "metadata": {
    "collapsed": false
   },
   "outputs": [],
   "source": [
    "radius = [np.sqrt(x**2 + y**2) for x in np.arange(-5, 6) for y in np.arange(-5, 6)]\n",
    "radius = np.reshape(radius, newshape = (11, 11))\n",
    "toPlot = np.sin(radius)\n",
    "plt.imshow(radius)"
   ]
  },
  {
   "cell_type": "markdown",
   "metadata": {},
   "source": [
    "Try using the gray colormap on the 2D matrix."
   ]
  },
  {
   "cell_type": "code",
   "execution_count": null,
   "metadata": {
    "collapsed": false
   },
   "outputs": [],
   "source": [
    "plt.imshow(radius, cmap = plt.cm.gray_r)"
   ]
  },
  {
   "cell_type": "code",
   "execution_count": null,
   "metadata": {
    "collapsed": false
   },
   "outputs": [],
   "source": [
    "a = np.arange(10)\n",
    "a[2], a[1], a[9]"
   ]
  },
  {
   "cell_type": "code",
   "execution_count": null,
   "metadata": {
    "collapsed": false
   },
   "outputs": [],
   "source": [
    "a[::-1]"
   ]
  },
  {
   "cell_type": "code",
   "execution_count": null,
   "metadata": {
    "collapsed": false
   },
   "outputs": [],
   "source": [
    "a = np.diag(np.arange(3))\n",
    "a"
   ]
  },
  {
   "cell_type": "code",
   "execution_count": null,
   "metadata": {
    "collapsed": false
   },
   "outputs": [],
   "source": [
    "a[1, 1]"
   ]
  },
  {
   "cell_type": "code",
   "execution_count": null,
   "metadata": {
    "collapsed": false
   },
   "outputs": [],
   "source": [
    "a[1]"
   ]
  },
  {
   "cell_type": "code",
   "execution_count": null,
   "metadata": {
    "collapsed": false
   },
   "outputs": [],
   "source": [
    "a = np.arange(10)\n",
    "a[2:9:3]"
   ]
  },
  {
   "cell_type": "code",
   "execution_count": null,
   "metadata": {
    "collapsed": false
   },
   "outputs": [],
   "source": [
    "a[:4]"
   ]
  },
  {
   "cell_type": "code",
   "execution_count": null,
   "metadata": {
    "collapsed": false
   },
   "outputs": [],
   "source": [
    "a = np.outer(np.arange(5), np.arange(5)*3)\n",
    "a"
   ]
  },
  {
   "cell_type": "code",
   "execution_count": null,
   "metadata": {
    "collapsed": false
   },
   "outputs": [],
   "source": [
    "a[::, 1]"
   ]
  },
  {
   "cell_type": "code",
   "execution_count": null,
   "metadata": {
    "collapsed": false
   },
   "outputs": [],
   "source": [
    "a[::2, :]"
   ]
  },
  {
   "cell_type": "code",
   "execution_count": null,
   "metadata": {
    "collapsed": false
   },
   "outputs": [],
   "source": [
    "a[3:, 3:]"
   ]
  },
  {
   "cell_type": "code",
   "execution_count": null,
   "metadata": {
    "collapsed": false
   },
   "outputs": [],
   "source": [
    "a[::2, 2::2]"
   ]
  },
  {
   "cell_type": "code",
   "execution_count": null,
   "metadata": {
    "collapsed": false
   },
   "outputs": [],
   "source": [
    "print(a)\n",
    "a[::2, 2::2] = -999\n",
    "a"
   ]
  },
  {
   "cell_type": "code",
   "execution_count": null,
   "metadata": {
    "collapsed": false
   },
   "outputs": [],
   "source": [
    "a = np.ones((4, 4))\n",
    "a[3, 1] = 6\n",
    "a[2, 3] = 2\n",
    "a"
   ]
  },
  {
   "cell_type": "code",
   "execution_count": null,
   "metadata": {
    "collapsed": false
   },
   "outputs": [],
   "source": [
    "# b = np.zeros((6, 5))\n",
    "b = np.diag(np.arange(2, 7))\n",
    "b = np.row_stack([np.zeros((1, 5)), b])\n",
    "b"
   ]
  },
  {
   "cell_type": "code",
   "execution_count": null,
   "metadata": {
    "collapsed": false
   },
   "outputs": [],
   "source": [
    "toTile = np.array([[4, 3], [2, 1]])\n",
    "toTile\n",
    "np.tile(toTile, (2, 3))"
   ]
  },
  {
   "cell_type": "code",
   "execution_count": null,
   "metadata": {
    "collapsed": false
   },
   "outputs": [],
   "source": [
    "a = np.arange(10)\n",
    "a"
   ]
  },
  {
   "cell_type": "code",
   "execution_count": null,
   "metadata": {
    "collapsed": false
   },
   "outputs": [],
   "source": [
    "b = a[::2]\n",
    "b"
   ]
  },
  {
   "cell_type": "code",
   "execution_count": null,
   "metadata": {
    "collapsed": false
   },
   "outputs": [],
   "source": [
    "np.may_share_memory(a, b)"
   ]
  },
  {
   "cell_type": "code",
   "execution_count": null,
   "metadata": {
    "collapsed": false
   },
   "outputs": [],
   "source": [
    "b[0] = 12\n",
    "print(b)\n",
    "print(a)"
   ]
  },
  {
   "cell_type": "code",
   "execution_count": null,
   "metadata": {
    "collapsed": false
   },
   "outputs": [],
   "source": [
    "a = np.arange(10)\n",
    "c = np.copy(a[::2])\n",
    "c[0] = 12\n",
    "print(c)\n",
    "print(a)\n",
    "np.may_share_memory(a, c)"
   ]
  },
  {
   "cell_type": "code",
   "execution_count": null,
   "metadata": {
    "collapsed": false
   },
   "outputs": [],
   "source": [
    "isPrime = np.ones(100, dtype = bool)\n",
    "for N in np.arange(2, 10):\n",
    "    isPrime[2*N::N] = 0\n",
    "np.arange(0, 100)[isPrime]\n",
    "import prime_sieve as ps\n",
    "ps.getPrimes(1000)"
   ]
  },
  {
   "cell_type": "code",
   "execution_count": null,
   "metadata": {
    "collapsed": false
   },
   "outputs": [],
   "source": [
    "np.random.seed(3)\n",
    "a = np.random.random_integers(0, 20, 15)\n",
    "a"
   ]
  },
  {
   "cell_type": "code",
   "execution_count": null,
   "metadata": {
    "collapsed": false
   },
   "outputs": [],
   "source": [
    "a % 3 == 0"
   ]
  },
  {
   "cell_type": "code",
   "execution_count": null,
   "metadata": {
    "collapsed": false
   },
   "outputs": [],
   "source": [
    "mask = a % 3 == 0\n",
    "extract = a[mask]\n",
    "extract[0:2] = 1\n",
    "print(extract)\n",
    "print(a)"
   ]
  },
  {
   "cell_type": "code",
   "execution_count": null,
   "metadata": {
    "collapsed": false
   },
   "outputs": [],
   "source": [
    "a[mask] = -1\n",
    "a"
   ]
  },
  {
   "cell_type": "code",
   "execution_count": null,
   "metadata": {
    "collapsed": false
   },
   "outputs": [],
   "source": [
    "a = np.arange(0, 100, 10)\n",
    "a"
   ]
  },
  {
   "cell_type": "code",
   "execution_count": null,
   "metadata": {
    "collapsed": false
   },
   "outputs": [],
   "source": [
    "a[[2, 3, 4, 2, 3]]"
   ]
  },
  {
   "cell_type": "code",
   "execution_count": null,
   "metadata": {
    "collapsed": false
   },
   "outputs": [],
   "source": [
    "a[[9, 7]] = -10\n",
    "a"
   ]
  },
  {
   "cell_type": "code",
   "execution_count": null,
   "metadata": {
    "collapsed": false
   },
   "outputs": [],
   "source": [
    "a = np.arange(10)\n",
    "idx = np.array([[3, 4], [9, 7]])\n",
    "idx.shape"
   ]
  },
  {
   "cell_type": "code",
   "execution_count": null,
   "metadata": {
    "collapsed": false
   },
   "outputs": [],
   "source": [
    "a[[idx]]"
   ]
  },
  {
   "cell_type": "markdown",
   "metadata": {},
   "source": [
    "PLOT IN R"
   ]
  },
  {
   "cell_type": "code",
   "execution_count": null,
   "metadata": {
    "collapsed": false
   },
   "outputs": [],
   "source": []
  },
  {
   "cell_type": "markdown",
   "metadata": {},
   "source": [
    "MATPLOTLIB"
   ]
  },
  {
   "cell_type": "code",
   "execution_count": 36,
   "metadata": {
    "collapsed": true
   },
   "outputs": [],
   "source": [
    "import matplotlib.pyplot as plt"
   ]
  },
  {
   "cell_type": "markdown",
   "metadata": {},
   "source": [
    "SCIPY"
   ]
  },
  {
   "cell_type": "code",
   "execution_count": null,
   "metadata": {
    "collapsed": false
   },
   "outputs": [],
   "source": [
    "import scipy\n",
    "scipy.cos is np.cos"
   ]
  },
  {
   "cell_type": "code",
   "execution_count": 6,
   "metadata": {
    "collapsed": false
   },
   "outputs": [
    {
     "data": {
      "text/plain": [
       "array([[ 1.,  1.,  1.],\n",
       "       [ 1.,  1.,  1.],\n",
       "       [ 1.,  1.,  1.]])"
      ]
     },
     "execution_count": 6,
     "metadata": {},
     "output_type": "execute_result"
    }
   ],
   "source": [
    "from scipy import io as spio\n",
    "a = np.ones((3, 3))\n",
    "spio.savemat('file.mat', {'a': a}) # savemat expects a dictionary\n",
    "data = spio.loadmat('file.mat', struct_as_record = True)\n",
    "data['a']"
   ]
  },
  {
   "cell_type": "code",
   "execution_count": 13,
   "metadata": {
    "collapsed": false
   },
   "outputs": [
    {
     "ename": "OSError",
     "evalue": "cannot identify image file 'Production Flowchart.png'",
     "output_type": "error",
     "traceback": [
      "\u001b[1;31m---------------------------------------------------------------------------\u001b[0m",
      "\u001b[1;31mOSError\u001b[0m                                   Traceback (most recent call last)",
      "\u001b[1;32m<ipython-input-13-50df7441b38a>\u001b[0m in \u001b[0;36m<module>\u001b[1;34m()\u001b[0m\n\u001b[0;32m      1\u001b[0m \u001b[1;32mfrom\u001b[0m \u001b[0mscipy\u001b[0m \u001b[1;32mimport\u001b[0m \u001b[0mmisc\u001b[0m\u001b[1;33m\u001b[0m\u001b[0m\n\u001b[1;32m----> 2\u001b[1;33m \u001b[0mmisc\u001b[0m\u001b[1;33m.\u001b[0m\u001b[0mimread\u001b[0m\u001b[1;33m(\u001b[0m\u001b[1;34m'Production Flowchart.png'\u001b[0m\u001b[1;33m)\u001b[0m\u001b[1;33m\u001b[0m\u001b[0m\n\u001b[0m",
      "\u001b[1;32m/home/josh/anaconda3/lib/python3.5/site-packages/scipy/misc/pilutil.py\u001b[0m in \u001b[0;36mimread\u001b[1;34m(name, flatten)\u001b[0m\n\u001b[0;32m    123\u001b[0m     \"\"\"\n\u001b[0;32m    124\u001b[0m \u001b[1;33m\u001b[0m\u001b[0m\n\u001b[1;32m--> 125\u001b[1;33m     \u001b[0mim\u001b[0m \u001b[1;33m=\u001b[0m \u001b[0mImage\u001b[0m\u001b[1;33m.\u001b[0m\u001b[0mopen\u001b[0m\u001b[1;33m(\u001b[0m\u001b[0mname\u001b[0m\u001b[1;33m)\u001b[0m\u001b[1;33m\u001b[0m\u001b[0m\n\u001b[0m\u001b[0;32m    126\u001b[0m     \u001b[1;32mreturn\u001b[0m \u001b[0mfromimage\u001b[0m\u001b[1;33m(\u001b[0m\u001b[0mim\u001b[0m\u001b[1;33m,\u001b[0m \u001b[0mflatten\u001b[0m\u001b[1;33m=\u001b[0m\u001b[0mflatten\u001b[0m\u001b[1;33m)\u001b[0m\u001b[1;33m\u001b[0m\u001b[0m\n\u001b[0;32m    127\u001b[0m \u001b[1;33m\u001b[0m\u001b[0m\n",
      "\u001b[1;32m/home/josh/anaconda3/lib/python3.5/site-packages/PIL/Image.py\u001b[0m in \u001b[0;36mopen\u001b[1;34m(fp, mode)\u001b[0m\n\u001b[0;32m   2284\u001b[0m \u001b[1;33m\u001b[0m\u001b[0m\n\u001b[0;32m   2285\u001b[0m     raise IOError(\"cannot identify image file %r\"\n\u001b[1;32m-> 2286\u001b[1;33m                   % (filename if filename else fp))\n\u001b[0m\u001b[0;32m   2287\u001b[0m \u001b[1;33m\u001b[0m\u001b[0m\n\u001b[0;32m   2288\u001b[0m \u001b[1;31m#\u001b[0m\u001b[1;33m\u001b[0m\u001b[1;33m\u001b[0m\u001b[0m\n",
      "\u001b[1;31mOSError\u001b[0m: cannot identify image file 'Production Flowchart.png'"
     ]
    }
   ],
   "source": [
    "from scipy import misc\n",
    "import os\n",
    "os.getcwd()\n",
    "# misc.imread('Production Flowchart.png')"
   ]
  },
  {
   "cell_type": "code",
   "execution_count": 16,
   "metadata": {
    "collapsed": false
   },
   "outputs": [
    {
     "data": {
      "text/plain": [
       "-2.0"
      ]
     },
     "execution_count": 16,
     "metadata": {},
     "output_type": "execute_result"
    }
   ],
   "source": [
    "from scipy import linalg\n",
    "arr = np.array([[1, 2], [3, 4]])\n",
    "linalg.det(arr)"
   ]
  },
  {
   "cell_type": "code",
   "execution_count": 17,
   "metadata": {
    "collapsed": false
   },
   "outputs": [
    {
     "ename": "ValueError",
     "evalue": "expected square matrix",
     "output_type": "error",
     "traceback": [
      "\u001b[1;31m---------------------------------------------------------------------------\u001b[0m",
      "\u001b[1;31mValueError\u001b[0m                                Traceback (most recent call last)",
      "\u001b[1;32m<ipython-input-17-4d4672bd00a7>\u001b[0m in \u001b[0;36m<module>\u001b[1;34m()\u001b[0m\n\u001b[1;32m----> 1\u001b[1;33m \u001b[0mlinalg\u001b[0m\u001b[1;33m.\u001b[0m\u001b[0mdet\u001b[0m\u001b[1;33m(\u001b[0m\u001b[0mnp\u001b[0m\u001b[1;33m.\u001b[0m\u001b[0mones\u001b[0m\u001b[1;33m(\u001b[0m\u001b[1;33m(\u001b[0m\u001b[1;36m3\u001b[0m\u001b[1;33m,\u001b[0m \u001b[1;36m4\u001b[0m\u001b[1;33m)\u001b[0m\u001b[1;33m)\u001b[0m\u001b[1;33m)\u001b[0m\u001b[1;33m\u001b[0m\u001b[0m\n\u001b[0m",
      "\u001b[1;32m/home/josh/anaconda3/lib/python3.5/site-packages/scipy/linalg/basic.py\u001b[0m in \u001b[0;36mdet\u001b[1;34m(a, overwrite_a, check_finite)\u001b[0m\n\u001b[0;32m    732\u001b[0m     \u001b[0ma1\u001b[0m \u001b[1;33m=\u001b[0m \u001b[0m_asarray_validated\u001b[0m\u001b[1;33m(\u001b[0m\u001b[0ma\u001b[0m\u001b[1;33m,\u001b[0m \u001b[0mcheck_finite\u001b[0m\u001b[1;33m=\u001b[0m\u001b[0mcheck_finite\u001b[0m\u001b[1;33m)\u001b[0m\u001b[1;33m\u001b[0m\u001b[0m\n\u001b[0;32m    733\u001b[0m     \u001b[1;32mif\u001b[0m \u001b[0mlen\u001b[0m\u001b[1;33m(\u001b[0m\u001b[0ma1\u001b[0m\u001b[1;33m.\u001b[0m\u001b[0mshape\u001b[0m\u001b[1;33m)\u001b[0m \u001b[1;33m!=\u001b[0m \u001b[1;36m2\u001b[0m \u001b[1;32mor\u001b[0m \u001b[0ma1\u001b[0m\u001b[1;33m.\u001b[0m\u001b[0mshape\u001b[0m\u001b[1;33m[\u001b[0m\u001b[1;36m0\u001b[0m\u001b[1;33m]\u001b[0m \u001b[1;33m!=\u001b[0m \u001b[0ma1\u001b[0m\u001b[1;33m.\u001b[0m\u001b[0mshape\u001b[0m\u001b[1;33m[\u001b[0m\u001b[1;36m1\u001b[0m\u001b[1;33m]\u001b[0m\u001b[1;33m:\u001b[0m\u001b[1;33m\u001b[0m\u001b[0m\n\u001b[1;32m--> 734\u001b[1;33m         \u001b[1;32mraise\u001b[0m \u001b[0mValueError\u001b[0m\u001b[1;33m(\u001b[0m\u001b[1;34m'expected square matrix'\u001b[0m\u001b[1;33m)\u001b[0m\u001b[1;33m\u001b[0m\u001b[0m\n\u001b[0m\u001b[0;32m    735\u001b[0m     \u001b[0moverwrite_a\u001b[0m \u001b[1;33m=\u001b[0m \u001b[0moverwrite_a\u001b[0m \u001b[1;32mor\u001b[0m \u001b[0m_datacopied\u001b[0m\u001b[1;33m(\u001b[0m\u001b[0ma1\u001b[0m\u001b[1;33m,\u001b[0m \u001b[0ma\u001b[0m\u001b[1;33m)\u001b[0m\u001b[1;33m\u001b[0m\u001b[0m\n\u001b[0;32m    736\u001b[0m     \u001b[0mfdet\u001b[0m\u001b[1;33m,\u001b[0m \u001b[1;33m=\u001b[0m \u001b[0mget_flinalg_funcs\u001b[0m\u001b[1;33m(\u001b[0m\u001b[1;33m(\u001b[0m\u001b[1;34m'det'\u001b[0m\u001b[1;33m,\u001b[0m\u001b[1;33m)\u001b[0m\u001b[1;33m,\u001b[0m \u001b[1;33m(\u001b[0m\u001b[0ma1\u001b[0m\u001b[1;33m,\u001b[0m\u001b[1;33m)\u001b[0m\u001b[1;33m)\u001b[0m\u001b[1;33m\u001b[0m\u001b[0m\n",
      "\u001b[1;31mValueError\u001b[0m: expected square matrix"
     ]
    }
   ],
   "source": [
    "# Throws error, not square\n",
    "linalg.det(np.ones((3, 4)))"
   ]
  },
  {
   "cell_type": "code",
   "execution_count": 20,
   "metadata": {
    "collapsed": false
   },
   "outputs": [
    {
     "data": {
      "text/plain": [
       "array([[  1.00000000e+00,   0.00000000e+00],\n",
       "       [  2.22044605e-16,   1.00000000e+00]])"
      ]
     },
     "execution_count": 20,
     "metadata": {},
     "output_type": "execute_result"
    }
   ],
   "source": [
    "iarr = linalg.inv(arr)\n",
    "np.dot(iarr, arr)"
   ]
  },
  {
   "cell_type": "code",
   "execution_count": 22,
   "metadata": {
    "collapsed": false
   },
   "outputs": [
    {
     "data": {
      "text/plain": [
       "True"
      ]
     },
     "execution_count": 22,
     "metadata": {},
     "output_type": "execute_result"
    }
   ],
   "source": [
    "np.allclose(np.dot(iarr, arr), np.eye(2))"
   ]
  },
  {
   "cell_type": "code",
   "execution_count": 27,
   "metadata": {
    "collapsed": false
   },
   "outputs": [
    {
     "name": "stdout",
     "output_type": "stream",
     "text": [
      "[[-0.1617463  -0.98659196  0.02178164]\n",
      " [-0.47456365  0.09711667  0.87484724]\n",
      " [-0.86523261  0.13116653 -0.48390895]]\n",
      "[ 14.88982544   0.45294236   0.29654967]\n",
      "[[-0.45513179 -0.54511245 -0.70406496]\n",
      " [ 0.20258033  0.70658087 -0.67801525]\n",
      " [-0.86707339  0.45121601  0.21115836]]\n"
     ]
    }
   ],
   "source": [
    "arr = np.arange(9).reshape((3, 3)) + np.diag([1, 0, 1])\n",
    "uarr, spec, vharr = linalg.svd(arr)\n",
    "print(uarr)\n",
    "print(spec)\n",
    "print(vharr)"
   ]
  },
  {
   "cell_type": "code",
   "execution_count": 30,
   "metadata": {
    "collapsed": false
   },
   "outputs": [
    {
     "data": {
      "text/plain": [
       "array([[ 1.,  1.,  2.],\n",
       "       [ 3.,  4.,  5.],\n",
       "       [ 6.,  7.,  9.]])"
      ]
     },
     "execution_count": 30,
     "metadata": {},
     "output_type": "execute_result"
    }
   ],
   "source": [
    "sarr = np.diag(spec)\n",
    "uarr.dot(sarr).dot(vharr)"
   ]
  },
  {
   "cell_type": "code",
   "execution_count": 47,
   "metadata": {
    "collapsed": false
   },
   "outputs": [
    {
     "name": "stderr",
     "output_type": "stream",
     "text": [
      "/home/josh/anaconda3/lib/python3.5/site-packages/ipykernel/__main__.py:5: DeprecationWarning: using a non-integer number instead of an integer will result in an error in the future\n"
     ]
    },
    {
     "data": {
      "text/plain": [
       "[<matplotlib.lines.Line2D at 0x7f4842071390>]"
      ]
     },
     "execution_count": 47,
     "metadata": {},
     "output_type": "execute_result"
    },
    {
     "data": {
      "image/png": "[encoded data removed]",
      "text/plain": [
       "<matplotlib.figure.Figure at 0x7f48421d3cc0>"
      ]
     },
     "metadata": {},
     "output_type": "display_data"
    }
   ],
   "source": [
    "time_step = 0.02\n",
    "period = 5.\n",
    "time_vec = np.arange(0, 20, time_step)\n",
    "sig = np.sin(time_vec * 2 * np.pi / period +\n",
    "             np.random.randn(20 * 1/time_step))\n",
    "%matplotlib inline\n",
    "plt.plot(time_vec, sig)"
   ]
  },
  {
   "cell_type": "code",
   "execution_count": 59,
   "metadata": {
    "collapsed": false
   },
   "outputs": [
    {
     "data": {
      "text/plain": [
       "array([  26.44670147,    5.26411593,   18.20205982,  294.68540751,\n",
       "         13.09284708,   13.4282687 ,    3.62453933,   22.8669311 ,\n",
       "         29.83068923,   31.82505396,   25.34676657,   32.53514635,\n",
       "         11.70540846,   17.91092144,    4.31451473,   25.05674134,\n",
       "          4.27334181,   16.47081957,   13.59450312,   28.0868149 ,\n",
       "         14.15284802,   27.80744658,   24.24587646,   17.24953301,\n",
       "         18.08986165,   15.87275839,   22.74653257,    8.1411692 ,\n",
       "         11.00912057,   29.7506165 ,    2.44349725,    4.81020829,\n",
       "         16.93364277,   18.88279133,   24.09941371,   24.95952675,\n",
       "         15.66241128,   15.31585104,   13.85924345,   20.12975727,\n",
       "          7.89987837,    2.23132647,   25.94183204,   24.57823156,\n",
       "          3.95787942,    8.42191787,   10.51734504,   20.06178673,\n",
       "          6.37264714,   18.48426472,   16.3033311 ,   11.2649105 ,\n",
       "         17.08604224,   30.43721191,    4.55512617,    8.71253459,\n",
       "         24.29904375,    8.21048538,   23.73423989,    9.75040141,\n",
       "          5.60281617,   18.73676409,   18.82747044,   15.69431442,\n",
       "         14.6077482 ,   25.25027343,    9.67436927,   22.40481851,\n",
       "         14.60566289,   18.90576116,   19.18085386,    2.31615025,\n",
       "         16.83186262,   22.04660068,   12.65000009,   22.60529277,\n",
       "         13.69050278,   16.87063709,   12.90406153,   23.62894771,\n",
       "         12.35133422,   18.36882896,   20.66413438,   38.93072136,\n",
       "         12.0142795 ,   11.24685867,   11.66070201,    5.35716194,\n",
       "          8.00877946,    5.65772994,   14.11473532,   14.45563418,\n",
       "         14.59974671,    5.44573439,   25.92331345,   14.77906708,\n",
       "         12.52579501,   14.08176219,   23.26705984,   16.9547863 ,\n",
       "         22.11331545,   15.21234985,   13.58835464,    7.3564693 ,\n",
       "         38.97445133,   16.17582334,   18.41092053,   13.77398989,\n",
       "         27.73506988,   22.45671359,    4.02482478,    8.58519914,\n",
       "          7.84260389,   14.9665636 ,    8.22219473,    1.25544559,\n",
       "         27.86249231,   12.61615601,   33.36508102,   25.96784234,\n",
       "         17.56614435,    8.46793362,    6.9715792 ,   32.31853281,\n",
       "         29.18251617,   19.34432768,   18.84914545,   26.2456594 ,\n",
       "         18.16268488,   10.3263536 ,    2.9033937 ,   31.84100603,\n",
       "         39.91152893,   16.93796323,   11.39099305,   13.95657243,\n",
       "          6.89673252,   18.26088915,   11.23986997,   19.46190118,\n",
       "         23.54130008,   16.76033195,   11.80835838,    5.59900644,\n",
       "         17.9512968 ,   17.5243335 ,   28.78982654,   24.20203987,\n",
       "         18.15039415,   28.47074107,   22.99415625,    8.89759073,\n",
       "         23.98961075,   10.98466313,   14.05772213,   11.17012077,\n",
       "         19.90288152,   24.64158293,   15.27564188,   25.25890555,\n",
       "         31.53845664,   18.89611646,   23.88158477,   11.60747402,\n",
       "         27.20498784,   26.6158079 ,    9.54627862,   22.57951056,\n",
       "         21.55999012,   10.67487999,   10.50700471,   18.09753426,\n",
       "         10.08706306,   29.27476004,    9.94190041,   17.97293877,\n",
       "         22.06226668,   25.76476613,    5.81458905,   15.99641037,\n",
       "         27.82048854,   10.80416178,   16.08987778,   22.33073319,\n",
       "         21.41114363,    6.32724436,    9.19055474,   34.62239525,\n",
       "         19.90142363,   32.46050843,   11.92146992,   20.07356561,\n",
       "         19.75806849,   11.2012903 ,   31.53878538,   11.02424381,\n",
       "         27.02027352,   14.45033117,   24.39905471,   16.73224714,\n",
       "         11.80799481,   14.86851848,    9.47393261,   10.259914  ,\n",
       "          5.1441738 ,   15.57530142,   26.18152259,    5.45215861,\n",
       "         20.35145083,   15.56425713,   23.23422741,   25.02267424,\n",
       "         17.19784112,   11.36612754,   12.99172891,   22.15369117,\n",
       "         16.52595987,    7.48448004,   15.02261435,   14.303844  ,\n",
       "         18.53809623,    9.45552664,   18.65802664,   28.89404209,\n",
       "         26.41819215,   15.26664323,   10.05621903,    6.15580869,\n",
       "          2.73175146,   18.6321231 ,   30.58390723,   17.23356813,\n",
       "          9.52705945,    8.63987843,   19.35008453,   10.96871506,\n",
       "         17.22639011,   27.16345209,   19.424354  ,   21.31220345,\n",
       "         15.88417213,   21.33409138,   16.38166722,   11.85412342,\n",
       "         17.87302947,   14.85520141,   21.30279609,   20.11961303,\n",
       "         10.67965283,   11.68845876,   11.50635323,    4.41159232,\n",
       "         30.99823353,    9.83938016,   44.91470595,   14.54813319,\n",
       "         10.47185324,   34.81195609,   20.67372293,   22.32490085,\n",
       "          8.11687698,    7.49815391,   31.09009027,   18.0213427 ,\n",
       "         27.18274076,   26.42189102,   18.60235077,   10.58625104,\n",
       "         17.35080629,   18.99166429,   15.35356093,   15.02037312,\n",
       "          1.77401787,   17.52806881,   12.80394221,   11.75233122,\n",
       "         15.9485229 ,    4.57887095,   24.16735801,   15.07568071,\n",
       "         20.25221919,   15.58217136,   21.93711695,   12.5272872 ,\n",
       "          7.78209976,   18.30854009,   19.06088848,   12.33220656,\n",
       "          9.12227026,    8.20524672,    0.32942926,    2.91646448,\n",
       "         16.51669335,   19.89789   ,   14.3458744 ,    5.73986496,\n",
       "          6.3654739 ,   19.98691405,   13.67588117,   11.37414756,\n",
       "          8.13361865,   21.75497994,   14.36965035,   23.76198886,\n",
       "         25.31102862,   32.07508915,   13.03317435,   25.08698108,\n",
       "         18.22266692,   11.85038639,    7.00221972,    8.34196242,\n",
       "          6.00225176,   17.44291089,   14.28784377,    6.54028905,\n",
       "         10.20974785,   22.37127404,    7.29840198,   16.6829376 ,\n",
       "          9.1756453 ,   18.64655639,   16.48357097,   10.47523809,\n",
       "         17.92346066,    6.85161619,   13.19377085,   18.30821697,\n",
       "         12.21477684,   13.8066699 ,    9.23640722,   14.95929148,\n",
       "         12.00558393,   10.49334656,   13.88111674,   18.61870167,\n",
       "         14.31991986,   13.55153282,   20.75072741,   14.85835784,\n",
       "         24.719726  ,   25.18084165,    8.535226  ,    8.91628306,\n",
       "         12.28835436,    5.05448532,   15.85365004,   13.88586797,\n",
       "         19.41470177,    9.99705787,    9.58023796,   15.95836387,\n",
       "         13.98453518,   21.1755779 ,   20.17977261,   35.17572838,\n",
       "         14.89143995,   20.27592746,   15.30896236,   26.12876225,\n",
       "         27.73608113,   15.53159332,   19.02818272,   16.96562979,\n",
       "         21.21529538,   15.75510341,   24.63339761,   39.95095766,\n",
       "          3.48358603,   27.24591805,   13.82353861,   10.45956061,\n",
       "          9.50410346,    7.65648717,    1.81450261,   16.0538515 ,\n",
       "         13.25283133,   28.65743551,   15.00233312,   15.92869382,\n",
       "          3.86215277,    6.39308958,   19.87748379,   32.02423691,\n",
       "         15.92809024,    7.24409677,    8.20348529,   17.18562164,\n",
       "         32.78170401,   17.29796047,   19.42585662,    7.52171969,\n",
       "          0.39669808,   40.15808689,   14.5733054 ,    9.53960801,\n",
       "         34.43439385,    5.43965023,   25.42350065,   10.76311641,\n",
       "         25.50238699,   14.13368997,   18.4313692 ,   18.16931975,\n",
       "         35.10805357,   17.90500462,    5.80696837,    6.61245649,\n",
       "         15.61656792,    7.98213324,   13.27879232,    6.11712452,\n",
       "         23.20341623,   13.38121662,   12.77454906,    8.42462747,\n",
       "         11.84442783,   21.19069731,   24.86586037,   25.2584261 ,\n",
       "         14.184126  ,   14.61457221,   13.83734897,    2.77011581,\n",
       "         16.59167027,   17.00906629,   24.23502725,   28.61757732,\n",
       "         18.46848576,    9.82458691,    7.95524318,   17.90370087,\n",
       "         17.02162374,    9.67002723,   17.90964234,   19.75223929,\n",
       "         14.47202437,   13.56173893,   24.7155697 ,   19.15003859,\n",
       "         38.27893402,   20.32732059,    4.46135897,   24.6830005 ,\n",
       "         21.92738574,   18.07380458,   10.98898324,   21.1683156 ,\n",
       "         10.70051487,   13.75605405,   15.44461936,   17.73340546,\n",
       "          6.46081232,   12.45688517,    4.08917871,   12.42493141,\n",
       "         17.19378858,    7.24836376,   40.10109422,    3.31117602,\n",
       "         15.42499011,   16.92949054,   30.69991549,   22.57443584,\n",
       "         17.20913551,   26.15025306,   11.40113672,    7.22051914,\n",
       "          3.01452556,    7.83236488,   21.45659068,   13.24978655,\n",
       "         22.6496164 ,   19.11366089,   11.12042175,   15.08979441,\n",
       "         11.78716598,    9.63604491,   11.43699039,   16.51138856,\n",
       "         10.43871471,   25.35281225,   19.0869181 ,   12.30000725,\n",
       "         31.85623918,    8.8728705 ,   21.88005302,   26.38557583,\n",
       "         27.59928399,   21.16658341,   29.97012928,   10.65252937,\n",
       "         35.97277538,    4.87964175,   14.82420451,    3.49929978,\n",
       "         13.87694568,   31.75614799,    4.76279293])"
      ]
     },
     "execution_count": 59,
     "metadata": {},
     "output_type": "execute_result"
    }
   ],
   "source": [
    "from scipy import fftpack\n",
    "sample_freq = fftpack.fftfreq(sig.size, d=time_step)\n",
    "sig_fft = fftpack.fft(sig)\n",
    "pidxs = np.where(sample_freq > 0)\n",
    "freqs = sample_freq[pidxs]\n",
    "power = np.abs(sig_fft)[pidxs]\n",
    "power"
   ]
  },
  {
   "cell_type": "code",
   "execution_count": 71,
   "metadata": {
    "collapsed": false
   },
   "outputs": [
    {
     "data": {
      "text/plain": [
       "[<matplotlib.lines.Line2D at 0x7f4840195be0>]"
      ]
     },
     "execution_count": 71,
     "metadata": {},
     "output_type": "execute_result"
    },
    {
     "data": {
      "image/png": "[encoded data removed]",
      "text/plain": [
       "<matplotlib.figure.Figure at 0x7f4840256c18>"
      ]
     },
     "metadata": {},
     "output_type": "display_data"
    }
   ],
   "source": [
    "from scipy import optimize\n",
    "def f(x):\n",
    "    return(x ** 2 + 10 * np.sin(x))\n",
    "a = np.arange(-10, 10, 0.1)\n",
    "plt.plot(a, f(a))"
   ]
  },
  {
   "cell_type": "code",
   "execution_count": 73,
   "metadata": {
    "collapsed": false
   },
   "outputs": [
    {
     "name": "stdout",
     "output_type": "stream",
     "text": [
      "Optimization terminated successfully.\n",
      "         Current function value: -7.945823\n",
      "         Iterations: 5\n",
      "         Function evaluations: 24\n",
      "         Gradient evaluations: 8\n"
     ]
    },
    {
     "data": {
      "text/plain": [
       "array([-1.30643939])"
      ]
     },
     "execution_count": 73,
     "metadata": {},
     "output_type": "execute_result"
    }
   ],
   "source": [
    "optimize.fmin_bfgs(f, x0 = 5)"
   ]
  },
  {
   "cell_type": "code",
   "execution_count": 74,
   "metadata": {
    "collapsed": false
   },
   "outputs": [
    {
     "name": "stdout",
     "output_type": "stream",
     "text": [
      "Optimization terminated successfully.\n",
      "         Current function value: 8.315586\n",
      "         Iterations: 5\n",
      "         Function evaluations: 24\n",
      "         Gradient evaluations: 8\n"
     ]
    },
    {
     "data": {
      "text/plain": [
       "array([ 3.83746663])"
      ]
     },
     "execution_count": 74,
     "metadata": {},
     "output_type": "execute_result"
    }
   ],
   "source": [
    "optimize.fmin_bfgs(f, x0 = 3)"
   ]
  },
  {
   "cell_type": "code",
   "execution_count": 80,
   "metadata": {
    "collapsed": false
   },
   "outputs": [
    {
     "data": {
      "text/plain": [
       "                     x: array([-1.30644017])\n",
       "                   fun: -7.945823375615137\n",
       "                   nit: 2\n",
       " minimization_failures: 0\n",
       "               message: ['requested number of basinhopping iterations completed successfully']\n",
       "                  nfev: 63\n",
       "                  njev: 21"
      ]
     },
     "execution_count": 80,
     "metadata": {},
     "output_type": "execute_result"
    }
   ],
   "source": [
    "optimize.basinhopping(f, x0 = 3, niter=100)"
   ]
  },
  {
   "cell_type": "code",
   "execution_count": 91,
   "metadata": {
    "collapsed": false
   },
   "outputs": [
    {
     "data": {
      "text/plain": [
       "array([ 0.])"
      ]
     },
     "execution_count": 91,
     "metadata": {},
     "output_type": "execute_result"
    }
   ],
   "source": [
    "# Root finding\n",
    "optimize.fsolve(f, 1)"
   ]
  },
  {
   "cell_type": "code",
   "execution_count": 94,
   "metadata": {
    "collapsed": false
   },
   "outputs": [
    {
     "data": {
      "text/plain": [
       "array([-2.47948183])"
      ]
     },
     "execution_count": 94,
     "metadata": {},
     "output_type": "execute_result"
    }
   ],
   "source": [
    "optimize.fsolve(f, -2)"
   ]
  },
  {
   "cell_type": "code",
   "execution_count": 128,
   "metadata": {
    "collapsed": false
   },
   "outputs": [
    {
     "data": {
      "text/plain": [
       "[<matplotlib.lines.Line2D at 0x7f4833ee11d0>]"
      ]
     },
     "execution_count": 128,
     "metadata": {},
     "output_type": "execute_result"
    },
    {
     "data": {
      "image/png": "[encoded data removed]",
      "text/plain": [
       "<matplotlib.figure.Figure at 0x7f4833fe3518>"
      ]
     },
     "metadata": {},
     "output_type": "display_data"
    }
   ],
   "source": [
    "xdata = np.linspace(-20, 20, 400)\n",
    "ydata = f(xdata) + 10*np.random.rand(xdata.shape[0])\n",
    "plt.plot(xdata, ydata)"
   ]
  },
  {
   "cell_type": "code",
   "execution_count": 129,
   "metadata": {
    "collapsed": false
   },
   "outputs": [
    {
     "data": {
      "text/plain": [
       "(array([  1.01978301,  10.34856359,   1.00039938]),\n",
       " array([[  1.46599816e-06,  -8.51955034e-13,   1.26823640e-16],\n",
       "        [ -8.51955034e-13,   9.64632093e-02,  -2.54619646e-05],\n",
       "        [  1.26823640e-16,  -2.54619646e-05,   6.31515540e-06]]))"
      ]
     },
     "execution_count": 129,
     "metadata": {},
     "output_type": "execute_result"
    }
   ],
   "source": [
    "def f2(x, a, b, c):\n",
    "    return(a * x ** 2 + b * np.sin(c * x))\n",
    "optimize.curve_fit(f2, xdata = xdata, ydata = ydata, p0 = [5, 5, 1])"
   ]
  },
  {
   "cell_type": "code",
   "execution_count": 130,
   "metadata": {
    "collapsed": false
   },
   "outputs": [
    {
     "data": {
      "text/plain": [
       "(array([ 1.01978301, -0.17084233,  5.05091614]),\n",
       " array([[  5.56883205e-06,  -1.23158158e-10,  -1.26337787e-12],\n",
       "        [ -1.23158158e-10,   3.61840112e-01,  -1.53698646e-04],\n",
       "        [ -1.26337787e-12,  -1.53698646e-04,   9.06762501e-02]]))"
      ]
     },
     "execution_count": 130,
     "metadata": {},
     "output_type": "execute_result"
    }
   ],
   "source": [
    "optimize.curve_fit(f2, xdata = xdata, ydata = ydata, p0 = [5, 5, 5])"
   ]
  },
  {
   "cell_type": "code",
   "execution_count": 132,
   "metadata": {
    "collapsed": false
   },
   "outputs": [
    {
     "data": {
      "text/plain": [
       "[<matplotlib.lines.Line2D at 0x7f4833e579e8>]"
      ]
     },
     "execution_count": 132,
     "metadata": {},
     "output_type": "execute_result"
    },
    {
     "data": {
      "image/png": "[encoded data removed]",
      "text/plain": [
       "<matplotlib.figure.Figure at 0x7f4833e5c160>"
      ]
     },
     "metadata": {},
     "output_type": "display_data"
    }
   ],
   "source": [
    "fit, cov = optimize.curve_fit(f2, xdata = xdata, ydata = ydata, p0 = [5, 5, 1])\n",
    "plt.plot(xdata, ydata)\n",
    "plt.plot(xdata, f2(xdata, a = fit[0], b = fit[1], c = 1))"
   ]
  }
 ],
 "metadata": {
  "kernelspec": {
   "display_name": "Python 3",
   "language": "python",
   "name": "python3"
  },
  "language_info": {
   "codemirror_mode": {
    "name": "ipython",
    "version": 3
   },
   "file_extension": ".py",
   "mimetype": "text/x-python",
   "name": "python",
   "nbconvert_exporter": "python",
   "pygments_lexer": "ipython3",
   "version": "3.5.1"
  }
 },
 "nbformat": 4,
 "nbformat_minor": 0
}
