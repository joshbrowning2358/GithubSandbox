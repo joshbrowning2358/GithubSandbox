{
 "cells": [
  {
   "cell_type": "code",
   "execution_count": 14,
   "metadata": {
    "collapsed": false
   },
   "outputs": [],
   "source": [
    "# Load main packages\n",
    "import pandas as pd\n",
    "import numpy as np\n",
    "import seaborn as sns\n",
    "import matplotlib.pyplot as plt\n",
    "import getpass # For identifying user/directory structure\n",
    "import networkx as nx\n",
    "from sklearn import linear_model\n",
    "%matplotlib inline\n",
    "\n",
    "# Load local files\n",
    "import sys # For reading files in other directories\n",
    "if(getpass.getuser() == 'rockc_000'):\n",
    "    sys.path.insert(0, 'C:/Users/rockc_000/Documents/GitHub/GithubSandbox/Python/NCAA Scripts')\n",
    "    dir = 'C:/Users/rockc_000/Documents/Personal Files/Kaggle/NCAA'\n",
    "if(getpass.getuser() == 'josh'):\n",
    "    sys.path.insert(0, '/home/josh/Documents/Github/GithubSandbox/Python/NCAA Scripts')\n",
    "    dir = '/home/josh/Documents/Personal/Kaggle/NCAA'\n",
    "from make_submission import make_submission"
   ]
  },
  {
   "cell_type": "code",
   "execution_count": 12,
   "metadata": {
    "collapsed": false
   },
   "outputs": [],
   "source": [
    "# Read in data\n",
    "seasons = pd.read_csv(dir + '/Seasons.csv')\n",
    "teams = pd.read_csv(dir + '/Teams.csv')\n",
    "regular_compact_results = pd.read_csv(dir + '/RegularSeasonCompactResults.csv')\n",
    "regular_detailed_results = pd.read_csv(dir + '/RegularSeasonDetailedResults.csv')\n",
    "tourney_compact_results = pd.read_csv(dir + '/TourneyCompactResults.csv')\n",
    "tourney_detailed_results = pd.read_csv(dir + '/TourneyDetailedResults.csv')\n",
    "tourney_seed = pd.read_csv(dir + '/TourneySeeds.csv')\n",
    "tourney_slots = pd.read_csv(dir + '/TourneySlots.csv')\n",
    "sample_submission = pd.read_csv(dir + '/SampleSubmission.csv')"
   ]
  },
  {
   "cell_type": "code",
   "execution_count": 13,
   "metadata": {
    "collapsed": false
   },
   "outputs": [
    {
     "name": "stdout",
     "output_type": "stream",
     "text": [
      "seasons:\n",
      "    Season     Dayzero Regionw    Regionx    Regiony    Regionz\n",
      "0    1985  10/29/1984    East       West    Midwest  Southeast\n",
      "1    1986  10/28/1985    East    Midwest  Southeast       West\n",
      "2    1987  10/27/1986    East  Southeast    Midwest       West\n",
      "3    1988  11/02/1987    East    Midwest  Southeast       West \n",
      "Dimension:  (32, 6)\n",
      "teams:\n",
      "    Team_Id    Team_Name\n",
      "0     1101  Abilene Chr\n",
      "1     1102    Air Force\n",
      "2     1103        Akron\n",
      "3     1104      Alabama \n",
      "Dimension:  (364, 2)\n",
      "regular_compact_results:\n",
      "    Season  Daynum  Wteam  Wscore  Lteam  Lscore Wloc  Numot\n",
      "0    1985      20   1228      81   1328      64    N      0\n",
      "1    1985      25   1106      77   1354      70    H      0\n",
      "2    1985      25   1112      63   1223      56    H      0\n",
      "3    1985      25   1165      70   1432      54    H      0 \n",
      "Dimension:  (139920, 8)\n",
      "regular_detailed_results:\n",
      "    Season  Daynum  Wteam  Wscore  Lteam  Lscore Wloc  Numot  Wfgm  Wfga ...   \\\n",
      "0    2003      10   1104      68   1328      62    N      0    27    58 ...    \n",
      "1    2003      10   1272      70   1393      63    N      0    26    62 ...    \n",
      "2    2003      11   1266      73   1437      61    N      0    24    58 ...    \n",
      "3    2003      11   1296      56   1457      50    N      0    18    38 ...    \n",
      "\n",
      "   Lfga3  Lftm  Lfta  Lor  Ldr  Last  Lto  Lstl  Lblk  Lpf  \n",
      "0     10    16    22   10   22     8   18     9     2   20  \n",
      "1     24     9    20   20   25     7   12     8     6   16  \n",
      "2     26    14    23   31   22     9   12     2     5   23  \n",
      "3     22     8    15   17   20     9   19     4     3   23  \n",
      "\n",
      "[4 rows x 34 columns] \n",
      "Dimension:  (65872, 34)\n",
      "tourney_compact_results:\n",
      "    Season  Daynum  Wteam  Wscore  Lteam  Lscore Wloc  Numot\n",
      "0    1985     136   1116      63   1234      54    N      0\n",
      "1    1985     136   1120      59   1345      58    N      0\n",
      "2    1985     136   1207      68   1250      43    N      0\n",
      "3    1985     136   1229      58   1425      55    N      0 \n",
      "Dimension:  (1983, 8)\n",
      "tourney_detailed_results:\n",
      "    Season  Daynum  Wteam  Wscore  Lteam  Lscore Wloc  Numot  Wfgm  Wfga ...   \\\n",
      "0    2003     134   1421      92   1411      84    N      1    32    69 ...    \n",
      "1    2003     136   1112      80   1436      51    N      0    31    66 ...    \n",
      "2    2003     136   1113      84   1272      71    N      0    31    59 ...    \n",
      "3    2003     136   1141      79   1166      73    N      0    29    53 ...    \n",
      "\n",
      "   Lfga3  Lftm  Lfta  Lor  Ldr  Last  Lto  Lstl  Lblk  Lpf  \n",
      "0     31    14    31   17   28    16   15     5     0   22  \n",
      "1     16     7     7    8   26    12   17    10     3   15  \n",
      "2     28    14    21   20   22    11   12     2     5   18  \n",
      "3     17    12    17   14   17    20   21     6     6   21  \n",
      "\n",
      "[4 rows x 34 columns] \n",
      "Dimension:  (847, 34)\n",
      "tourney_seed:\n",
      "    Season Seed  Team\n",
      "0    1985  W01  1207\n",
      "1    1985  W02  1210\n",
      "2    1985  W03  1228\n",
      "3    1985  W04  1260 \n",
      "Dimension:  (2014, 3)\n",
      "tourney_slots:\n",
      "    Season  Slot Strongseed Weakseed\n",
      "0    1985  R1W1        W01      W16\n",
      "1    1985  R1W2        W02      W15\n",
      "2    1985  R1W3        W03      W14\n",
      "3    1985  R1W4        W04      W13 \n",
      "Dimension:  (1983, 4)\n",
      "sample_submission:\n",
      "                Id  Pred\n",
      "0  2012_1104_1124   0.5\n",
      "1  2012_1104_1125   0.5\n",
      "2  2012_1104_1140   0.5\n",
      "3  2012_1104_1143   0.5 \n",
      "Dimension:  (9112, 2)\n"
     ]
    }
   ],
   "source": [
    "# Look at the first few rows of each dataset, and their dimensions\n",
    "# sample_submission.iloc[np.arange(5)]\n",
    "nrow = 4\n",
    "print('seasons:\\n', seasons.head(nrow), '\\nDimension: ', seasons.shape)\n",
    "print('teams:\\n', teams.head(nrow), '\\nDimension: ', teams.shape)\n",
    "print('regular_compact_results:\\n', regular_compact_results.head(nrow),\n",
    "      '\\nDimension: ', regular_compact_results.shape)\n",
    "print('regular_detailed_results:\\n', regular_detailed_results.head(nrow),\n",
    "      '\\nDimension: ', regular_detailed_results.shape)\n",
    "print('tourney_compact_results:\\n', tourney_compact_results.head(nrow),\n",
    "      '\\nDimension: ', tourney_compact_results.shape)\n",
    "print('tourney_detailed_results:\\n', tourney_detailed_results.head(nrow),\n",
    "      '\\nDimension: ', tourney_detailed_results.shape)\n",
    "print('tourney_seed:\\n', tourney_seed.head(nrow),\n",
    "      '\\nDimension: ', tourney_seed.shape)\n",
    "print('tourney_slots:\\n', tourney_slots.head(nrow),\n",
    "      '\\nDimension: ', tourney_slots.shape)\n",
    "print('sample_submission:\\n', sample_submission.head(nrow),\n",
    "      '\\nDimension: ', sample_submission.shape)"
   ]
  },
  {
   "cell_type": "markdown",
   "metadata": {},
   "source": [
    "## Pagerank algorithm on historical wins"
   ]
  },
  {
   "cell_type": "code",
   "execution_count": null,
   "metadata": {
    "collapsed": false
   },
   "outputs": [
    {
     "name": "stdout",
     "output_type": "stream",
     "text": [
      "Adding graph for season 1985\n",
      "Adding graph for season 1986\n",
      "Adding graph for season 1987\n",
      "Adding graph for season 1988"
     ]
    }
   ],
   "source": [
    "Graphs = list()\n",
    "for season in seasons['Season']:\n",
    "    G = nx.DiGraph()\n",
    "    edges = regular_compact_results.ix[regular_compact_results['Season'] == season,\n",
    "                                       ('Wteam', 'Lteam')]\n",
    "    print('Adding graph for season ' + str(season))\n",
    "    for row in np.arange(edges.shape[0]):\n",
    "        G.add_edge(edges.iloc[row][1], edges.iloc[row][0])\n",
    "    Graphs.append(nx.pagerank(G))"
   ]
  }
 ],
 "metadata": {
  "kernelspec": {
   "display_name": "Python 3",
   "language": "python",
   "name": "python3"
  },
  "language_info": {
   "codemirror_mode": {
    "name": "ipython",
    "version": 3
   },
   "file_extension": ".py",
   "mimetype": "text/x-python",
   "name": "python",
   "nbconvert_exporter": "python",
   "pygments_lexer": "ipython3",
   "version": "3.5.1"
  }
 },
 "nbformat": 4,
 "nbformat_minor": 0
}
