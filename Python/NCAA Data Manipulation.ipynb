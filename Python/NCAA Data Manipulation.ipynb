{
 "cells": [
  {
   "cell_type": "code",
   "execution_count": 1,
   "metadata": {
    "collapsed": false
   },
   "outputs": [],
   "source": [
    "# Load main packages\n",
    "import pandas as pd\n",
    "import numpy as np\n",
    "import seaborn as sns\n",
    "import matplotlib.pyplot as plt\n",
    "import getpass # For identifying user/directory structure\n",
    "import networkx as nx\n",
    "import re\n",
    "from sklearn import linear_model\n",
    "%matplotlib inline\n",
    "\n",
    "# Load local files\n",
    "import sys # For reading files in other directories\n",
    "if(getpass.getuser() == 'rockc_000'):\n",
    "    sys.path.insert(0, 'C:/Users/rockc_000/Documents/GitHub/GithubSandbox/Python/NCAA Scripts')\n",
    "    dir = 'C:/Users/rockc_000/Documents/Personal Files/Kaggle/NCAA'\n",
    "if(getpass.getuser() == 'josh'):\n",
    "    sys.path.insert(0, '/home/josh/Documents/Github/GithubSandbox/Python/NCAA Scripts')\n",
    "    dir = '/home/josh/Documents/Personal/Kaggle/NCAA'\n",
    "from make_submission import make_submission"
   ]
  },
  {
   "cell_type": "code",
   "execution_count": 2,
   "metadata": {
    "collapsed": false
   },
   "outputs": [],
   "source": [
    "# Read in data\n",
    "seasons = pd.read_csv(dir + '/Seasons.csv')\n",
    "teams = pd.read_csv(dir + '/Teams.csv')\n",
    "regular_compact_results = pd.read_csv(dir + '/RegularSeasonCompactResults.csv')\n",
    "regular_detailed_results = pd.read_csv(dir + '/RegularSeasonDetailedResults.csv')\n",
    "tourney_compact_results = pd.read_csv(dir + '/TourneyCompactResults.csv')\n",
    "tourney_detailed_results = pd.read_csv(dir + '/TourneyDetailedResults.csv')\n",
    "tourney_seed = pd.read_csv(dir + '/TourneySeeds.csv')\n",
    "tourney_slots = pd.read_csv(dir + '/TourneySlots.csv')\n",
    "sample_submission = pd.read_csv(dir + '/SampleSubmission.csv')"
   ]
  },
  {
   "cell_type": "code",
   "execution_count": 3,
   "metadata": {
    "collapsed": false
   },
   "outputs": [
    {
     "name": "stdout",
     "output_type": "stream",
     "text": [
      "seasons:\n",
      "    Season     Dayzero Regionw    Regionx    Regiony    Regionz\n",
      "0    1985  10/29/1984    East       West    Midwest  Southeast\n",
      "1    1986  10/28/1985    East    Midwest  Southeast       West\n",
      "2    1987  10/27/1986    East  Southeast    Midwest       West\n",
      "3    1988  11/02/1987    East    Midwest  Southeast       West \n",
      "Dimension:  (32, 6)\n",
      "teams:\n",
      "    Team_Id    Team_Name\n",
      "0     1101  Abilene Chr\n",
      "1     1102    Air Force\n",
      "2     1103        Akron\n",
      "3     1104      Alabama \n",
      "Dimension:  (364, 2)\n",
      "regular_compact_results:\n",
      "    Season  Daynum  Wteam  Wscore  Lteam  Lscore Wloc  Numot\n",
      "0    1985      20   1228      81   1328      64    N      0\n",
      "1    1985      25   1106      77   1354      70    H      0\n",
      "2    1985      25   1112      63   1223      56    H      0\n",
      "3    1985      25   1165      70   1432      54    H      0 \n",
      "Dimension:  (139920, 8)\n",
      "regular_detailed_results:\n",
      "    Season  Daynum  Wteam  Wscore  Lteam  Lscore Wloc  Numot  Wfgm  Wfga ...   \\\n",
      "0    2003      10   1104      68   1328      62    N      0    27    58 ...    \n",
      "1    2003      10   1272      70   1393      63    N      0    26    62 ...    \n",
      "2    2003      11   1266      73   1437      61    N      0    24    58 ...    \n",
      "3    2003      11   1296      56   1457      50    N      0    18    38 ...    \n",
      "\n",
      "   Lfga3  Lftm  Lfta  Lor  Ldr  Last  Lto  Lstl  Lblk  Lpf  \n",
      "0     10    16    22   10   22     8   18     9     2   20  \n",
      "1     24     9    20   20   25     7   12     8     6   16  \n",
      "2     26    14    23   31   22     9   12     2     5   23  \n",
      "3     22     8    15   17   20     9   19     4     3   23  \n",
      "\n",
      "[4 rows x 34 columns] \n",
      "Dimension:  (65872, 34)\n",
      "tourney_compact_results:\n",
      "    Season  Daynum  Wteam  Wscore  Lteam  Lscore Wloc  Numot\n",
      "0    1985     136   1116      63   1234      54    N      0\n",
      "1    1985     136   1120      59   1345      58    N      0\n",
      "2    1985     136   1207      68   1250      43    N      0\n",
      "3    1985     136   1229      58   1425      55    N      0 \n",
      "Dimension:  (1983, 8)\n",
      "tourney_detailed_results:\n",
      "    Season  Daynum  Wteam  Wscore  Lteam  Lscore Wloc  Numot  Wfgm  Wfga ...   \\\n",
      "0    2003     134   1421      92   1411      84    N      1    32    69 ...    \n",
      "1    2003     136   1112      80   1436      51    N      0    31    66 ...    \n",
      "2    2003     136   1113      84   1272      71    N      0    31    59 ...    \n",
      "3    2003     136   1141      79   1166      73    N      0    29    53 ...    \n",
      "\n",
      "   Lfga3  Lftm  Lfta  Lor  Ldr  Last  Lto  Lstl  Lblk  Lpf  \n",
      "0     31    14    31   17   28    16   15     5     0   22  \n",
      "1     16     7     7    8   26    12   17    10     3   15  \n",
      "2     28    14    21   20   22    11   12     2     5   18  \n",
      "3     17    12    17   14   17    20   21     6     6   21  \n",
      "\n",
      "[4 rows x 34 columns] \n",
      "Dimension:  (847, 34)\n",
      "tourney_seed:\n",
      "    Season Seed  Team\n",
      "0    1985  W01  1207\n",
      "1    1985  W02  1210\n",
      "2    1985  W03  1228\n",
      "3    1985  W04  1260 \n",
      "Dimension:  (2014, 3)\n",
      "tourney_slots:\n",
      "    Season  Slot Strongseed Weakseed\n",
      "0    1985  R1W1        W01      W16\n",
      "1    1985  R1W2        W02      W15\n",
      "2    1985  R1W3        W03      W14\n",
      "3    1985  R1W4        W04      W13 \n",
      "Dimension:  (1983, 4)\n",
      "sample_submission:\n",
      "                Id  Pred\n",
      "0  2012_1104_1124   0.5\n",
      "1  2012_1104_1125   0.5\n",
      "2  2012_1104_1140   0.5\n",
      "3  2012_1104_1143   0.5 \n",
      "Dimension:  (9112, 2)\n"
     ]
    }
   ],
   "source": [
    "# Look at the first few rows of each dataset, and their dimensions\n",
    "# sample_submission.iloc[np.arange(5)]\n",
    "nrow = 4\n",
    "print('seasons:\\n', seasons.head(nrow), '\\nDimension: ', seasons.shape)\n",
    "print('teams:\\n', teams.head(nrow), '\\nDimension: ', teams.shape)\n",
    "print('regular_compact_results:\\n', regular_compact_results.head(nrow),\n",
    "      '\\nDimension: ', regular_compact_results.shape)\n",
    "print('regular_detailed_results:\\n', regular_detailed_results.head(nrow),\n",
    "      '\\nDimension: ', regular_detailed_results.shape)\n",
    "print('tourney_compact_results:\\n', tourney_compact_results.head(nrow),\n",
    "      '\\nDimension: ', tourney_compact_results.shape)\n",
    "print('tourney_detailed_results:\\n', tourney_detailed_results.head(nrow),\n",
    "      '\\nDimension: ', tourney_detailed_results.shape)\n",
    "print('tourney_seed:\\n', tourney_seed.head(nrow),\n",
    "      '\\nDimension: ', tourney_seed.shape)\n",
    "print('tourney_slots:\\n', tourney_slots.head(nrow),\n",
    "      '\\nDimension: ', tourney_slots.shape)\n",
    "print('sample_submission:\\n', sample_submission.head(nrow),\n",
    "      '\\nDimension: ', sample_submission.shape)"
   ]
  },
  {
   "cell_type": "markdown",
   "metadata": {},
   "source": [
    "## Pagerank algorithm on historical wins"
   ]
  },
  {
   "cell_type": "code",
   "execution_count": 4,
   "metadata": {
    "collapsed": false
   },
   "outputs": [],
   "source": [
    "# Initialize DataFrame with one (meaningless) row\n",
    "pagerank_score = pd.DataFrame({'Season': [1900], 'Team': [0], 'Score': [0]})\n",
    "for season in seasons['Season']:\n",
    "    G = nx.DiGraph()\n",
    "    edges = regular_compact_results.ix[regular_compact_results['Season'] == season,\n",
    "                                       ('Wteam', 'Lteam')]\n",
    "    for row in np.arange(edges.shape[0]):\n",
    "        G.add_edge(edges.iloc[row][1], edges.iloc[row][0])\n",
    "    # Calculate the page-rank using the networkx package\n",
    "    out = nx.pagerank(G)\n",
    "    # Convert the page-rank scores into a DataFrame.\n",
    "    out = pd.DataFrame.from_dict(out, orient='index')\n",
    "    out.rename(columns={0: 'Score'}, inplace=True)\n",
    "    out['Team'] = out.index\n",
    "    out['Season'] = season\n",
    "    pagerank_score = pagerank_score.append(out)\n",
    "pagerank_score = pagerank_score.ix[pagerank_score['Team'] != 0]"
   ]
  },
  {
   "cell_type": "markdown",
   "metadata": {},
   "source": [
    "## Aggregated Statistics"
   ]
  },
  {
   "cell_type": "code",
   "execution_count": 5,
   "metadata": {
    "collapsed": false
   },
   "outputs": [],
   "source": [
    "win_count = regular_compact_results.groupby(('Season', 'Wteam'))\n",
    "win_count = win_count['Daynum'].count()\n",
    "\n",
    "# Aggregate the scores for the winning team and losing team\n",
    "# as well as the number of games played.\n",
    "win_pts = regular_compact_results.groupby(('Season', 'Wteam'))\n",
    "win_pts = pd.merge(win_pts[('Lscore', 'Wscore')].sum(),\n",
    "                    pd.DataFrame(win_pts['Season'].count()),\n",
    "                    left_index=True, right_index=True)\n",
    "lose_pts = regular_compact_results.groupby(('Season', 'Lteam'))\n",
    "lose_pts = pd.merge(lose_pts[('Lscore', 'Wscore')].sum(),\n",
    "                    pd.DataFrame(lose_pts['Season'].count()),\n",
    "                    left_index=True, right_index=True)\n",
    "\n",
    "win_pts.index.set_names(('Season', 'Team'), inplace=True)\n",
    "lose_pts.index.set_names(('Season', 'Team'), inplace=True)\n",
    "lose_pts.rename(columns={'Lscore': 'Points_for', 'Wscore': 'Points_againt',\n",
    "                         'Season': 'Game_cnt'}, inplace=True)\n",
    "win_pts.rename(columns={'Wscore': 'Points_for', 'Lscore': 'Points_againt',\n",
    "                        'Season': 'Game_cnt'}, inplace=True)\n",
    "total_pts = win_pts.append(lose_pts)\n",
    "total_pts = total_pts.groupby(total_pts.index).sum()"
   ]
  },
  {
   "cell_type": "code",
   "execution_count": 6,
   "metadata": {
    "collapsed": false
   },
   "outputs": [
    {
     "name": "stdout",
     "output_type": "stream",
     "text": [
      "Game_cnt           24\n",
      "Points_againt    1653\n",
      "Points_for       1514\n",
      "Name: (1985, 1102), dtype: int64\n",
      "Points_againt    305\n",
      "Points_for       355\n",
      "Game_cnt           5\n",
      "Name: 1102, dtype: int64\n",
      "Points_for       1159\n",
      "Points_againt    1348\n",
      "Game_cnt           19\n",
      "Name: 1102, dtype: int64\n"
     ]
    }
   ],
   "source": [
    "print(total_pts.iloc[0, :])\n",
    "print(win_pts.loc[1985].loc[1102])\n",
    "print(lose_pts.loc[1985].loc[1102])"
   ]
  },
  {
   "cell_type": "code",
   "execution_count": 70,
   "metadata": {
    "collapsed": false
   },
   "outputs": [],
   "source": [
    "#stat_vars = np.array(('or', 'dr', 'ast', 'to', 'stl', 'blk', 'pf'),\n",
    "#                     dtype=str)\n",
    "#win_vars = np.array(['W' + x for x in stat_vars])\n",
    "#lose_vars = np.array(['L' + x for x in stat_vars])\n",
    "\n",
    "# Add a column to make counting games easier:\n",
    "regular_detailed_results['all_one'] = 1\n",
    "detail_win = regular_detailed_results.groupby(('Season', 'Wteam'))\n",
    "detail_win = detail_win[('Wor', 'Wdr', 'Wast', 'Wto', 'Wstl', 'Wblk', 'Wpf',\n",
    "                         'Lor', 'Ldr', 'Last', 'Lto', 'Lstl', 'Lblk', 'Lpf',\n",
    "                         'all_one')].sum()\n",
    "def col_rename(col_name):\n",
    "    if(re.search('W', col_name) is not None):\n",
    "        col_name = re.sub('W', '', col_name)\n",
    "        col_name = col_name + '_for'\n",
    "    if(re.search('L', col_name) is not None):\n",
    "        col_name = re.sub('L', '', col_name)\n",
    "        col_name = col_name + '_against'\n",
    "    return(col_name)\n",
    "detail_win.rename(columns=col_rename, inplace=True)\n",
    "detail_win.index.set_names(('Season', 'Team'), inplace=True)\n",
    "\n",
    "detail_lose = regular_detailed_results.groupby(('Season', 'Lteam'))\n",
    "detail_lose = detail_lose[('Lor', 'Ldr', 'Last', 'Lto', 'Lstl', 'Lblk', 'Lpf',\n",
    "                           'Wor', 'Wdr', 'Wast', 'Wto', 'Wstl', 'Wblk', 'Wpf',\n",
    "                           'all_one')].sum()\n",
    "def col_rename(col_name):\n",
    "    if(re.search('W', col_name) is not None):\n",
    "        col_name = re.sub('W', '', col_name)\n",
    "        col_name = col_name + '_against'\n",
    "    if(re.search('L', col_name) is not None):\n",
    "        col_name = re.sub('L', '', col_name)\n",
    "        col_name = col_name + '_for'\n",
    "    return(col_name)\n",
    "detail_lose.rename(columns=col_rename, inplace=True)\n",
    "detail_lose.index.set_names(('Season', 'Team'), inplace=True)\n",
    "\n",
    "detail_data = detail_win.append(detail_lose)\n",
    "detail_data = detail_data.groupby(detail_data.index).sum()"
   ]
  }
 ],
 "metadata": {
  "kernelspec": {
   "display_name": "Python 3",
   "language": "python",
   "name": "python3"
  },
  "language_info": {
   "codemirror_mode": {
    "name": "ipython",
    "version": 3
   },
   "file_extension": ".py",
   "mimetype": "text/x-python",
   "name": "python",
   "nbconvert_exporter": "python",
   "pygments_lexer": "ipython3",
   "version": "3.5.1"
  }
 },
 "nbformat": 4,
 "nbformat_minor": 0
}
