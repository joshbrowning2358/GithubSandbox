{
 "cells": [
  {
   "cell_type": "markdown",
   "metadata": {},
   "source": [
    "1 Import the numpy package under the name np"
   ]
  },
  {
   "cell_type": "code",
   "execution_count": 2,
   "metadata": {
    "collapsed": true
   },
   "outputs": [],
   "source": [
    "import numpy as np\n",
    "import scipy as sp"
   ]
  },
  {
   "cell_type": "markdown",
   "metadata": {},
   "source": [
    "2 Print the numpy version and the configuration"
   ]
  },
  {
   "cell_type": "code",
   "execution_count": 3,
   "metadata": {
    "collapsed": false
   },
   "outputs": [
    {
     "name": "stdout",
     "output_type": "stream",
     "text": [
      "1.10.1\n"
     ]
    }
   ],
   "source": [
    "print(np.__version__)"
   ]
  },
  {
   "cell_type": "markdown",
   "metadata": {},
   "source": [
    "3 Create a null vector of size 10"
   ]
  },
  {
   "cell_type": "code",
   "execution_count": 4,
   "metadata": {
    "collapsed": false
   },
   "outputs": [
    {
     "name": "stdout",
     "output_type": "stream",
     "text": [
      "[ 0.  0.  0.  0.  0.  0.  0.  0.  0.  0.]\n"
     ]
    }
   ],
   "source": [
    "z = np.zeros(10)\n",
    "print(z)"
   ]
  },
  {
   "cell_type": "markdown",
   "metadata": {},
   "source": [
    "4 How to get the documentation of the numpy add function from the command line ?"
   ]
  },
  {
   "cell_type": "code",
   "execution_count": 5,
   "metadata": {
    "collapsed": false
   },
   "outputs": [
    {
     "name": "stdout",
     "output_type": "stream",
     "text": [
      "add(x1, x2[, out])\n",
      "\n",
      "Add arguments element-wise.\n",
      "\n",
      "Parameters\n",
      "----------\n",
      "x1, x2 : array_like\n",
      "    The arrays to be added.  If ``x1.shape != x2.shape``, they must be\n",
      "    broadcastable to a common shape (which may be the shape of one or\n",
      "    the other).\n",
      "\n",
      "Returns\n",
      "-------\n",
      "add : ndarray or scalar\n",
      "    The sum of `x1` and `x2`, element-wise.  Returns a scalar if\n",
      "    both  `x1` and `x2` are scalars.\n",
      "\n",
      "Notes\n",
      "-----\n",
      "Equivalent to `x1` + `x2` in terms of array broadcasting.\n",
      "\n",
      "Examples\n",
      "--------\n",
      ">>> np.add(1.0, 4.0)\n",
      "5.0\n",
      ">>> x1 = np.arange(9.0).reshape((3, 3))\n",
      ">>> x2 = np.arange(3.0)\n",
      ">>> np.add(x1, x2)\n",
      "array([[  0.,   2.,   4.],\n",
      "       [  3.,   5.,   7.],\n",
      "       [  6.,   8.,  10.]])\n"
     ]
    }
   ],
   "source": [
    "np.info(np.add)"
   ]
  },
  {
   "cell_type": "markdown",
   "metadata": {},
   "source": [
    "5 Create a null vector of size 10 but the fifth value which is 1"
   ]
  },
  {
   "cell_type": "code",
   "execution_count": 6,
   "metadata": {
    "collapsed": false
   },
   "outputs": [
    {
     "name": "stdout",
     "output_type": "stream",
     "text": [
      "[ 0.  0.  0.  0.  1.  0.  0.  0.  0.  0.]\n"
     ]
    }
   ],
   "source": [
    "z = np.zeros(10)\n",
    "z[4] = 1\n",
    "print(z)"
   ]
  },
  {
   "cell_type": "markdown",
   "metadata": {},
   "source": [
    "6 Create a vector with values ranging from 10 to 49"
   ]
  },
  {
   "cell_type": "code",
   "execution_count": 7,
   "metadata": {
    "collapsed": false
   },
   "outputs": [
    {
     "name": "stdout",
     "output_type": "stream",
     "text": [
      "[ 1 11 12 13 14 15 16 17 18 19 20 21 22 23 24 25 26 27 28 29 30 31 32 33 34\n",
      " 35 36 37 38 39 40 41 42 43 44 45 46 47 48]\n"
     ]
    }
   ],
   "source": [
    "x = np.arange(10, 49)\n",
    "x[0] = 1\n",
    "print(x)"
   ]
  },
  {
   "cell_type": "markdown",
   "metadata": {},
   "source": [
    "7 Reverse a vector (first element becomes last)"
   ]
  },
  {
   "cell_type": "code",
   "execution_count": 8,
   "metadata": {
    "collapsed": false
   },
   "outputs": [
    {
     "name": "stdout",
     "output_type": "stream",
     "text": [
      "[20 19 18 17 16 15 14 13 12 11 10  9  8  7  6  5  4  3  2]\n",
      "[20 13  6]\n",
      "[99 98 97 96 95 94 93 92 91 90 89 88 87 86 85 84 83 82 81 80 79 78 77 76 75\n",
      " 74 73 72 71 70 69 68 67 66 65 64 63 62 61 60 59 58 57 56 55 54 53 52 51 50\n",
      " 49 48 47 46 45 44 43 42 41 40 39 38 37 36 35 34 33 32 31 30 29 28 27 26 25\n",
      " 24 23 22 21 20 19 18 17 16 15 14 13 12 11 10  9  8  7  6  5  4  3  2  1  0]\n"
     ]
    }
   ],
   "source": [
    "x = np.arange(100)\n",
    "print(x[20:1:-1])\n",
    "print(x[20:1:-7])\n",
    "print(x[::-1])"
   ]
  },
  {
   "cell_type": "markdown",
   "metadata": {},
   "source": [
    "8 Create a 3x3 matrix with values ranging from 0 to 8"
   ]
  },
  {
   "cell_type": "code",
   "execution_count": 9,
   "metadata": {
    "collapsed": false
   },
   "outputs": [
    {
     "name": "stdout",
     "output_type": "stream",
     "text": [
      "[[0 1 2]\n",
      " [3 4 5]\n",
      " [6 7 8]]\n",
      "[[0 1 2]\n",
      " [3 4 5]\n",
      " [6 7 8]]\n"
     ]
    }
   ],
   "source": [
    "x = np.arange(9)\n",
    "y = np.vstack([x[0:3], x[3:6], x[6:9]])\n",
    "print(y)\n",
    "\n",
    "y = np.reshape(x, newshape = (3, 3))\n",
    "print(y)"
   ]
  },
  {
   "cell_type": "markdown",
   "metadata": {},
   "source": [
    "9 Find indices of non-zero elements from [1,2,0,0,4,0]"
   ]
  },
  {
   "cell_type": "code",
   "execution_count": 10,
   "metadata": {
    "collapsed": false
   },
   "outputs": [
    {
     "name": "stdout",
     "output_type": "stream",
     "text": [
      "[False, False, True, True, False, True]\n"
     ]
    }
   ],
   "source": [
    "x = [1, 2, 0, 0, 4, 0]\n",
    "y = [i == 0 for i in x]\n",
    "print(y)"
   ]
  },
  {
   "cell_type": "markdown",
   "metadata": {},
   "source": [
    "10 Create a 3x3 identity matrix"
   ]
  },
  {
   "cell_type": "code",
   "execution_count": 11,
   "metadata": {
    "collapsed": false
   },
   "outputs": [
    {
     "name": "stdout",
     "output_type": "stream",
     "text": [
      "[[ 1.  0.  0.]\n",
      " [ 0.  1.  0.]\n",
      " [ 0.  0.  1.]]\n"
     ]
    }
   ],
   "source": [
    "x = np.identity(3)\n",
    "print(x)"
   ]
  },
  {
   "cell_type": "markdown",
   "metadata": {},
   "source": [
    "11 Create a 3x3x3 array with random values"
   ]
  },
  {
   "cell_type": "code",
   "execution_count": 12,
   "metadata": {
    "collapsed": false
   },
   "outputs": [
    {
     "name": "stdout",
     "output_type": "stream",
     "text": [
      "[[[-0.30762244  1.13051479  0.65941757]\n",
      "  [ 0.75746956  0.49534201 -2.10289084]\n",
      "  [ 2.04393897 -1.70403894  0.23024014]]\n",
      "\n",
      " [[-0.37304324 -2.23816291 -0.40560343]\n",
      "  [-0.4397355   0.79181846  0.5295583 ]\n",
      "  [-1.03668425 -1.16708904 -1.09368245]]\n",
      "\n",
      " [[ 0.64914746 -1.30467822  0.3682863 ]\n",
      "  [-1.04641718  0.8218299   1.08946102]\n",
      "  [-1.032714   -1.87277088  0.3768051 ]]]\n"
     ]
    }
   ],
   "source": [
    "y = np.random.normal(size = 27)\n",
    "x = np.reshape(y, (3, 3, 3))\n",
    "print(x)"
   ]
  },
  {
   "cell_type": "markdown",
   "metadata": {},
   "source": [
    "12 Create a 10x10 array with random values and find the minimum and maximum values"
   ]
  },
  {
   "cell_type": "code",
   "execution_count": 13,
   "metadata": {
    "collapsed": false
   },
   "outputs": [
    {
     "name": "stdout",
     "output_type": "stream",
     "text": [
      "0.0171924058366\n",
      "0.998362401507\n"
     ]
    }
   ],
   "source": [
    "z = np.random.random((10, 10))\n",
    "print(z.min())\n",
    "print(z.max())"
   ]
  },
  {
   "cell_type": "markdown",
   "metadata": {},
   "source": [
    "13 Create a random vector of size 30 and find the mean value"
   ]
  },
  {
   "cell_type": "code",
   "execution_count": 14,
   "metadata": {
    "collapsed": false
   },
   "outputs": [
    {
     "data": {
      "text/plain": [
       "0.5776602665662558"
      ]
     },
     "execution_count": 14,
     "metadata": {},
     "output_type": "execute_result"
    }
   ],
   "source": [
    "z = np.random.random(30)\n",
    "z.mean()"
   ]
  },
  {
   "cell_type": "markdown",
   "metadata": {},
   "source": [
    "14 Create a 5x5 matrix with values 1,2,3,4 just below the diagonal"
   ]
  },
  {
   "cell_type": "code",
   "execution_count": 15,
   "metadata": {
    "collapsed": false
   },
   "outputs": [
    {
     "name": "stdout",
     "output_type": "stream",
     "text": [
      "[[ 0.  0.  0.  0.  0.]\n",
      " [ 1.  0.  0.  0.  0.]\n",
      " [ 2.  1.  0.  0.  0.]\n",
      " [ 3.  2.  1.  0.  0.]\n",
      " [ 4.  3.  2.  1.  0.]]\n"
     ]
    }
   ],
   "source": [
    "M = np.zeros((5, 5))\n",
    "for row in range(0, 5):\n",
    "    for column in range(0, 5):\n",
    "        M[row, column] = max(row - column, 0)\n",
    "print(M)"
   ]
  },
  {
   "cell_type": "code",
   "execution_count": 16,
   "metadata": {
    "collapsed": false
   },
   "outputs": [
    {
     "name": "stdout",
     "output_type": "stream",
     "text": [
      "[[0 0 0 0 0]\n",
      " [1 0 0 0 0]\n",
      " [0 2 0 0 0]\n",
      " [0 0 3 0 0]\n",
      " [0 0 0 4 0]]\n"
     ]
    }
   ],
   "source": [
    "Z = np.diag(1+np.arange(4),k=-1)\n",
    "print(Z)"
   ]
  },
  {
   "cell_type": "markdown",
   "metadata": {},
   "source": [
    "15 Create a 8x8 matrix and fill it with a checkerboard pattern"
   ]
  },
  {
   "cell_type": "code",
   "execution_count": 17,
   "metadata": {
    "collapsed": false
   },
   "outputs": [
    {
     "name": "stdout",
     "output_type": "stream",
     "text": [
      "[[ 0.  1.  0.  1.  0.  1.  0.  0.]\n",
      " [ 1.  0.  1.  0.  1.  0.  1.  0.]\n",
      " [ 0.  1.  0.  1.  0.  1.  0.  1.]\n",
      " [ 1.  0.  1.  0.  1.  0.  1.  0.]\n",
      " [ 0.  1.  0.  1.  0.  1.  0.  1.]\n",
      " [ 1.  0.  1.  0.  1.  0.  1.  0.]\n",
      " [ 0.  1.  0.  1.  0.  1.  0.  1.]\n",
      " [ 1.  0.  1.  0.  1.  0.  1.  0.]]\n"
     ]
    }
   ],
   "source": [
    "M = np.zeros((8,8), dtype = int)\n",
    "for i in range(-7, 7, 2):\n",
    "    length = 8 - abs(i)\n",
    "    M = M + np.diag(np.ones(length), k = i)\n",
    "print(M)"
   ]
  },
  {
   "cell_type": "code",
   "execution_count": 18,
   "metadata": {
    "collapsed": false
   },
   "outputs": [
    {
     "name": "stdout",
     "output_type": "stream",
     "text": [
      "[[0 1 0 1 0 1 0 1]\n",
      " [1 0 1 0 1 0 1 0]\n",
      " [0 1 0 1 0 1 0 1]\n",
      " [1 0 1 0 1 0 1 0]\n",
      " [0 1 0 1 0 1 0 1]\n",
      " [1 0 1 0 1 0 1 0]\n",
      " [0 1 0 1 0 1 0 1]\n",
      " [1 0 1 0 1 0 1 0]]\n",
      "[[0 1 0 1 0 1 0 1]\n",
      " [1 0 1 0 1 0 1 0]\n",
      " [0 1 0 1 0 1 0 1]\n",
      " [1 0 1 0 1 0 1 0]\n",
      " [0 1 0 1 0 1 0 1]\n",
      " [1 0 1 0 1 0 1 0]\n",
      " [0 1 0 1 0 1 0 1]\n",
      " [1 0 1 0 1 0 1 0]]\n"
     ]
    }
   ],
   "source": [
    "Z = np.zeros((8,8),dtype=int)\n",
    "# Hard to understand, but can leave out unneeded values\n",
    "Z[1::2,::2] = 1\n",
    "Z[::2,1::2] = 1\n",
    "# More clear with all values:\n",
    "Y = np.zeros((8,8),dtype=int)\n",
    "Y[1:8:2,0:8:2] = 1\n",
    "Y[0:8:2,1:8:2] = 1\n",
    "print(Z)\n",
    "print(Y)"
   ]
  },
  {
   "cell_type": "markdown",
   "metadata": {},
   "source": [
    "16 Create a checkerboard 8x8 matrix using the tile function"
   ]
  },
  {
   "cell_type": "code",
   "execution_count": 19,
   "metadata": {
    "collapsed": false
   },
   "outputs": [
    {
     "name": "stdout",
     "output_type": "stream",
     "text": [
      "[[1 0 1 0 1 0 1 0]\n",
      " [0 1 0 1 0 1 0 1]\n",
      " [1 0 1 0 1 0 1 0]\n",
      " [0 1 0 1 0 1 0 1]\n",
      " [1 0 1 0 1 0 1 0]\n",
      " [0 1 0 1 0 1 0 1]\n",
      " [1 0 1 0 1 0 1 0]\n",
      " [0 1 0 1 0 1 0 1]]\n"
     ]
    }
   ],
   "source": [
    "M = np.diag([1, 1])\n",
    "M2 = np.tile(M, reps = (4, 4))\n",
    "print(M2)"
   ]
  },
  {
   "cell_type": "markdown",
   "metadata": {},
   "source": [
    "17 Normalize a 5x5 random matrix"
   ]
  },
  {
   "cell_type": "code",
   "execution_count": 20,
   "metadata": {
    "collapsed": false
   },
   "outputs": [
    {
     "name": "stdout",
     "output_type": "stream",
     "text": [
      "-6.43929354283e-17 1.0\n"
     ]
    }
   ],
   "source": [
    "M = np.random.random((5, 5))\n",
    "mu = M.mean()\n",
    "sigma = M.std()\n",
    "M2 = (M - mu)/sigma\n",
    "print(M2.mean(), M2.std())"
   ]
  },
  {
   "cell_type": "markdown",
   "metadata": {},
   "source": [
    "18 Multiply a 5x3 matrix by a 3x2 matrix (real matrix product)"
   ]
  },
  {
   "cell_type": "code",
   "execution_count": 21,
   "metadata": {
    "collapsed": false
   },
   "outputs": [
    {
     "data": {
      "text/plain": [
       "array([[ 0.54845277,  0.93610354],\n",
       "       [ 0.5083926 ,  0.76914566],\n",
       "       [ 0.74300885,  0.85493792],\n",
       "       [ 0.71621441,  0.72214397],\n",
       "       [ 0.3556726 ,  0.6451011 ]])"
      ]
     },
     "execution_count": 21,
     "metadata": {},
     "output_type": "execute_result"
    }
   ],
   "source": [
    "A = np.random.random((5, 3))\n",
    "B = np.random.random((3, 2))\n",
    "np.dot(A, B)"
   ]
  },
  {
   "cell_type": "markdown",
   "metadata": {},
   "source": [
    "19 Create a 5x5 matrix with row values ranging from 0 to 4"
   ]
  },
  {
   "cell_type": "code",
   "execution_count": 22,
   "metadata": {
    "collapsed": false
   },
   "outputs": [
    {
     "name": "stdout",
     "output_type": "stream",
     "text": [
      "[[3 2 3 2 2]\n",
      " [2 3 3 4 1]\n",
      " [3 4 1 3 3]\n",
      " [1 3 1 3 3]\n",
      " [2 2 3 0 2]]\n"
     ]
    }
   ],
   "source": [
    "A = np.random.binomial(size = (5,5), n = 5, p = .5)\n",
    "print(A)"
   ]
  },
  {
   "cell_type": "markdown",
   "metadata": {},
   "source": [
    "20 Create a vector of size 10 with values ranging from 0 to 1, both excluded"
   ]
  },
  {
   "cell_type": "code",
   "execution_count": 23,
   "metadata": {
    "collapsed": false
   },
   "outputs": [
    {
     "data": {
      "text/plain": [
       "array([ 0.09090909,  0.18181818,  0.27272727,  0.36363636,  0.45454545,\n",
       "        0.54545455,  0.63636364,  0.72727273,  0.81818182,  0.90909091])"
      ]
     },
     "execution_count": 23,
     "metadata": {},
     "output_type": "execute_result"
    }
   ],
   "source": [
    "np.arange(start = 1/11, stop = 1, step = 1/11)"
   ]
  },
  {
   "cell_type": "markdown",
   "metadata": {},
   "source": [
    "21 Create a random vector of size 10 and sort it"
   ]
  },
  {
   "cell_type": "code",
   "execution_count": 24,
   "metadata": {
    "collapsed": false
   },
   "outputs": [
    {
     "name": "stdout",
     "output_type": "stream",
     "text": [
      "[23 25 73 59 97 60 46 71 44 93]\n",
      "[23 25 44 46 59 60 71 73 93 97]\n"
     ]
    }
   ],
   "source": [
    "x = np.random.randint(size = 10, low = 0, high = 100)\n",
    "print(x)\n",
    "print(np.sort(x))"
   ]
  },
  {
   "cell_type": "markdown",
   "metadata": {},
   "source": [
    "22 Consider two random array A anb B, check if they are equal"
   ]
  },
  {
   "cell_type": "code",
   "execution_count": 25,
   "metadata": {
    "collapsed": false
   },
   "outputs": [
    {
     "data": {
      "text/plain": [
       "False"
      ]
     },
     "execution_count": 25,
     "metadata": {},
     "output_type": "execute_result"
    }
   ],
   "source": [
    "A = np.random.random((3, 3))\n",
    "B = np.random.random((3, 3))\n",
    "(A == B).all()"
   ]
  },
  {
   "cell_type": "markdown",
   "metadata": {},
   "source": [
    "23 Make an array immutable (read-only)"
   ]
  },
  {
   "cell_type": "code",
   "execution_count": 26,
   "metadata": {
    "collapsed": false
   },
   "outputs": [
    {
     "name": "stdout",
     "output_type": "stream",
     "text": [
      "[ 0.  0.  0.  0.  0.  0.  0.  0.  0.  0.]\n"
     ]
    }
   ],
   "source": [
    "x = np.zeros(10)\n",
    "x.flags.writeable = False\n",
    "print(x)\n",
    "# Throws error:\n",
    "# x[0] = 1"
   ]
  },
  {
   "cell_type": "markdown",
   "metadata": {},
   "source": [
    "24 Consider a random 10x2 matrix representing cartesian coordinates, convert them to polar coordinates"
   ]
  },
  {
   "cell_type": "code",
   "execution_count": 27,
   "metadata": {
    "collapsed": false
   },
   "outputs": [
    {
     "data": {
      "text/plain": [
       "array([[ 0.47637095, -1.32448762,  1.40754991, -1.22553794],\n",
       "       [ 0.33298117,  0.15958153,  0.36924616,  0.44691097],\n",
       "       [ 1.13555754,  0.68425763,  1.32578257,  0.54231012],\n",
       "       [ 0.80584706,  0.87121936,  1.18676562,  0.82435859],\n",
       "       [ 0.17904783,  0.20335843,  0.27094792,  0.84888545],\n",
       "       [ 0.66608109, -0.21901002,  0.70116289, -0.31766849],\n",
       "       [-1.00817785,  0.23967413,  1.03627519,  2.90819514],\n",
       "       [ 1.08405739, -0.83960786,  1.37117533, -0.65900074],\n",
       "       [-0.7144077 , -0.78432484,  1.0609165 , -2.30957744],\n",
       "       [ 1.00611102, -0.7736007 ,  1.26914043, -0.655489  ]])"
      ]
     },
     "execution_count": 27,
     "metadata": {},
     "output_type": "execute_result"
    }
   ],
   "source": [
    "coords = np.random.normal(size = (10, 2))\n",
    "x = coords[:, 0]\n",
    "y = coords[:, 1]\n",
    "coordsPolar = np.zeros((10, 2))\n",
    "coordsPolar[:, 0] = np.sqrt(x*x + y*y)\n",
    "coordsPolar[:, 1] = np.arctan2(y, x)\n",
    "np.hstack((coords, coordsPolar))"
   ]
  },
  {
   "cell_type": "markdown",
   "metadata": {},
   "source": [
    "25 Create random vector of size 10 and replace the maximum value by 0"
   ]
  },
  {
   "cell_type": "code",
   "execution_count": 28,
   "metadata": {
    "collapsed": false
   },
   "outputs": [
    {
     "name": "stdout",
     "output_type": "stream",
     "text": [
      "[ 0.25214142  0.58702175  0.2656311   0.13100649  0.52827158  0.41945266\n",
      "  0.24437953  0.30195678  0.04819004  0.89059317]\n",
      "[ 0.25214142  0.58702175  0.2656311   0.13100649  0.52827158  0.41945266\n",
      "  0.24437953  0.30195678  0.04819004  0.        ]\n"
     ]
    }
   ],
   "source": [
    "x = np.random.rand(10)\n",
    "print(x)\n",
    "x[x.argmax()] = 0\n",
    "print(x)"
   ]
  },
  {
   "cell_type": "markdown",
   "metadata": {},
   "source": [
    "26 Create a structured array with x and y coordinates covering the [0,1]x[0,1] area"
   ]
  },
  {
   "cell_type": "code",
   "execution_count": 29,
   "metadata": {
    "collapsed": false
   },
   "outputs": [],
   "source": [
    "ans = [(x, y) for x in np.arange(0, 1, .1) for y in np.arange(0, 1, .1)]"
   ]
  },
  {
   "cell_type": "markdown",
   "metadata": {},
   "source": [
    "27 Print the minimum and maximum representable value for each numpy scalar type"
   ]
  },
  {
   "cell_type": "code",
   "execution_count": 30,
   "metadata": {
    "collapsed": false
   },
   "outputs": [
    {
     "name": "stdout",
     "output_type": "stream",
     "text": [
      "-128\n",
      "127\n",
      "-2147483648\n",
      "2147483647\n",
      "-9223372036854775808\n",
      "9223372036854775807\n",
      "-3.40282e+38\n",
      "3.40282e+38\n",
      "1.19209e-07\n",
      "-1.79769313486e+308\n",
      "1.79769313486e+308\n",
      "2.22044604925e-16\n"
     ]
    }
   ],
   "source": [
    "for dtype in [np.int8, np.int32, np.int64]:\n",
    "   print(np.iinfo(dtype).min)\n",
    "   print(np.iinfo(dtype).max)\n",
    "for dtype in [np.float32, np.float64]:\n",
    "   print(np.finfo(dtype).min)\n",
    "   print(np.finfo(dtype).max)\n",
    "   print(np.finfo(dtype).eps)"
   ]
  },
  {
   "cell_type": "markdown",
   "metadata": {},
   "source": [
    "28 Create a structured array representing a position (x,y) and a color (r,g,b)"
   ]
  },
  {
   "cell_type": "code",
   "execution_count": 31,
   "metadata": {
    "collapsed": false
   },
   "outputs": [
    {
     "data": {
      "text/plain": [
       "array([((0.0, 0.0), (0.0, 0.0, 0.0)), ((0.0, 0.0), (0.0, 0.0, 0.0)),\n",
       "       ((0.0, 0.0), (0.0, 0.0, 0.0)), ((0.0, 0.0), (0.0, 0.0, 0.0)),\n",
       "       ((0.0, 0.0), (0.0, 0.0, 0.0)), ((0.0, 0.0), (0.0, 0.0, 0.0)),\n",
       "       ((0.0, 0.0), (0.0, 0.0, 0.0)), ((0.0, 0.0), (0.0, 0.0, 0.0)),\n",
       "       ((0.0, 0.0), (0.0, 0.0, 0.0)), ((0.0, 0.0), (0.0, 0.0, 0.0))], \n",
       "      dtype=[('position', [('x', '<f8'), ('y', '<f8')]), ('color', [('r', '<f8'), ('g', '<f8'), ('b', '<f8')])])"
      ]
     },
     "execution_count": 31,
     "metadata": {},
     "output_type": "execute_result"
    }
   ],
   "source": [
    "ans = np.zeros(10, [('position', [('x', float, 1),\n",
    "                                  ('y', float, 1)]),\n",
    "                    ('color', [('r', float, 1),\n",
    "                               ('g', float, 1),\n",
    "                               ('b', float, 1)])])\n",
    "ans"
   ]
  },
  {
   "cell_type": "markdown",
   "metadata": {},
   "source": [
    "29 Consider a random vector with shape (100,2) representing coordinates, find point by point distances"
   ]
  },
  {
   "cell_type": "code",
   "execution_count": 32,
   "metadata": {
    "collapsed": false
   },
   "outputs": [
    {
     "data": {
      "text/plain": [
       "array([[ 0.        ,  0.22120261,  0.74721822, -0.04370614],\n",
       "       [-0.22120261,  0.        ,  0.52601561, -0.26490875],\n",
       "       [-0.74721822, -0.52601561,  0.        , -0.79092436],\n",
       "       [ 0.04370614,  0.26490875,  0.79092436,  0.        ]])"
      ]
     },
     "execution_count": 32,
     "metadata": {},
     "output_type": "execute_result"
    }
   ],
   "source": [
    "randVec = np.random.rand(100, 2)\n",
    "dist = np.zeros((100, 100))\n",
    "for i in np.arange(0, 100):\n",
    "    for j in np.arange(0, 100):\n",
    "        dist[i, j] = (randVec[i, :] - randVec[j, :]).sum()\n",
    "# Print a subset\n",
    "dist[np.ix_(np.arange(0, 4), np.arange(0, 4))]"
   ]
  },
  {
   "cell_type": "code",
   "execution_count": 33,
   "metadata": {
    "collapsed": false,
    "scrolled": false
   },
   "outputs": [
    {
     "name": "stdout",
     "output_type": "stream",
     "text": [
      "[[ 0.26050017  0.69154287  0.02605483  0.66506893  0.82715761]]\n",
      "[[ 0.26050017]\n",
      " [ 0.69154287]\n",
      " [ 0.02605483]\n",
      " [ 0.66506893]\n",
      " [ 0.82715761]]\n",
      "\n",
      "[[ 0.          0.62271157  0.66178431  0.43604963  1.06372777]\n",
      " [ 0.62271157  0.          0.68672292  0.28795664  0.47077438]\n",
      " [ 0.66178431  0.68672292  0.          0.7851418   0.84907749]\n",
      " [ 0.43604963  0.28795664  0.7851418   0.          0.75515609]\n",
      " [ 1.06372777  0.47077438  0.84907749  0.75515609  0.        ]]\n",
      "[[ 0.          0.62271157  0.66178431  0.43604963  1.06372777]\n",
      " [ 0.62271157  0.          0.68672292  0.28795664  0.47077438]\n",
      " [ 0.66178431  0.68672292  0.          0.7851418   0.84907749]\n",
      " [ 0.43604963  0.28795664  0.7851418   0.          0.75515609]\n",
      " [ 1.06372777  0.47077438  0.84907749  0.75515609  0.        ]]\n"
     ]
    }
   ],
   "source": [
    "randVec = np.random.random((5,2))\n",
    "X,Y = np.atleast_2d(randVec[:,0]), np.atleast_2d(randVec[:,1])\n",
    "print(X)\n",
    "print(X.T)\n",
    "print(\"\")\n",
    "D = np.sqrt( (X-X.T)**2 + (Y-Y.T)**2)\n",
    "print(D)\n",
    "\n",
    "# Much faster with scipy\n",
    "import scipy\n",
    "# Thanks Gavin Heverly-Coulson (#issue 1)\n",
    "import scipy.spatial\n",
    "\n",
    "D = scipy.spatial.distance.cdist(randVec,randVec)\n",
    "print(D)"
   ]
  },
  {
   "cell_type": "markdown",
   "metadata": {},
   "source": [
    "30 Consider the following file:\n",
    "\n",
    "1,2,3,4,5\n",
    "\n",
    "6,,,7,8\n",
    "\n",
    ",,9,10,11\n",
    "\n",
    "How can we read it (saved as sampleFile.csv)?"
   ]
  },
  {
   "cell_type": "code",
   "execution_count": 35,
   "metadata": {
    "collapsed": false
   },
   "outputs": [
    {
     "ename": "NameError",
     "evalue": "name 'file' is not defined",
     "output_type": "error",
     "traceback": [
      "\u001b[1;31m---------------------------------------------------------------------------\u001b[0m",
      "\u001b[1;31mNameError\u001b[0m                                 Traceback (most recent call last)",
      "\u001b[1;32m<ipython-input-35-63b0a0053665>\u001b[0m in \u001b[0;36m<module>\u001b[1;34m()\u001b[0m\n\u001b[0;32m      2\u001b[0m \u001b[1;32mimport\u001b[0m \u001b[0mcsv\u001b[0m\u001b[1;33m\u001b[0m\u001b[0m\n\u001b[0;32m      3\u001b[0m \u001b[1;32mwith\u001b[0m \u001b[0mopen\u001b[0m\u001b[1;33m(\u001b[0m\u001b[1;34m\"sampleFile.csv\"\u001b[0m\u001b[1;33m)\u001b[0m \u001b[1;32mas\u001b[0m \u001b[0mmyFile\u001b[0m\u001b[1;33m:\u001b[0m\u001b[1;33m\u001b[0m\u001b[0m\n\u001b[1;32m----> 4\u001b[1;33m     \u001b[0mreader\u001b[0m \u001b[1;33m=\u001b[0m \u001b[0mcsv\u001b[0m\u001b[1;33m.\u001b[0m\u001b[0mreader\u001b[0m\u001b[1;33m(\u001b[0m\u001b[0mfile\u001b[0m\u001b[1;33m,\u001b[0m \u001b[0mdelimiter\u001b[0m \u001b[1;33m=\u001b[0m \u001b[1;34m\",\"\u001b[0m\u001b[1;33m)\u001b[0m\u001b[1;33m\u001b[0m\u001b[0m\n\u001b[0m\u001b[0;32m      5\u001b[0m     \u001b[1;32mfor\u001b[0m \u001b[0mrow\u001b[0m \u001b[1;32min\u001b[0m \u001b[0mreader\u001b[0m\u001b[1;33m:\u001b[0m\u001b[1;33m\u001b[0m\u001b[0m\n\u001b[0;32m      6\u001b[0m         \u001b[0mprint\u001b[0m\u001b[1;33m(\u001b[0m\u001b[1;36m1\u001b[0m\u001b[1;33m)\u001b[0m\u001b[1;33m\u001b[0m\u001b[0m\n",
      "\u001b[1;31mNameError\u001b[0m: name 'file' is not defined"
     ]
    }
   ],
   "source": [
    "# Doesn't seem to work\n",
    "import csv\n",
    "with open(\"sampleFile.csv\") as myFile:\n",
    "    reader = csv.reader(file, delimiter = \",\")\n",
    "    for row in reader:\n",
    "        print(1)\n",
    "        print(\", \".join(row))"
   ]
  },
  {
   "cell_type": "code",
   "execution_count": null,
   "metadata": {
    "collapsed": false
   },
   "outputs": [],
   "source": [
    "x = np.genfromtxt(\"sampleFile.csv\", delimiter = \",\")\n",
    "print(x)"
   ]
  },
  {
   "cell_type": "markdown",
   "metadata": {},
   "source": [
    "31 Generate a generic 2D Gaussian-like array"
   ]
  },
  {
   "cell_type": "code",
   "execution_count": null,
   "metadata": {
    "collapsed": false
   },
   "outputs": [],
   "source": [
    "data = np.random.normal(loc = 0, scale = 1, size = (10, 2))\n",
    "print(data)\n",
    "np.matmul(data, np.array([[2, 0], [0, 1]]))"
   ]
  },
  {
   "cell_type": "code",
   "execution_count": null,
   "metadata": {
    "collapsed": false
   },
   "outputs": [],
   "source": [
    "X, Y = np.meshgrid(np.linspace(-1,1,10), np.linspace(-1,1,10))\n",
    "D = np.sqrt(X*X+Y*Y)\n",
    "sigma, mu = 1.0, 0.0\n",
    "G = np.exp(-( (D-mu)**2 / ( 2.0 * sigma**2 ) ) )\n",
    "print(G)"
   ]
  },
  {
   "cell_type": "markdown",
   "metadata": {},
   "source": [
    "32 How to randomly place p elements in a 2D array?"
   ]
  },
  {
   "cell_type": "code",
   "execution_count": null,
   "metadata": {
    "collapsed": false
   },
   "outputs": [],
   "source": [
    "n = 10\n",
    "p = 3\n",
    "Z = np.zeros((n,n))\n",
    "for point in np.arange(0, 3):\n",
    "    x = np.random.randint(0, 10)\n",
    "    y = np.random.randint(0, 10)\n",
    "    Z[x, y] = 1\n",
    "print(Z)"
   ]
  },
  {
   "cell_type": "code",
   "execution_count": null,
   "metadata": {
    "collapsed": false
   },
   "outputs": [],
   "source": [
    "np.put(Z, np.random.choice(range(n*n), p, replace=False),1)\n",
    "print(Z)\n",
    "np.random.choice(range(n*n), p, replace=False)"
   ]
  },
  {
   "cell_type": "markdown",
   "metadata": {},
   "source": [
    "33 Subtract the mean of each row of a matrix"
   ]
  },
  {
   "cell_type": "code",
   "execution_count": null,
   "metadata": {
    "collapsed": false
   },
   "outputs": [],
   "source": [
    "M = np.random.rand(5, 5)\n",
    "print(M)\n",
    "for j in np.arange(0, M.shape[1]):\n",
    "    M[np.arange(0, 5), j] -= M[np.arange(0, 5), j].mean()\n",
    "print(M)"
   ]
  },
  {
   "cell_type": "code",
   "execution_count": null,
   "metadata": {
    "collapsed": false
   },
   "outputs": [],
   "source": [
    "# Recent versions of numpy\n",
    "print(M.mean(axis = 1, keepdims=True))\n",
    "print(M.mean(axis = 0, keepdims=True))\n",
    "Y = M - M.mean(axis=1, keepdims=True)\n",
    "print(Y)"
   ]
  },
  {
   "cell_type": "markdown",
   "metadata": {},
   "source": [
    "34 How to I sort an array by the nth column ?"
   ]
  },
  {
   "cell_type": "code",
   "execution_count": null,
   "metadata": {
    "collapsed": false
   },
   "outputs": [],
   "source": [
    "# np.info(np.sort)\n",
    "values = [(\"Josh\", 29), (\"Maria\", 30), (\"Diego\", 2), (\"Stella\", 0)]\n",
    "M = np.array(values, dtype = [(\"name\", \"S10\"), (\"age\", int)])\n",
    "print(M)\n",
    "print(np.sort(M, order = \"age\"))"
   ]
  },
  {
   "cell_type": "code",
   "execution_count": null,
   "metadata": {
    "collapsed": false
   },
   "outputs": [],
   "source": [
    "# np.info(np.argsort)\n",
    "M = np.random.randint(1, 10, (4, 4))\n",
    "print(M)\n",
    "# Argsort returns a sorting index, not the actual order/rank\n",
    "index1 = np.argsort(M, axis = 1)\n",
    "index2 = np.argsort(M, axis = 0)\n",
    "print(\"-------------\")\n",
    "print(index1)\n",
    "print(\"-------------\")\n",
    "# for i in np.arange(0, 4):\n",
    "#     print(M[index2[:, i]])\n",
    "# print(\"-------------\")\n",
    "# M2 = M\n",
    "# for row in np.arange(0, 4):\n",
    "#     M2[row, :] = M2[row, :][index1[3, :]]\n",
    "# print(M2)\n",
    "for i in np.arange(0, 4):\n",
    "    # Without the copy, it works like data.table (copies reference only)\n",
    "    M2 = M.copy()\n",
    "    for row in np.arange(0, 4):\n",
    "        M2[row, :] = M2[row, :][index1[i, :]]\n",
    "    print(M2)"
   ]
  },
  {
   "cell_type": "code",
   "execution_count": null,
   "metadata": {
    "collapsed": false
   },
   "outputs": [],
   "source": [
    "Z = np.random.randint(0,10,(3,3))\n",
    "print(Z)\n",
    "print(Z[Z[:,0].argsort()])"
   ]
  },
  {
   "cell_type": "markdown",
   "metadata": {},
   "source": [
    "35 How to tell if a given 2D array has null columns ?"
   ]
  },
  {
   "cell_type": "code",
   "execution_count": null,
   "metadata": {
    "collapsed": false
   },
   "outputs": [],
   "source": [
    "Z = np.random.randint(0,3,(3,10))\n",
    "print((~Z.any(axis=0)).any())"
   ]
  },
  {
   "cell_type": "markdown",
   "metadata": {},
   "source": [
    "36 Find the nearest value from a given value in an array"
   ]
  },
  {
   "cell_type": "code",
   "execution_count": null,
   "metadata": {
    "collapsed": false
   },
   "outputs": [],
   "source": [
    "Z = np.random.uniform(0,1,10)\n",
    "test = .3\n",
    "print(Z)\n",
    "np.argmin(abs(Z - test))"
   ]
  },
  {
   "cell_type": "markdown",
   "metadata": {},
   "source": [
    "37 Consider a generator function that generates 10 integers and use it to build an array"
   ]
  },
  {
   "cell_type": "code",
   "execution_count": null,
   "metadata": {
    "collapsed": false
   },
   "outputs": [],
   "source": [
    "def generator(n):\n",
    "    return(np.random.randint(0, 10, n))\n",
    "generator(5)"
   ]
  },
  {
   "cell_type": "code",
   "execution_count": 73,
   "metadata": {
    "collapsed": false
   },
   "outputs": [
    {
     "name": "stdout",
     "output_type": "stream",
     "text": [
      "[0, 1, 2, 3, 4, 5, 6, 7, 8, 9]\n",
      "<class 'list'>\n",
      "[0 1 2 3 4 5 6 7 8 9]\n",
      "<class 'numpy.ndarray'>\n"
     ]
    }
   ],
   "source": [
    "def generate():\n",
    "    for x in np.arange(0, 10):\n",
    "        yield x\n",
    "z = [y for y in generate()]\n",
    "print(z)\n",
    "print(type(z))\n",
    "z = np.array(z)\n",
    "print(z)\n",
    "print(type(z))"
   ]
  },
  {
   "cell_type": "markdown",
   "metadata": {},
   "source": [
    "DETOUR: Problem 1: Write an iterator class reverse_iter, that takes a list and iterates it from the reverse direction. ::"
   ]
  },
  {
   "cell_type": "code",
   "execution_count": null,
   "metadata": {
    "collapsed": false
   },
   "outputs": [],
   "source": [
    "class reverse_iter:\n",
    "    def __init__(self, n):\n",
    "        self.i = n\n",
    "\n",
    "    def next(self):\n",
    "        if self.i >= 0:\n",
    "            i = self.i\n",
    "            self.i -= 1\n",
    "            return(i)\n",
    "        else:\n",
    "            raise StopIteration()\n",
    "\n",
    "class yrange:\n",
    "    def __init__(self, n):\n",
    "        self.i = 0\n",
    "        self.n = n\n",
    "\n",
    "    def __iter__(self):\n",
    "        return(self)\n",
    "\n",
    "    def next(self):\n",
    "        if self.i < self.n:\n",
    "            i = self.i\n",
    "            self.i += 1\n",
    "            return i\n",
    "        else:\n",
    "            raise StopIteration()\n",
    "\n",
    "# y = reverse_iter(10)\n",
    "y = yrange(10)\n",
    "for i in [1, 2, 3, 4, 5]:\n",
    "        print(y.next())"
   ]
  },
  {
   "cell_type": "code",
   "execution_count": 36,
   "metadata": {
    "collapsed": false
   },
   "outputs": [
    {
     "data": {
      "text/plain": [
       "285"
      ]
     },
     "execution_count": 36,
     "metadata": {},
     "output_type": "execute_result"
    }
   ],
   "source": [
    "sum(x*x for x in np.arange(0, 10))"
   ]
  },
  {
   "cell_type": "markdown",
   "metadata": {},
   "source": [
    "Problem 2: Write a program that takes one or more filenames as arguments and prints all the lines which are longer than 40 characters."
   ]
  },
  {
   "cell_type": "code",
   "execution_count": 59,
   "metadata": {
    "collapsed": false
   },
   "outputs": [
    {
     "name": "stdout",
     "output_type": "stream",
     "text": [
      "This file has one really, really, really, really, really, really, really, really, really, really, really, really, really, really, really, really, really, really, really, really, really long line.\n",
      "\n",
      "Hello Hello Hello Hello Hello Hello Hello.\n",
      "\n",
      "Hello Hello Hello Hello Hello Hello Hello Hello.\n",
      "\n",
      "Hello Hello Hello Hello Hello Hello Hello Hello Hello.\n",
      "\n",
      "Hello Hello Hello Hello Hello Hello Hello Hello Hello Hello.\n",
      "\n",
      "Hello Hello Hello Hello Hello Hello Hello Hello Hello Hello Hello.\n",
      "\n",
      "Hello Hello Hello Hello Hello Hello Hello Hello Hello Hello Hello Hello.\n",
      "\n",
      "Hello Hello Hello Hello Hello Hello Hello Hello Hello Hello Hello Hello Hello.\n",
      "\n",
      "Hello Hello Hello Hello Hello Hello Hello Hello Hello Hello Hello Hello Hello Hello.\n",
      "\n"
     ]
    }
   ],
   "source": [
    "filenames = [\"sampleTextFiles/longfile.txt\", \"sampleTextFiles/smallFile.txt\", \"sampleTextFiles/pyramid.txt\"]\n",
    "files = [\"/home/josh/Documents/Github/GithubSandbox/Python/sampleTextFiles/\" + x\n",
    "         for x in (\"longFile.txt\", \"smallFile.txt\", \"pyramid.txt\")]\n",
    "def readlines(filenames):\n",
    "    for f in filenames:\n",
    "        for line in open(f):\n",
    "            yield line\n",
    "\n",
    "def over40(filenames):\n",
    "    for line in readlines(filenames):\n",
    "        if(len(line) > 40): print(line)\n",
    "            \n",
    "over40(files)"
   ]
  },
  {
   "cell_type": "markdown",
   "metadata": {},
   "source": [
    "38 Consider a given vector, how to add 1 to each element indexed by a second vector (be careful with repeated indices) ?"
   ]
  },
  {
   "cell_type": "code",
   "execution_count": 85,
   "metadata": {
    "collapsed": false
   },
   "outputs": [
    {
     "name": "stdout",
     "output_type": "stream",
     "text": [
      "[0 1 2 3 4 5 6 7 8 9]\n",
      "[1 1 2 4 6 5 7 7 8 9]\n",
      "[6 0 3 4 4]\n"
     ]
    }
   ],
   "source": [
    "x = np.arange(10)\n",
    "print(x)\n",
    "index = np.random.randint(0, 10, 5)\n",
    "for i in index:\n",
    "    x[i] += 1\n",
    "print(x)\n",
    "print(index)"
   ]
  },
  {
   "cell_type": "code",
   "execution_count": 86,
   "metadata": {
    "collapsed": false
   },
   "outputs": [
    {
     "name": "stdout",
     "output_type": "stream",
     "text": [
      "[6 0 3 4 4]\n",
      "[1 0 0 1 2 0 1 0 0 0]\n"
     ]
    }
   ],
   "source": [
    "print(index)\n",
    "print(np.bincount(index, minlength=len(x)))"
   ]
  },
  {
   "cell_type": "markdown",
   "metadata": {},
   "source": [
    "39 How to accumulate elements of a vector (X) to an array (F) based on an index list (I)?"
   ]
  },
  {
   "cell_type": "code",
   "execution_count": 103,
   "metadata": {
    "collapsed": false
   },
   "outputs": [
    {
     "name": "stdout",
     "output_type": "stream",
     "text": [
      "[0, 1, 2, 3, 4, 5, 6, 7, 8, 9]\n",
      "[0 4 2 8 1 3 6 7 9 5]\n",
      "[ 0.  0.  0.  0.  0.  0.  0.  0.  0.  0.]\n",
      "[ 0.  4.  2.  5.  1.  9.  6.  7.  3.  8.]\n"
     ]
    }
   ],
   "source": [
    "X = [0, 1, 2, 3, 4, 5, 6, 7, 8, 9]\n",
    "print(X)\n",
    "I = np.random.permutation(X)\n",
    "print(I)\n",
    "F = np.zeros(10)\n",
    "print(F)\n",
    "F += np.bincount(I, X)\n",
    "print(F)"
   ]
  }
 ],
 "metadata": {
  "kernelspec": {
   "display_name": "Python 3",
   "language": "python",
   "name": "python3"
  },
  "language_info": {
   "codemirror_mode": {
    "name": "ipython",
    "version": 3
   },
   "file_extension": ".py",
   "mimetype": "text/x-python",
   "name": "python",
   "nbconvert_exporter": "python",
   "pygments_lexer": "ipython3",
   "version": "3.5.1"
  }
 },
 "nbformat": 4,
 "nbformat_minor": 0
}
