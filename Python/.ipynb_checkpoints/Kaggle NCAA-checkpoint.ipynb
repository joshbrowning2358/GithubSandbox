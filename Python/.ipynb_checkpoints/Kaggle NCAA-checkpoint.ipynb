{
 "cells": [
  {
   "cell_type": "code",
   "execution_count": 106,
   "metadata": {
    "collapsed": false
   },
   "outputs": [
    {
     "ename": "ImportError",
     "evalue": "No module named 'seaborn'",
     "output_type": "error",
     "traceback": [
      "\u001b[1;31m---------------------------------------------------------------------------\u001b[0m",
      "\u001b[1;31mImportError\u001b[0m                               Traceback (most recent call last)",
      "\u001b[1;32m<ipython-input-106-18221249161e>\u001b[0m in \u001b[0;36m<module>\u001b[1;34m()\u001b[0m\n\u001b[0;32m      3\u001b[0m \u001b[1;32mimport\u001b[0m \u001b[0mnumpy\u001b[0m \u001b[1;32mas\u001b[0m \u001b[0mnp\u001b[0m\u001b[1;33m\u001b[0m\u001b[0m\n\u001b[0;32m      4\u001b[0m \u001b[1;32mimport\u001b[0m \u001b[0mre\u001b[0m \u001b[1;31m# Regular expressions\u001b[0m\u001b[1;33m\u001b[0m\u001b[0m\n\u001b[1;32m----> 5\u001b[1;33m \u001b[1;32mimport\u001b[0m \u001b[0mseaborn\u001b[0m \u001b[1;32mas\u001b[0m \u001b[0msns\u001b[0m\u001b[1;33m\u001b[0m\u001b[0m\n\u001b[0m\u001b[0;32m      6\u001b[0m \u001b[1;33m\u001b[0m\u001b[0m\n\u001b[0;32m      7\u001b[0m \u001b[1;31m# Load local files\u001b[0m\u001b[1;33m\u001b[0m\u001b[1;33m\u001b[0m\u001b[0m\n",
      "\u001b[1;31mImportError\u001b[0m: No module named 'seaborn'"
     ]
    }
   ],
   "source": [
    "# Load main packages\n",
    "import pandas as pd\n",
    "import numpy as np\n",
    "import re # Regular expressions\n",
    "import seaborn as sns\n",
    "\n",
    "# Load local files\n",
    "import sys # For reading files in other directories\n",
    "sys.path.insert(0, 'C:/Users/rockc_000/Documents/GitHub/GithubSandbox/Python/NCAA Scripts')\n",
    "from make_submission import make_submission\n",
    "\n",
    "# Define directory with data\n",
    "# dir = '/home/josh/Documents/Personal/Kaggle/NCAA'\n",
    "dir = 'C:/Users/rockc_000/Documents/Personal Files/Kaggle/NCAA'"
   ]
  },
  {
   "cell_type": "code",
   "execution_count": 3,
   "metadata": {
    "collapsed": false
   },
   "outputs": [],
   "source": [
    "# Read in data\n",
    "seasons = pd.read_csv(dir + '/Seasons.csv')\n",
    "teams = pd.read_csv(dir + '/Teams.csv')\n",
    "regular_compact_results = pd.read_csv(dir + '/RegularSeasonCompactResults.csv')\n",
    "regular_detailed_results = pd.read_csv(dir + '/RegularSeasonDetailedResults.csv')\n",
    "tourney_compact_results = pd.read_csv(dir + '/TourneyCompactResults.csv')\n",
    "tourney_detailed_results = pd.read_csv(dir + '/TourneyDetailedResults.csv')\n",
    "tourney_seed = pd.read_csv(dir + '/TourneySeeds.csv')\n",
    "tourney_slots = pd.read_csv(dir + '/TourneySlots.csv')\n",
    "sample_submission = pd.read_csv(dir + '/SampleSubmission.csv')"
   ]
  },
  {
   "cell_type": "code",
   "execution_count": 46,
   "metadata": {
    "collapsed": false,
    "scrolled": false
   },
   "outputs": [
    {
     "name": "stdout",
     "output_type": "stream",
     "text": [
      "seasons:\n",
      "    Season     Dayzero Regionw    Regionx    Regiony    Regionz\n",
      "0    1985  10/29/1984    East       West    Midwest  Southeast\n",
      "1    1986  10/28/1985    East    Midwest  Southeast       West\n",
      "2    1987  10/27/1986    East  Southeast    Midwest       West\n",
      "3    1988  11/02/1987    East    Midwest  Southeast       West \n",
      "Dimension:  (32, 6)\n",
      "teams:\n",
      "    Team_Id    Team_Name\n",
      "0     1101  Abilene Chr\n",
      "1     1102    Air Force\n",
      "2     1103        Akron\n",
      "3     1104      Alabama \n",
      "Dimension:  (364, 2)\n",
      "regular_compact_results:\n",
      "    Season  Daynum  Wteam  Wscore  Lteam  Lscore Wloc  Numot\n",
      "0    1985      20   1228      81   1328      64    N      0\n",
      "1    1985      25   1106      77   1354      70    H      0\n",
      "2    1985      25   1112      63   1223      56    H      0\n",
      "3    1985      25   1165      70   1432      54    H      0 \n",
      "Dimension:  (139920, 8)\n",
      "regular_detailed_results:\n",
      "    Season  Daynum  Wteam  Wscore  Lteam  Lscore Wloc  Numot  Wfgm  Wfga ...   \\\n",
      "0    2003      10   1104      68   1328      62    N      0    27    58 ...    \n",
      "1    2003      10   1272      70   1393      63    N      0    26    62 ...    \n",
      "2    2003      11   1266      73   1437      61    N      0    24    58 ...    \n",
      "3    2003      11   1296      56   1457      50    N      0    18    38 ...    \n",
      "\n",
      "   Lfga3  Lftm  Lfta  Lor  Ldr  Last  Lto  Lstl  Lblk  Lpf  \n",
      "0     10    16    22   10   22     8   18     9     2   20  \n",
      "1     24     9    20   20   25     7   12     8     6   16  \n",
      "2     26    14    23   31   22     9   12     2     5   23  \n",
      "3     22     8    15   17   20     9   19     4     3   23  \n",
      "\n",
      "[4 rows x 34 columns] \n",
      "Dimension:  (65872, 34)\n",
      "tourney_compact_results:\n",
      "    Season  Daynum  Wteam  Wscore  Lteam  Lscore Wloc  Numot\n",
      "0    1985     136   1116      63   1234      54    N      0\n",
      "1    1985     136   1120      59   1345      58    N      0\n",
      "2    1985     136   1207      68   1250      43    N      0\n",
      "3    1985     136   1229      58   1425      55    N      0 \n",
      "Dimension:  (1983, 8)\n",
      "tourney_detailed_results:\n",
      "    Season  Daynum  Wteam  Wscore  Lteam  Lscore Wloc  Numot  Wfgm  Wfga ...   \\\n",
      "0    2003     134   1421      92   1411      84    N      1    32    69 ...    \n",
      "1    2003     136   1112      80   1436      51    N      0    31    66 ...    \n",
      "2    2003     136   1113      84   1272      71    N      0    31    59 ...    \n",
      "3    2003     136   1141      79   1166      73    N      0    29    53 ...    \n",
      "\n",
      "   Lfga3  Lftm  Lfta  Lor  Ldr  Last  Lto  Lstl  Lblk  Lpf  \n",
      "0     31    14    31   17   28    16   15     5     0   22  \n",
      "1     16     7     7    8   26    12   17    10     3   15  \n",
      "2     28    14    21   20   22    11   12     2     5   18  \n",
      "3     17    12    17   14   17    20   21     6     6   21  \n",
      "\n",
      "[4 rows x 34 columns] \n",
      "Dimension:  (847, 34)\n",
      "tourney_seed:\n",
      "    Season Seed  Team\n",
      "0    1985  W01  1207\n",
      "1    1985  W02  1210\n",
      "2    1985  W03  1228\n",
      "3    1985  W04  1260 \n",
      "Dimension:  (2014, 3)\n",
      "tourney_slots:\n",
      "    Season  Slot Strongseed Weakseed\n",
      "0    1985  R1W1        W01      W16\n",
      "1    1985  R1W2        W02      W15\n",
      "2    1985  R1W3        W03      W14\n",
      "3    1985  R1W4        W04      W13 \n",
      "Dimension:  (1983, 4)\n",
      "sample_submission:\n",
      "                Id  Pred\n",
      "0  2012_1104_1124   0.5\n",
      "1  2012_1104_1125   0.5\n",
      "2  2012_1104_1140   0.5\n",
      "3  2012_1104_1143   0.5 \n",
      "Dimension:  (9112, 2)\n"
     ]
    }
   ],
   "source": [
    "# Look at the first few rows of each dataset, and their dimensions\n",
    "# sample_submission.iloc[np.arange(5)]\n",
    "nrow = 4\n",
    "print('seasons:\\n', seasons.head(nrow), '\\nDimension: ', seasons.shape)\n",
    "print('teams:\\n', teams.head(nrow), '\\nDimension: ', teams.shape)\n",
    "print('regular_compact_results:\\n', regular_compact_results.head(nrow),\n",
    "      '\\nDimension: ', regular_compact_results.shape)\n",
    "print('regular_detailed_results:\\n', regular_detailed_results.head(nrow),\n",
    "      '\\nDimension: ', regular_detailed_results.shape)\n",
    "print('tourney_compact_results:\\n', tourney_compact_results.head(nrow),\n",
    "      '\\nDimension: ', tourney_compact_results.shape)\n",
    "print('tourney_detailed_results:\\n', tourney_detailed_results.head(nrow),\n",
    "      '\\nDimension: ', tourney_detailed_results.shape)\n",
    "print('tourney_seed:\\n', tourney_seed.head(nrow),\n",
    "      '\\nDimension: ', tourney_seed.shape)\n",
    "print('tourney_slots:\\n', tourney_slots.head(nrow),\n",
    "      '\\nDimension: ', tourney_slots.shape)\n",
    "print('sample_submission:\\n', sample_submission.head(nrow),\n",
    "      '\\nDimension: ', sample_submission.shape)"
   ]
  },
  {
   "cell_type": "code",
   "execution_count": 7,
   "metadata": {
    "collapsed": false
   },
   "outputs": [],
   "source": [
    "# Test make_submission function\n",
    "data = [re.split('_', id) for id in sample_submission['Id']]\n",
    "data = pd.DataFrame(data)\n",
    "data.columns = ['Year', 'team_id1', 'team_id2']\n",
    "data['Pred'] = sample_submission['Pred']\n",
    "\n",
    "equal_pred = make_submission(data, 'equal_preds.csv')"
   ]
  },
  {
   "cell_type": "code",
   "execution_count": 5,
   "metadata": {
    "collapsed": false
   },
   "outputs": [
    {
     "data": {
      "text/html": [
       "<div>\n",
       "<table border=\"1\" class=\"dataframe\">\n",
       "  <thead>\n",
       "    <tr style=\"text-align: right;\">\n",
       "      <th></th>\n",
       "      <th>Season</th>\n",
       "      <th>Daynum</th>\n",
       "      <th>Wteam</th>\n",
       "      <th>Wscore</th>\n",
       "      <th>Lteam</th>\n",
       "      <th>Lscore</th>\n",
       "      <th>Wloc</th>\n",
       "      <th>Numot</th>\n",
       "    </tr>\n",
       "  </thead>\n",
       "  <tbody>\n",
       "    <tr>\n",
       "      <th>0</th>\n",
       "      <td>1985</td>\n",
       "      <td>20</td>\n",
       "      <td>1228</td>\n",
       "      <td>81</td>\n",
       "      <td>1328</td>\n",
       "      <td>64</td>\n",
       "      <td>N</td>\n",
       "      <td>0</td>\n",
       "    </tr>\n",
       "    <tr>\n",
       "      <th>1</th>\n",
       "      <td>1985</td>\n",
       "      <td>25</td>\n",
       "      <td>1106</td>\n",
       "      <td>77</td>\n",
       "      <td>1354</td>\n",
       "      <td>70</td>\n",
       "      <td>H</td>\n",
       "      <td>0</td>\n",
       "    </tr>\n",
       "    <tr>\n",
       "      <th>2</th>\n",
       "      <td>1985</td>\n",
       "      <td>25</td>\n",
       "      <td>1112</td>\n",
       "      <td>63</td>\n",
       "      <td>1223</td>\n",
       "      <td>56</td>\n",
       "      <td>H</td>\n",
       "      <td>0</td>\n",
       "    </tr>\n",
       "    <tr>\n",
       "      <th>3</th>\n",
       "      <td>1985</td>\n",
       "      <td>25</td>\n",
       "      <td>1165</td>\n",
       "      <td>70</td>\n",
       "      <td>1432</td>\n",
       "      <td>54</td>\n",
       "      <td>H</td>\n",
       "      <td>0</td>\n",
       "    </tr>\n",
       "    <tr>\n",
       "      <th>4</th>\n",
       "      <td>1985</td>\n",
       "      <td>25</td>\n",
       "      <td>1192</td>\n",
       "      <td>86</td>\n",
       "      <td>1447</td>\n",
       "      <td>74</td>\n",
       "      <td>H</td>\n",
       "      <td>0</td>\n",
       "    </tr>\n",
       "  </tbody>\n",
       "</table>\n",
       "</div>"
      ],
      "text/plain": [
       "   Season  Daynum  Wteam  Wscore  Lteam  Lscore Wloc  Numot\n",
       "0    1985      20   1228      81   1328      64    N      0\n",
       "1    1985      25   1106      77   1354      70    H      0\n",
       "2    1985      25   1112      63   1223      56    H      0\n",
       "3    1985      25   1165      70   1432      54    H      0\n",
       "4    1985      25   1192      86   1447      74    H      0"
      ]
     },
     "execution_count": 5,
     "metadata": {},
     "output_type": "execute_result"
    }
   ],
   "source": [
    "regular_compact_results.head()"
   ]
  },
  {
   "cell_type": "code",
   "execution_count": 4,
   "metadata": {
    "collapsed": false
   },
   "outputs": [
    {
     "name": "stderr",
     "output_type": "stream",
     "text": [
      "C:\\Users\\rockc_000\\Anaconda3\\lib\\site-packages\\pandas\\core\\indexing.py:266: SettingWithCopyWarning: \n",
      "A value is trying to be set on a copy of a slice from a DataFrame.\n",
      "Try using .loc[row_indexer,col_indexer] = value instead\n",
      "\n",
      "See the caveats in the documentation: http://pandas.pydata.org/pandas-docs/stable/indexing.html#indexing-view-versus-copy\n",
      "  self.obj[key] = _infer_fill_value(value)\n",
      "C:\\Users\\rockc_000\\Anaconda3\\lib\\site-packages\\pandas\\core\\indexing.py:426: SettingWithCopyWarning: \n",
      "A value is trying to be set on a copy of a slice from a DataFrame.\n",
      "Try using .loc[row_indexer,col_indexer] = value instead\n",
      "\n",
      "See the caveats in the documentation: http://pandas.pydata.org/pandas-docs/stable/indexing.html#indexing-view-versus-copy\n",
      "  self.obj[item] = s\n"
     ]
    },
    {
     "data": {
      "text/html": [
       "<div>\n",
       "<table border=\"1\" class=\"dataframe\">\n",
       "  <thead>\n",
       "    <tr style=\"text-align: right;\">\n",
       "      <th></th>\n",
       "      <th>Season</th>\n",
       "      <th>Team</th>\n",
       "      <th>Status</th>\n",
       "    </tr>\n",
       "  </thead>\n",
       "  <tbody>\n",
       "    <tr>\n",
       "      <th>0</th>\n",
       "      <td>1985</td>\n",
       "      <td>1228</td>\n",
       "      <td>Win</td>\n",
       "    </tr>\n",
       "    <tr>\n",
       "      <th>1</th>\n",
       "      <td>1985</td>\n",
       "      <td>1106</td>\n",
       "      <td>Win</td>\n",
       "    </tr>\n",
       "    <tr>\n",
       "      <th>2</th>\n",
       "      <td>1985</td>\n",
       "      <td>1112</td>\n",
       "      <td>Win</td>\n",
       "    </tr>\n",
       "    <tr>\n",
       "      <th>3</th>\n",
       "      <td>1985</td>\n",
       "      <td>1165</td>\n",
       "      <td>Win</td>\n",
       "    </tr>\n",
       "    <tr>\n",
       "      <th>4</th>\n",
       "      <td>1985</td>\n",
       "      <td>1192</td>\n",
       "      <td>Win</td>\n",
       "    </tr>\n",
       "  </tbody>\n",
       "</table>\n",
       "</div>"
      ],
      "text/plain": [
       "   Season  Team Status\n",
       "0    1985  1228    Win\n",
       "1    1985  1106    Win\n",
       "2    1985  1112    Win\n",
       "3    1985  1165    Win\n",
       "4    1985  1192    Win"
      ]
     },
     "execution_count": 4,
     "metadata": {},
     "output_type": "execute_result"
    }
   ],
   "source": [
    "# Simple pred based on historical winning\n",
    "# Convert regular_compact_results into a Dataframe with\n",
    "# columns season, team, win/lose indicator.\n",
    "wins = regular_compact_results[['Season', 'Wteam']]\n",
    "wins.columns = ('Season', 'Team')\n",
    "wins.loc[:, 'Status'] = 'Win'\n",
    "losses = regular_compact_results[['Season', 'Lteam']]\n",
    "losses.columns = ('Season', 'Team')\n",
    "losses.loc[:, 'Status'] = 'Loss'\n",
    "results = wins.copy()\n",
    "results = results.append(losses)\n",
    "results.head()"
   ]
  },
  {
   "cell_type": "code",
   "execution_count": 5,
   "metadata": {
    "collapsed": false
   },
   "outputs": [
    {
     "data": {
      "text/html": [
       "<div>\n",
       "<table border=\"1\" class=\"dataframe\">\n",
       "  <thead>\n",
       "    <tr style=\"text-align: right;\">\n",
       "      <th></th>\n",
       "      <th>Season</th>\n",
       "      <th>Team</th>\n",
       "      <th>Status</th>\n",
       "    </tr>\n",
       "  </thead>\n",
       "  <tbody>\n",
       "    <tr>\n",
       "      <th>0</th>\n",
       "      <td>1985</td>\n",
       "      <td>1102</td>\n",
       "      <td>0.208333</td>\n",
       "    </tr>\n",
       "    <tr>\n",
       "      <th>1</th>\n",
       "      <td>1985</td>\n",
       "      <td>1103</td>\n",
       "      <td>0.391304</td>\n",
       "    </tr>\n",
       "    <tr>\n",
       "      <th>2</th>\n",
       "      <td>1985</td>\n",
       "      <td>1104</td>\n",
       "      <td>0.700000</td>\n",
       "    </tr>\n",
       "    <tr>\n",
       "      <th>3</th>\n",
       "      <td>1985</td>\n",
       "      <td>1106</td>\n",
       "      <td>0.416667</td>\n",
       "    </tr>\n",
       "    <tr>\n",
       "      <th>4</th>\n",
       "      <td>1985</td>\n",
       "      <td>1108</td>\n",
       "      <td>0.760000</td>\n",
       "    </tr>\n",
       "  </tbody>\n",
       "</table>\n",
       "</div>"
      ],
      "text/plain": [
       "   Season  Team    Status\n",
       "0    1985  1102  0.208333\n",
       "1    1985  1103  0.391304\n",
       "2    1985  1104  0.700000\n",
       "3    1985  1106  0.416667\n",
       "4    1985  1108  0.760000"
      ]
     },
     "execution_count": 5,
     "metadata": {},
     "output_type": "execute_result"
    }
   ],
   "source": [
    "grp = results.groupby(('Season', 'Team'), as_index = False)\n",
    "def agg_fun(x):\n",
    "    return(np.mean(x == 'Win'))\n",
    "average_wins = grp.agg(agg_fun)\n",
    "average_wins.head()"
   ]
  },
  {
   "cell_type": "code",
   "execution_count": 72,
   "metadata": {
    "collapsed": false
   },
   "outputs": [],
   "source": [
    "# Convert types so we can do a merge\n",
    "average_wins['Season'] = average_wins['Season'].astype(int)\n",
    "average_wins['Team'] = average_wins['Team'].astype(int)\n",
    "prob_dataset = pd.merge(data, average_wins, left_on = ('Year', 'team_id1'), right_on = ('Season', 'Team'))\n",
    "prob_dataset.rename(columns = {'Status': 'Prob_team_1'}, inplace = True)\n",
    "prob_dataset = pd.merge(prob_dataset, average_wins, left_on = ('Year', 'team_id2'), right_on = ('Season', 'Team'))\n",
    "prob_dataset.rename(columns = {'Status': 'Prob_team_2'}, inplace = True)\n",
    "prob_dataset.head()\n",
    "prob_dataset['Pred'] = prob_dataset['Prob_team_1'] / (prob_dataset['Prob_team_1'] + prob_dataset['Prob_team_2'])\n",
    "# Score of 0.664337, minor improvement over 0.5 model.\n",
    "submit2 = make_submission(prob_dataset, 'Simple_probs.csv')"
   ]
  },
  {
   "cell_type": "code",
   "execution_count": 104,
   "metadata": {
    "collapsed": false
   },
   "outputs": [
    {
     "data": {
      "text/html": [
       "<div>\n",
       "<table border=\"1\" class=\"dataframe\">\n",
       "  <thead>\n",
       "    <tr style=\"text-align: right;\">\n",
       "      <th></th>\n",
       "      <th>Season</th>\n",
       "      <th>Wteam</th>\n",
       "      <th>Wscore</th>\n",
       "      <th>Lteam</th>\n",
       "      <th>Lscore</th>\n",
       "      <th>Wprob</th>\n",
       "      <th>Lprob</th>\n",
       "      <th>Wseed</th>\n",
       "      <th>Lseed</th>\n",
       "      <th>Seed_diff</th>\n",
       "    </tr>\n",
       "  </thead>\n",
       "  <tbody>\n",
       "    <tr>\n",
       "      <th>0</th>\n",
       "      <td>1985</td>\n",
       "      <td>1116</td>\n",
       "      <td>63</td>\n",
       "      <td>1234</td>\n",
       "      <td>54</td>\n",
       "      <td>0.636364</td>\n",
       "      <td>0.666667</td>\n",
       "      <td>X09</td>\n",
       "      <td>X08</td>\n",
       "      <td>-1</td>\n",
       "    </tr>\n",
       "    <tr>\n",
       "      <th>1</th>\n",
       "      <td>1985</td>\n",
       "      <td>1120</td>\n",
       "      <td>59</td>\n",
       "      <td>1345</td>\n",
       "      <td>58</td>\n",
       "      <td>0.620690</td>\n",
       "      <td>0.680000</td>\n",
       "      <td>Z11</td>\n",
       "      <td>Z06</td>\n",
       "      <td>-5</td>\n",
       "    </tr>\n",
       "    <tr>\n",
       "      <th>2</th>\n",
       "      <td>1985</td>\n",
       "      <td>1120</td>\n",
       "      <td>66</td>\n",
       "      <td>1242</td>\n",
       "      <td>64</td>\n",
       "      <td>0.620690</td>\n",
       "      <td>0.766667</td>\n",
       "      <td>Z11</td>\n",
       "      <td>Z03</td>\n",
       "      <td>-8</td>\n",
       "    </tr>\n",
       "    <tr>\n",
       "      <th>3</th>\n",
       "      <td>1985</td>\n",
       "      <td>1207</td>\n",
       "      <td>68</td>\n",
       "      <td>1250</td>\n",
       "      <td>43</td>\n",
       "      <td>0.925926</td>\n",
       "      <td>0.379310</td>\n",
       "      <td>W01</td>\n",
       "      <td>W16</td>\n",
       "      <td>15</td>\n",
       "    </tr>\n",
       "    <tr>\n",
       "      <th>4</th>\n",
       "      <td>1985</td>\n",
       "      <td>1207</td>\n",
       "      <td>63</td>\n",
       "      <td>1396</td>\n",
       "      <td>46</td>\n",
       "      <td>0.925926</td>\n",
       "      <td>0.827586</td>\n",
       "      <td>W01</td>\n",
       "      <td>W08</td>\n",
       "      <td>7</td>\n",
       "    </tr>\n",
       "  </tbody>\n",
       "</table>\n",
       "</div>"
      ],
      "text/plain": [
       "   Season  Wteam  Wscore  Lteam  Lscore     Wprob     Lprob Wseed Lseed  \\\n",
       "0    1985   1116      63   1234      54  0.636364  0.666667   X09   X08   \n",
       "1    1985   1120      59   1345      58  0.620690  0.680000   Z11   Z06   \n",
       "2    1985   1120      66   1242      64  0.620690  0.766667   Z11   Z03   \n",
       "3    1985   1207      68   1250      43  0.925926  0.379310   W01   W16   \n",
       "4    1985   1207      63   1396      46  0.925926  0.827586   W01   W08   \n",
       "\n",
       "   Seed_diff  \n",
       "0         -1  \n",
       "1         -5  \n",
       "2         -8  \n",
       "3         15  \n",
       "4          7  "
      ]
     },
     "execution_count": 104,
     "metadata": {},
     "output_type": "execute_result"
    }
   ],
   "source": [
    "# Another simple model: use a logistic regression model\n",
    "# against the difference in seed (and maybe other variables) to predict the probability.\n",
    "\n",
    "# Merge in probabilities\n",
    "model_data = tourney_compact_results.ix[:, ('Season', 'Wteam', 'Wscore', 'Lteam', 'Lscore')]\n",
    "model_data = pd.merge(model_data, average_wins, left_on=('Season', 'Wteam'), right_on=('Season', 'Team'))\n",
    "model_data.rename(columns={'Status': 'Wprob'}, inplace=True)\n",
    "model_data.drop('Team', axis=1, inplace=True)\n",
    "model_data = pd.merge(model_data, average_wins, left_on=('Season', 'Lteam'), right_on=('Season', 'Team'))\n",
    "model_data.rename(columns={'Status': 'Lprob'}, inplace=True)\n",
    "model_data.drop('Team', axis=1, inplace=True)\n",
    "\n",
    "# Merge in seeds\n",
    "model_data = pd.merge(model_data, tourney_seed, left_on=('Season', 'Wteam'), right_on=('Season', 'Team'))\n",
    "model_data.rename(columns={'Seed': 'Wseed'}, inplace=True)\n",
    "model_data.drop('Team', axis=1, inplace=True)\n",
    "model_data = pd.merge(model_data, tourney_seed, left_on=('Season', 'Lteam'), right_on=('Season', 'Team'))\n",
    "model_data.rename(columns={'Seed': 'Lseed'}, inplace=True)\n",
    "model_data.drop('Team', axis=1, inplace=True)\n",
    "\n",
    "# Compute difference in seeds\n",
    "model_data['Seed_diff'] = np.array([int(x[1:3]) for x in model_data['Lseed']]) -\\\n",
    "                          np.array([int(x[1:3]) for x in model_data['Wseed']])\n"
   ]
  },
  {
   "cell_type": "code",
   "execution_count": null,
   "metadata": {
    "collapsed": true
   },
   "outputs": [],
   "source": []
  },
  {
   "cell_type": "code",
   "execution_count": 74,
   "metadata": {
    "collapsed": false
   },
   "outputs": [
    {
     "data": {
      "text/plain": [
       "2015"
      ]
     },
     "execution_count": 74,
     "metadata": {},
     "output_type": "execute_result"
    }
   ],
   "source": [
    "# Now time for some data exploration\n",
    "# Let's plot season statistics against tourney performance\n",
    "tourney_compact_results['Season'].max()"
   ]
  }
 ],
 "metadata": {
  "kernelspec": {
   "display_name": "Python 3",
   "language": "python",
   "name": "python3"
  },
  "language_info": {
   "codemirror_mode": {
    "name": "ipython",
    "version": 3
   },
   "file_extension": ".py",
   "mimetype": "text/x-python",
   "name": "python",
   "nbconvert_exporter": "python",
   "pygments_lexer": "ipython3",
   "version": "3.5.1"
  }
 },
 "nbformat": 4,
 "nbformat_minor": 0
}
