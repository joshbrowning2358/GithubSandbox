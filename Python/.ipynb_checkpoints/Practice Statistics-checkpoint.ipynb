{
 "cells": [
  {
   "cell_type": "code",
   "execution_count": 3,
   "metadata": {
    "collapsed": false
   },
   "outputs": [
    {
     "data": {
      "text/html": [
       "<div>\n",
       "<table border=\"1\" class=\"dataframe\">\n",
       "  <thead>\n",
       "    <tr style=\"text-align: right;\">\n",
       "      <th></th>\n",
       "      <th>Unnamed: 0</th>\n",
       "      <th>Gender</th>\n",
       "      <th>FSIQ</th>\n",
       "      <th>VIQ</th>\n",
       "      <th>PIQ</th>\n",
       "      <th>Weight</th>\n",
       "      <th>Height</th>\n",
       "      <th>MRI_Count</th>\n",
       "    </tr>\n",
       "  </thead>\n",
       "  <tbody>\n",
       "    <tr>\n",
       "      <th>0</th>\n",
       "      <td>1</td>\n",
       "      <td>Female</td>\n",
       "      <td>133</td>\n",
       "      <td>132</td>\n",
       "      <td>124</td>\n",
       "      <td>118</td>\n",
       "      <td>64.5</td>\n",
       "      <td>816932</td>\n",
       "    </tr>\n",
       "    <tr>\n",
       "      <th>1</th>\n",
       "      <td>2</td>\n",
       "      <td>Male</td>\n",
       "      <td>140</td>\n",
       "      <td>150</td>\n",
       "      <td>124</td>\n",
       "      <td>NaN</td>\n",
       "      <td>72.5</td>\n",
       "      <td>1001121</td>\n",
       "    </tr>\n",
       "    <tr>\n",
       "      <th>2</th>\n",
       "      <td>3</td>\n",
       "      <td>Male</td>\n",
       "      <td>139</td>\n",
       "      <td>123</td>\n",
       "      <td>150</td>\n",
       "      <td>143</td>\n",
       "      <td>73.3</td>\n",
       "      <td>1038437</td>\n",
       "    </tr>\n",
       "    <tr>\n",
       "      <th>3</th>\n",
       "      <td>4</td>\n",
       "      <td>Male</td>\n",
       "      <td>133</td>\n",
       "      <td>129</td>\n",
       "      <td>128</td>\n",
       "      <td>172</td>\n",
       "      <td>68.8</td>\n",
       "      <td>965353</td>\n",
       "    </tr>\n",
       "    <tr>\n",
       "      <th>4</th>\n",
       "      <td>5</td>\n",
       "      <td>Female</td>\n",
       "      <td>137</td>\n",
       "      <td>132</td>\n",
       "      <td>134</td>\n",
       "      <td>147</td>\n",
       "      <td>65.0</td>\n",
       "      <td>951545</td>\n",
       "    </tr>\n",
       "    <tr>\n",
       "      <th>5</th>\n",
       "      <td>6</td>\n",
       "      <td>Female</td>\n",
       "      <td>99</td>\n",
       "      <td>90</td>\n",
       "      <td>110</td>\n",
       "      <td>146</td>\n",
       "      <td>69.0</td>\n",
       "      <td>928799</td>\n",
       "    </tr>\n",
       "    <tr>\n",
       "      <th>6</th>\n",
       "      <td>7</td>\n",
       "      <td>Female</td>\n",
       "      <td>138</td>\n",
       "      <td>136</td>\n",
       "      <td>131</td>\n",
       "      <td>138</td>\n",
       "      <td>64.5</td>\n",
       "      <td>991305</td>\n",
       "    </tr>\n",
       "    <tr>\n",
       "      <th>7</th>\n",
       "      <td>8</td>\n",
       "      <td>Female</td>\n",
       "      <td>92</td>\n",
       "      <td>90</td>\n",
       "      <td>98</td>\n",
       "      <td>175</td>\n",
       "      <td>66.0</td>\n",
       "      <td>854258</td>\n",
       "    </tr>\n",
       "    <tr>\n",
       "      <th>8</th>\n",
       "      <td>9</td>\n",
       "      <td>Male</td>\n",
       "      <td>89</td>\n",
       "      <td>93</td>\n",
       "      <td>84</td>\n",
       "      <td>134</td>\n",
       "      <td>66.3</td>\n",
       "      <td>904858</td>\n",
       "    </tr>\n",
       "    <tr>\n",
       "      <th>9</th>\n",
       "      <td>10</td>\n",
       "      <td>Male</td>\n",
       "      <td>133</td>\n",
       "      <td>114</td>\n",
       "      <td>147</td>\n",
       "      <td>172</td>\n",
       "      <td>68.8</td>\n",
       "      <td>955466</td>\n",
       "    </tr>\n",
       "    <tr>\n",
       "      <th>10</th>\n",
       "      <td>11</td>\n",
       "      <td>Female</td>\n",
       "      <td>132</td>\n",
       "      <td>129</td>\n",
       "      <td>124</td>\n",
       "      <td>118</td>\n",
       "      <td>64.5</td>\n",
       "      <td>833868</td>\n",
       "    </tr>\n",
       "    <tr>\n",
       "      <th>11</th>\n",
       "      <td>12</td>\n",
       "      <td>Male</td>\n",
       "      <td>141</td>\n",
       "      <td>150</td>\n",
       "      <td>128</td>\n",
       "      <td>151</td>\n",
       "      <td>70.0</td>\n",
       "      <td>1079549</td>\n",
       "    </tr>\n",
       "    <tr>\n",
       "      <th>12</th>\n",
       "      <td>13</td>\n",
       "      <td>Male</td>\n",
       "      <td>135</td>\n",
       "      <td>129</td>\n",
       "      <td>124</td>\n",
       "      <td>155</td>\n",
       "      <td>69.0</td>\n",
       "      <td>924059</td>\n",
       "    </tr>\n",
       "    <tr>\n",
       "      <th>13</th>\n",
       "      <td>14</td>\n",
       "      <td>Female</td>\n",
       "      <td>140</td>\n",
       "      <td>120</td>\n",
       "      <td>147</td>\n",
       "      <td>155</td>\n",
       "      <td>70.5</td>\n",
       "      <td>856472</td>\n",
       "    </tr>\n",
       "    <tr>\n",
       "      <th>14</th>\n",
       "      <td>15</td>\n",
       "      <td>Female</td>\n",
       "      <td>96</td>\n",
       "      <td>100</td>\n",
       "      <td>90</td>\n",
       "      <td>146</td>\n",
       "      <td>66.0</td>\n",
       "      <td>878897</td>\n",
       "    </tr>\n",
       "    <tr>\n",
       "      <th>15</th>\n",
       "      <td>16</td>\n",
       "      <td>Female</td>\n",
       "      <td>83</td>\n",
       "      <td>71</td>\n",
       "      <td>96</td>\n",
       "      <td>135</td>\n",
       "      <td>68.0</td>\n",
       "      <td>865363</td>\n",
       "    </tr>\n",
       "    <tr>\n",
       "      <th>16</th>\n",
       "      <td>17</td>\n",
       "      <td>Female</td>\n",
       "      <td>132</td>\n",
       "      <td>132</td>\n",
       "      <td>120</td>\n",
       "      <td>127</td>\n",
       "      <td>68.5</td>\n",
       "      <td>852244</td>\n",
       "    </tr>\n",
       "    <tr>\n",
       "      <th>17</th>\n",
       "      <td>18</td>\n",
       "      <td>Male</td>\n",
       "      <td>100</td>\n",
       "      <td>96</td>\n",
       "      <td>102</td>\n",
       "      <td>178</td>\n",
       "      <td>73.5</td>\n",
       "      <td>945088</td>\n",
       "    </tr>\n",
       "    <tr>\n",
       "      <th>18</th>\n",
       "      <td>19</td>\n",
       "      <td>Female</td>\n",
       "      <td>101</td>\n",
       "      <td>112</td>\n",
       "      <td>84</td>\n",
       "      <td>136</td>\n",
       "      <td>66.3</td>\n",
       "      <td>808020</td>\n",
       "    </tr>\n",
       "    <tr>\n",
       "      <th>19</th>\n",
       "      <td>20</td>\n",
       "      <td>Male</td>\n",
       "      <td>80</td>\n",
       "      <td>77</td>\n",
       "      <td>86</td>\n",
       "      <td>180</td>\n",
       "      <td>70.0</td>\n",
       "      <td>889083</td>\n",
       "    </tr>\n",
       "    <tr>\n",
       "      <th>20</th>\n",
       "      <td>21</td>\n",
       "      <td>Male</td>\n",
       "      <td>83</td>\n",
       "      <td>83</td>\n",
       "      <td>86</td>\n",
       "      <td>NaN</td>\n",
       "      <td>NaN</td>\n",
       "      <td>892420</td>\n",
       "    </tr>\n",
       "    <tr>\n",
       "      <th>21</th>\n",
       "      <td>22</td>\n",
       "      <td>Male</td>\n",
       "      <td>97</td>\n",
       "      <td>107</td>\n",
       "      <td>84</td>\n",
       "      <td>186</td>\n",
       "      <td>76.5</td>\n",
       "      <td>905940</td>\n",
       "    </tr>\n",
       "    <tr>\n",
       "      <th>22</th>\n",
       "      <td>23</td>\n",
       "      <td>Female</td>\n",
       "      <td>135</td>\n",
       "      <td>129</td>\n",
       "      <td>134</td>\n",
       "      <td>122</td>\n",
       "      <td>62.0</td>\n",
       "      <td>790619</td>\n",
       "    </tr>\n",
       "    <tr>\n",
       "      <th>23</th>\n",
       "      <td>24</td>\n",
       "      <td>Male</td>\n",
       "      <td>139</td>\n",
       "      <td>145</td>\n",
       "      <td>128</td>\n",
       "      <td>132</td>\n",
       "      <td>68.0</td>\n",
       "      <td>955003</td>\n",
       "    </tr>\n",
       "    <tr>\n",
       "      <th>24</th>\n",
       "      <td>25</td>\n",
       "      <td>Female</td>\n",
       "      <td>91</td>\n",
       "      <td>86</td>\n",
       "      <td>102</td>\n",
       "      <td>114</td>\n",
       "      <td>63.0</td>\n",
       "      <td>831772</td>\n",
       "    </tr>\n",
       "    <tr>\n",
       "      <th>25</th>\n",
       "      <td>26</td>\n",
       "      <td>Male</td>\n",
       "      <td>141</td>\n",
       "      <td>145</td>\n",
       "      <td>131</td>\n",
       "      <td>171</td>\n",
       "      <td>72.0</td>\n",
       "      <td>935494</td>\n",
       "    </tr>\n",
       "    <tr>\n",
       "      <th>26</th>\n",
       "      <td>27</td>\n",
       "      <td>Female</td>\n",
       "      <td>85</td>\n",
       "      <td>90</td>\n",
       "      <td>84</td>\n",
       "      <td>140</td>\n",
       "      <td>68.0</td>\n",
       "      <td>798612</td>\n",
       "    </tr>\n",
       "    <tr>\n",
       "      <th>27</th>\n",
       "      <td>28</td>\n",
       "      <td>Male</td>\n",
       "      <td>103</td>\n",
       "      <td>96</td>\n",
       "      <td>110</td>\n",
       "      <td>187</td>\n",
       "      <td>77.0</td>\n",
       "      <td>1062462</td>\n",
       "    </tr>\n",
       "    <tr>\n",
       "      <th>28</th>\n",
       "      <td>29</td>\n",
       "      <td>Female</td>\n",
       "      <td>77</td>\n",
       "      <td>83</td>\n",
       "      <td>72</td>\n",
       "      <td>106</td>\n",
       "      <td>63.0</td>\n",
       "      <td>793549</td>\n",
       "    </tr>\n",
       "    <tr>\n",
       "      <th>29</th>\n",
       "      <td>30</td>\n",
       "      <td>Female</td>\n",
       "      <td>130</td>\n",
       "      <td>126</td>\n",
       "      <td>124</td>\n",
       "      <td>159</td>\n",
       "      <td>66.5</td>\n",
       "      <td>866662</td>\n",
       "    </tr>\n",
       "    <tr>\n",
       "      <th>30</th>\n",
       "      <td>31</td>\n",
       "      <td>Female</td>\n",
       "      <td>133</td>\n",
       "      <td>126</td>\n",
       "      <td>132</td>\n",
       "      <td>127</td>\n",
       "      <td>62.5</td>\n",
       "      <td>857782</td>\n",
       "    </tr>\n",
       "    <tr>\n",
       "      <th>31</th>\n",
       "      <td>32</td>\n",
       "      <td>Male</td>\n",
       "      <td>144</td>\n",
       "      <td>145</td>\n",
       "      <td>137</td>\n",
       "      <td>191</td>\n",
       "      <td>67.0</td>\n",
       "      <td>949589</td>\n",
       "    </tr>\n",
       "    <tr>\n",
       "      <th>32</th>\n",
       "      <td>33</td>\n",
       "      <td>Male</td>\n",
       "      <td>103</td>\n",
       "      <td>96</td>\n",
       "      <td>110</td>\n",
       "      <td>192</td>\n",
       "      <td>75.5</td>\n",
       "      <td>997925</td>\n",
       "    </tr>\n",
       "    <tr>\n",
       "      <th>33</th>\n",
       "      <td>34</td>\n",
       "      <td>Male</td>\n",
       "      <td>90</td>\n",
       "      <td>96</td>\n",
       "      <td>86</td>\n",
       "      <td>181</td>\n",
       "      <td>69.0</td>\n",
       "      <td>879987</td>\n",
       "    </tr>\n",
       "    <tr>\n",
       "      <th>34</th>\n",
       "      <td>35</td>\n",
       "      <td>Female</td>\n",
       "      <td>83</td>\n",
       "      <td>90</td>\n",
       "      <td>81</td>\n",
       "      <td>143</td>\n",
       "      <td>66.5</td>\n",
       "      <td>834344</td>\n",
       "    </tr>\n",
       "    <tr>\n",
       "      <th>35</th>\n",
       "      <td>36</td>\n",
       "      <td>Female</td>\n",
       "      <td>133</td>\n",
       "      <td>129</td>\n",
       "      <td>128</td>\n",
       "      <td>153</td>\n",
       "      <td>66.5</td>\n",
       "      <td>948066</td>\n",
       "    </tr>\n",
       "    <tr>\n",
       "      <th>36</th>\n",
       "      <td>37</td>\n",
       "      <td>Male</td>\n",
       "      <td>140</td>\n",
       "      <td>150</td>\n",
       "      <td>124</td>\n",
       "      <td>144</td>\n",
       "      <td>70.5</td>\n",
       "      <td>949395</td>\n",
       "    </tr>\n",
       "    <tr>\n",
       "      <th>37</th>\n",
       "      <td>38</td>\n",
       "      <td>Female</td>\n",
       "      <td>88</td>\n",
       "      <td>86</td>\n",
       "      <td>94</td>\n",
       "      <td>139</td>\n",
       "      <td>64.5</td>\n",
       "      <td>893983</td>\n",
       "    </tr>\n",
       "    <tr>\n",
       "      <th>38</th>\n",
       "      <td>39</td>\n",
       "      <td>Male</td>\n",
       "      <td>81</td>\n",
       "      <td>90</td>\n",
       "      <td>74</td>\n",
       "      <td>148</td>\n",
       "      <td>74.0</td>\n",
       "      <td>930016</td>\n",
       "    </tr>\n",
       "    <tr>\n",
       "      <th>39</th>\n",
       "      <td>40</td>\n",
       "      <td>Male</td>\n",
       "      <td>89</td>\n",
       "      <td>91</td>\n",
       "      <td>89</td>\n",
       "      <td>179</td>\n",
       "      <td>75.5</td>\n",
       "      <td>935863</td>\n",
       "    </tr>\n",
       "  </tbody>\n",
       "</table>\n",
       "</div>"
      ],
      "text/plain": [
       "    Unnamed: 0  Gender  FSIQ  VIQ  PIQ  Weight  Height  MRI_Count\n",
       "0            1  Female   133  132  124     118    64.5     816932\n",
       "1            2    Male   140  150  124     NaN    72.5    1001121\n",
       "2            3    Male   139  123  150     143    73.3    1038437\n",
       "3            4    Male   133  129  128     172    68.8     965353\n",
       "4            5  Female   137  132  134     147    65.0     951545\n",
       "5            6  Female    99   90  110     146    69.0     928799\n",
       "6            7  Female   138  136  131     138    64.5     991305\n",
       "7            8  Female    92   90   98     175    66.0     854258\n",
       "8            9    Male    89   93   84     134    66.3     904858\n",
       "9           10    Male   133  114  147     172    68.8     955466\n",
       "10          11  Female   132  129  124     118    64.5     833868\n",
       "11          12    Male   141  150  128     151    70.0    1079549\n",
       "12          13    Male   135  129  124     155    69.0     924059\n",
       "13          14  Female   140  120  147     155    70.5     856472\n",
       "14          15  Female    96  100   90     146    66.0     878897\n",
       "15          16  Female    83   71   96     135    68.0     865363\n",
       "16          17  Female   132  132  120     127    68.5     852244\n",
       "17          18    Male   100   96  102     178    73.5     945088\n",
       "18          19  Female   101  112   84     136    66.3     808020\n",
       "19          20    Male    80   77   86     180    70.0     889083\n",
       "20          21    Male    83   83   86     NaN     NaN     892420\n",
       "21          22    Male    97  107   84     186    76.5     905940\n",
       "22          23  Female   135  129  134     122    62.0     790619\n",
       "23          24    Male   139  145  128     132    68.0     955003\n",
       "24          25  Female    91   86  102     114    63.0     831772\n",
       "25          26    Male   141  145  131     171    72.0     935494\n",
       "26          27  Female    85   90   84     140    68.0     798612\n",
       "27          28    Male   103   96  110     187    77.0    1062462\n",
       "28          29  Female    77   83   72     106    63.0     793549\n",
       "29          30  Female   130  126  124     159    66.5     866662\n",
       "30          31  Female   133  126  132     127    62.5     857782\n",
       "31          32    Male   144  145  137     191    67.0     949589\n",
       "32          33    Male   103   96  110     192    75.5     997925\n",
       "33          34    Male    90   96   86     181    69.0     879987\n",
       "34          35  Female    83   90   81     143    66.5     834344\n",
       "35          36  Female   133  129  128     153    66.5     948066\n",
       "36          37    Male   140  150  124     144    70.5     949395\n",
       "37          38  Female    88   86   94     139    64.5     893983\n",
       "38          39    Male    81   90   74     148    74.0     930016\n",
       "39          40    Male    89   91   89     179    75.5     935863"
      ]
     },
     "execution_count": 3,
     "metadata": {},
     "output_type": "execute_result"
    }
   ],
   "source": [
    "import pandas\n",
    "data = pandas.read_csv(\"brain_size.csv\", sep = \";\", na_values=\".\")\n",
    "data"
   ]
  },
  {
   "cell_type": "code",
   "execution_count": 10,
   "metadata": {
    "collapsed": false
   },
   "outputs": [],
   "source": [
    "import numpy as np\n",
    "t = np.linspace(-6, 6, 20)\n",
    "sin_t = np.sin(t)\n",
    "cos_t = np.cos(t)\n",
    "d = pandas.DataFrame({'t': t, 'sin': sin_t, 'cos': np.cos(t)})"
   ]
  },
  {
   "cell_type": "code",
   "execution_count": 17,
   "metadata": {
    "collapsed": false
   },
   "outputs": [
    {
     "data": {
      "text/plain": [
       "109.45"
      ]
     },
     "execution_count": 17,
     "metadata": {},
     "output_type": "execute_result"
    }
   ],
   "source": [
    "data.shape\n",
    "data.columns\n",
    "data['Gender']\n",
    "data[data['Gender'] == \"Female\"][\"VIQ\"].mean()"
   ]
  },
  {
   "cell_type": "code",
   "execution_count": 18,
   "metadata": {
    "collapsed": false
   },
   "outputs": [
    {
     "data": {
      "text/html": [
       "<div>\n",
       "<table border=\"1\" class=\"dataframe\">\n",
       "  <thead>\n",
       "    <tr style=\"text-align: right;\">\n",
       "      <th></th>\n",
       "      <th>Unnamed: 0</th>\n",
       "      <th>FSIQ</th>\n",
       "      <th>VIQ</th>\n",
       "      <th>PIQ</th>\n",
       "      <th>Weight</th>\n",
       "      <th>Height</th>\n",
       "      <th>MRI_Count</th>\n",
       "    </tr>\n",
       "  </thead>\n",
       "  <tbody>\n",
       "    <tr>\n",
       "      <th>count</th>\n",
       "      <td>40.000000</td>\n",
       "      <td>40.000000</td>\n",
       "      <td>40.000000</td>\n",
       "      <td>40.00000</td>\n",
       "      <td>38.000000</td>\n",
       "      <td>39.000000</td>\n",
       "      <td>40.000000</td>\n",
       "    </tr>\n",
       "    <tr>\n",
       "      <th>mean</th>\n",
       "      <td>20.500000</td>\n",
       "      <td>113.450000</td>\n",
       "      <td>112.350000</td>\n",
       "      <td>111.02500</td>\n",
       "      <td>151.052632</td>\n",
       "      <td>68.525641</td>\n",
       "      <td>908755.000000</td>\n",
       "    </tr>\n",
       "    <tr>\n",
       "      <th>std</th>\n",
       "      <td>11.690452</td>\n",
       "      <td>24.082071</td>\n",
       "      <td>23.616107</td>\n",
       "      <td>22.47105</td>\n",
       "      <td>23.478509</td>\n",
       "      <td>3.994649</td>\n",
       "      <td>72282.048931</td>\n",
       "    </tr>\n",
       "    <tr>\n",
       "      <th>min</th>\n",
       "      <td>1.000000</td>\n",
       "      <td>77.000000</td>\n",
       "      <td>71.000000</td>\n",
       "      <td>72.00000</td>\n",
       "      <td>106.000000</td>\n",
       "      <td>62.000000</td>\n",
       "      <td>790619.000000</td>\n",
       "    </tr>\n",
       "    <tr>\n",
       "      <th>25%</th>\n",
       "      <td>10.750000</td>\n",
       "      <td>89.750000</td>\n",
       "      <td>90.000000</td>\n",
       "      <td>88.25000</td>\n",
       "      <td>135.250000</td>\n",
       "      <td>66.000000</td>\n",
       "      <td>855918.500000</td>\n",
       "    </tr>\n",
       "    <tr>\n",
       "      <th>50%</th>\n",
       "      <td>20.500000</td>\n",
       "      <td>116.500000</td>\n",
       "      <td>113.000000</td>\n",
       "      <td>115.00000</td>\n",
       "      <td>146.500000</td>\n",
       "      <td>68.000000</td>\n",
       "      <td>905399.000000</td>\n",
       "    </tr>\n",
       "    <tr>\n",
       "      <th>75%</th>\n",
       "      <td>30.250000</td>\n",
       "      <td>135.500000</td>\n",
       "      <td>129.750000</td>\n",
       "      <td>128.00000</td>\n",
       "      <td>172.000000</td>\n",
       "      <td>70.500000</td>\n",
       "      <td>950078.000000</td>\n",
       "    </tr>\n",
       "    <tr>\n",
       "      <th>max</th>\n",
       "      <td>40.000000</td>\n",
       "      <td>144.000000</td>\n",
       "      <td>150.000000</td>\n",
       "      <td>150.00000</td>\n",
       "      <td>192.000000</td>\n",
       "      <td>77.000000</td>\n",
       "      <td>1079549.000000</td>\n",
       "    </tr>\n",
       "  </tbody>\n",
       "</table>\n",
       "</div>"
      ],
      "text/plain": [
       "       Unnamed: 0        FSIQ         VIQ        PIQ      Weight     Height  \\\n",
       "count   40.000000   40.000000   40.000000   40.00000   38.000000  39.000000   \n",
       "mean    20.500000  113.450000  112.350000  111.02500  151.052632  68.525641   \n",
       "std     11.690452   24.082071   23.616107   22.47105   23.478509   3.994649   \n",
       "min      1.000000   77.000000   71.000000   72.00000  106.000000  62.000000   \n",
       "25%     10.750000   89.750000   90.000000   88.25000  135.250000  66.000000   \n",
       "50%     20.500000  116.500000  113.000000  115.00000  146.500000  68.000000   \n",
       "75%     30.250000  135.500000  129.750000  128.00000  172.000000  70.500000   \n",
       "max     40.000000  144.000000  150.000000  150.00000  192.000000  77.000000   \n",
       "\n",
       "            MRI_Count  \n",
       "count       40.000000  \n",
       "mean    908755.000000  \n",
       "std      72282.048931  \n",
       "min     790619.000000  \n",
       "25%     855918.500000  \n",
       "50%     905399.000000  \n",
       "75%     950078.000000  \n",
       "max    1079549.000000  "
      ]
     },
     "execution_count": 18,
     "metadata": {},
     "output_type": "execute_result"
    }
   ],
   "source": [
    "data.describe()"
   ]
  },
  {
   "cell_type": "code",
   "execution_count": 20,
   "metadata": {
    "collapsed": false
   },
   "outputs": [
    {
     "data": {
      "text/plain": [
       "<pandas.core.groupby.DataFrameGroupBy object at 0x7f56b03d55f8>"
      ]
     },
     "execution_count": 20,
     "metadata": {},
     "output_type": "execute_result"
    }
   ],
   "source": [
    "groupby_gender = data.groupby(\"Gender\")\n",
    "groupby_gender"
   ]
  },
  {
   "cell_type": "code",
   "execution_count": 24,
   "metadata": {
    "collapsed": false
   },
   "outputs": [
    {
     "name": "stdout",
     "output_type": "stream",
     "text": [
      "Female 109.45\n",
      "Male 115.25\n"
     ]
    }
   ],
   "source": [
    "for gender, value in groupby_gender['VIQ']:\n",
    "    print(gender, value.mean())"
   ]
  },
  {
   "cell_type": "code",
   "execution_count": 25,
   "metadata": {
    "collapsed": false
   },
   "outputs": [
    {
     "data": {
      "text/html": [
       "<div>\n",
       "<table border=\"1\" class=\"dataframe\">\n",
       "  <thead>\n",
       "    <tr style=\"text-align: right;\">\n",
       "      <th></th>\n",
       "      <th>Unnamed: 0</th>\n",
       "      <th>FSIQ</th>\n",
       "      <th>VIQ</th>\n",
       "      <th>PIQ</th>\n",
       "      <th>Weight</th>\n",
       "      <th>Height</th>\n",
       "      <th>MRI_Count</th>\n",
       "    </tr>\n",
       "    <tr>\n",
       "      <th>Gender</th>\n",
       "      <th></th>\n",
       "      <th></th>\n",
       "      <th></th>\n",
       "      <th></th>\n",
       "      <th></th>\n",
       "      <th></th>\n",
       "      <th></th>\n",
       "    </tr>\n",
       "  </thead>\n",
       "  <tbody>\n",
       "    <tr>\n",
       "      <th>Female</th>\n",
       "      <td>19.65</td>\n",
       "      <td>111.9</td>\n",
       "      <td>109.45</td>\n",
       "      <td>110.45</td>\n",
       "      <td>137.200000</td>\n",
       "      <td>65.765000</td>\n",
       "      <td>862654.6</td>\n",
       "    </tr>\n",
       "    <tr>\n",
       "      <th>Male</th>\n",
       "      <td>21.35</td>\n",
       "      <td>115.0</td>\n",
       "      <td>115.25</td>\n",
       "      <td>111.60</td>\n",
       "      <td>166.444444</td>\n",
       "      <td>71.431579</td>\n",
       "      <td>954855.4</td>\n",
       "    </tr>\n",
       "  </tbody>\n",
       "</table>\n",
       "</div>"
      ],
      "text/plain": [
       "        Unnamed: 0   FSIQ     VIQ     PIQ      Weight     Height  MRI_Count\n",
       "Gender                                                                     \n",
       "Female       19.65  111.9  109.45  110.45  137.200000  65.765000   862654.6\n",
       "Male         21.35  115.0  115.25  111.60  166.444444  71.431579   954855.4"
      ]
     },
     "execution_count": 25,
     "metadata": {},
     "output_type": "execute_result"
    }
   ],
   "source": [
    "groupby_gender.mean()"
   ]
  },
  {
   "cell_type": "code",
   "execution_count": 33,
   "metadata": {
    "collapsed": false
   },
   "outputs": [
    {
     "data": {
      "text/html": [
       "<div>\n",
       "<table border=\"1\" class=\"dataframe\">\n",
       "  <thead>\n",
       "    <tr style=\"text-align: right;\">\n",
       "      <th></th>\n",
       "      <th>Unnamed: 0</th>\n",
       "      <th>FSIQ</th>\n",
       "      <th>VIQ</th>\n",
       "      <th>PIQ</th>\n",
       "      <th>Weight</th>\n",
       "      <th>Height</th>\n",
       "      <th>MRI_Count</th>\n",
       "    </tr>\n",
       "    <tr>\n",
       "      <th>Gender</th>\n",
       "      <th></th>\n",
       "      <th></th>\n",
       "      <th></th>\n",
       "      <th></th>\n",
       "      <th></th>\n",
       "      <th></th>\n",
       "      <th></th>\n",
       "    </tr>\n",
       "  </thead>\n",
       "  <tbody>\n",
       "    <tr>\n",
       "      <th>Female</th>\n",
       "      <td>19.65</td>\n",
       "      <td>111.9</td>\n",
       "      <td>109.45</td>\n",
       "      <td>110.45</td>\n",
       "      <td>137.200000</td>\n",
       "      <td>65.765000</td>\n",
       "      <td>862654</td>\n",
       "    </tr>\n",
       "    <tr>\n",
       "      <th>Male</th>\n",
       "      <td>21.35</td>\n",
       "      <td>115.0</td>\n",
       "      <td>115.25</td>\n",
       "      <td>111.60</td>\n",
       "      <td>166.444444</td>\n",
       "      <td>71.431579</td>\n",
       "      <td>954855</td>\n",
       "    </tr>\n",
       "  </tbody>\n",
       "</table>\n",
       "</div>"
      ],
      "text/plain": [
       "        Unnamed: 0   FSIQ     VIQ     PIQ      Weight     Height  MRI_Count\n",
       "Gender                                                                     \n",
       "Female       19.65  111.9  109.45  110.45  137.200000  65.765000     862654\n",
       "Male         21.35  115.0  115.25  111.60  166.444444  71.431579     954855"
      ]
     },
     "execution_count": 33,
     "metadata": {},
     "output_type": "execute_result"
    }
   ],
   "source": [
    "def agg_func(x):\n",
    "    return(np.nanmean(x))\n",
    "np.nanmean?\n",
    "groupby_gender.agg(agg_func)"
   ]
  },
  {
   "cell_type": "code",
   "execution_count": 34,
   "metadata": {
    "collapsed": false
   },
   "outputs": [
    {
     "data": {
      "text/html": [
       "<div>\n",
       "<table border=\"1\" class=\"dataframe\">\n",
       "  <thead>\n",
       "    <tr style=\"text-align: right;\">\n",
       "      <th></th>\n",
       "      <th>Unnamed: 0</th>\n",
       "      <th>FSIQ</th>\n",
       "      <th>VIQ</th>\n",
       "      <th>PIQ</th>\n",
       "      <th>Weight</th>\n",
       "      <th>Height</th>\n",
       "      <th>MRI_Count</th>\n",
       "    </tr>\n",
       "    <tr>\n",
       "      <th>Gender</th>\n",
       "      <th></th>\n",
       "      <th></th>\n",
       "      <th></th>\n",
       "      <th></th>\n",
       "      <th></th>\n",
       "      <th></th>\n",
       "      <th></th>\n",
       "    </tr>\n",
       "  </thead>\n",
       "  <tbody>\n",
       "    <tr>\n",
       "      <th>Female</th>\n",
       "      <td>19.65</td>\n",
       "      <td>111.9</td>\n",
       "      <td>109.45</td>\n",
       "      <td>110.45</td>\n",
       "      <td>137.200000</td>\n",
       "      <td>65.765000</td>\n",
       "      <td>862654.6</td>\n",
       "    </tr>\n",
       "    <tr>\n",
       "      <th>Male</th>\n",
       "      <td>21.35</td>\n",
       "      <td>115.0</td>\n",
       "      <td>115.25</td>\n",
       "      <td>111.60</td>\n",
       "      <td>166.444444</td>\n",
       "      <td>71.431579</td>\n",
       "      <td>954855.4</td>\n",
       "    </tr>\n",
       "  </tbody>\n",
       "</table>\n",
       "</div>"
      ],
      "text/plain": [
       "        Unnamed: 0   FSIQ     VIQ     PIQ      Weight     Height  MRI_Count\n",
       "Gender                                                                     \n",
       "Female       19.65  111.9  109.45  110.45  137.200000  65.765000   862654.6\n",
       "Male         21.35  115.0  115.25  111.60  166.444444  71.431579   954855.4"
      ]
     },
     "execution_count": 34,
     "metadata": {},
     "output_type": "execute_result"
    }
   ],
   "source": [
    "groupby_gender.mean()"
   ]
  },
  {
   "cell_type": "code",
   "execution_count": 35,
   "metadata": {
    "collapsed": false
   },
   "outputs": [
    {
     "data": {
      "text/html": [
       "<div>\n",
       "<table border=\"1\" class=\"dataframe\">\n",
       "  <thead>\n",
       "    <tr style=\"text-align: right;\">\n",
       "      <th></th>\n",
       "      <th>Unnamed: 0</th>\n",
       "      <th>FSIQ</th>\n",
       "      <th>VIQ</th>\n",
       "      <th>PIQ</th>\n",
       "      <th>Weight</th>\n",
       "      <th>Height</th>\n",
       "      <th>MRI_Count</th>\n",
       "    </tr>\n",
       "    <tr>\n",
       "      <th>Gender</th>\n",
       "      <th></th>\n",
       "      <th></th>\n",
       "      <th></th>\n",
       "      <th></th>\n",
       "      <th></th>\n",
       "      <th></th>\n",
       "      <th></th>\n",
       "    </tr>\n",
       "  </thead>\n",
       "  <tbody>\n",
       "    <tr>\n",
       "      <th>Female</th>\n",
       "      <td>18.0</td>\n",
       "      <td>115.5</td>\n",
       "      <td>116.0</td>\n",
       "      <td>115</td>\n",
       "      <td>138.5</td>\n",
       "      <td>66.0</td>\n",
       "      <td>855365.0</td>\n",
       "    </tr>\n",
       "    <tr>\n",
       "      <th>Male</th>\n",
       "      <td>21.5</td>\n",
       "      <td>118.0</td>\n",
       "      <td>110.5</td>\n",
       "      <td>117</td>\n",
       "      <td>172.0</td>\n",
       "      <td>70.5</td>\n",
       "      <td>947241.5</td>\n",
       "    </tr>\n",
       "  </tbody>\n",
       "</table>\n",
       "</div>"
      ],
      "text/plain": [
       "        Unnamed: 0   FSIQ    VIQ  PIQ  Weight  Height  MRI_Count\n",
       "Gender                                                          \n",
       "Female        18.0  115.5  116.0  115   138.5    66.0   855365.0\n",
       "Male          21.5  118.0  110.5  117   172.0    70.5   947241.5"
      ]
     },
     "execution_count": 35,
     "metadata": {},
     "output_type": "execute_result"
    }
   ],
   "source": [
    "groupby_gender.median()"
   ]
  },
  {
   "cell_type": "code",
   "execution_count": 40,
   "metadata": {
    "collapsed": false
   },
   "outputs": [
    {
     "data": {
      "text/plain": [
       "112.35"
      ]
     },
     "execution_count": 40,
     "metadata": {},
     "output_type": "execute_result"
    }
   ],
   "source": [
    "data['VIQ'].mean()"
   ]
  },
  {
   "cell_type": "code",
   "execution_count": 41,
   "metadata": {
    "collapsed": false
   },
   "outputs": [
    {
     "data": {
      "text/html": [
       "<div>\n",
       "<table border=\"1\" class=\"dataframe\">\n",
       "  <thead>\n",
       "    <tr style=\"text-align: right;\">\n",
       "      <th></th>\n",
       "      <th>Unnamed: 0</th>\n",
       "      <th>FSIQ</th>\n",
       "      <th>VIQ</th>\n",
       "      <th>PIQ</th>\n",
       "      <th>Weight</th>\n",
       "      <th>Height</th>\n",
       "      <th>MRI_Count</th>\n",
       "    </tr>\n",
       "    <tr>\n",
       "      <th>Gender</th>\n",
       "      <th></th>\n",
       "      <th></th>\n",
       "      <th></th>\n",
       "      <th></th>\n",
       "      <th></th>\n",
       "      <th></th>\n",
       "      <th></th>\n",
       "    </tr>\n",
       "  </thead>\n",
       "  <tbody>\n",
       "    <tr>\n",
       "      <th>Female</th>\n",
       "      <td>20</td>\n",
       "      <td>20</td>\n",
       "      <td>20</td>\n",
       "      <td>20</td>\n",
       "      <td>20</td>\n",
       "      <td>20</td>\n",
       "      <td>20</td>\n",
       "    </tr>\n",
       "    <tr>\n",
       "      <th>Male</th>\n",
       "      <td>20</td>\n",
       "      <td>20</td>\n",
       "      <td>20</td>\n",
       "      <td>20</td>\n",
       "      <td>18</td>\n",
       "      <td>19</td>\n",
       "      <td>20</td>\n",
       "    </tr>\n",
       "  </tbody>\n",
       "</table>\n",
       "</div>"
      ],
      "text/plain": [
       "        Unnamed: 0  FSIQ  VIQ  PIQ  Weight  Height  MRI_Count\n",
       "Gender                                                       \n",
       "Female          20    20   20   20      20      20         20\n",
       "Male            20    20   20   20      18      19         20"
      ]
     },
     "execution_count": 41,
     "metadata": {},
     "output_type": "execute_result"
    }
   ],
   "source": [
    "groupby_gender.count()"
   ]
  },
  {
   "cell_type": "code",
   "execution_count": 44,
   "metadata": {
    "collapsed": false
   },
   "outputs": [
    {
     "data": {
      "text/plain": [
       "Gender\n",
       "Female    13.667769\n",
       "Male      13.769315\n",
       "Name: MRI_Count, dtype: float64"
      ]
     },
     "execution_count": 44,
     "metadata": {},
     "output_type": "execute_result"
    }
   ],
   "source": [
    "np.log(groupby_gender['MRI_Count'].mean())"
   ]
  },
  {
   "cell_type": "code",
   "execution_count": 54,
   "metadata": {
    "collapsed": false
   },
   "outputs": [
    {
     "data": {
      "image/png": "[encoded data removed]",
      "text/plain": [
       "<matplotlib.figure.Figure at 0x7f565b8037b8>"
      ]
     },
     "metadata": {},
     "output_type": "display_data"
    },
    {
     "data": {
      "image/png": "[encoded data removed]",
      "text/plain": [
       "<matplotlib.figure.Figure at 0x7f565b6effd0>"
      ]
     },
     "metadata": {},
     "output_type": "display_data"
    }
   ],
   "source": [
    "from pandas.tools import plotting\n",
    "%matplotlib inline\n",
    "plotting.scatter_matrix(data[['Weight', 'Height', 'MRI_Count']])\n",
    "plotting.scatter_matrix(data[['PIQ', 'VIQ', 'FSIQ']])"
   ]
  },
  {
   "cell_type": "code",
   "execution_count": 59,
   "metadata": {
    "collapsed": false
   },
   "outputs": [
    {
     "data": {
      "text/plain": [
       "array([[<matplotlib.axes._subplots.AxesSubplot object at 0x7f565bb8e9e8>,\n",
       "        <matplotlib.axes._subplots.AxesSubplot object at 0x7f565b657358>,\n",
       "        <matplotlib.axes._subplots.AxesSubplot object at 0x7f565b9325c0>],\n",
       "       [<matplotlib.axes._subplots.AxesSubplot object at 0x7f565b34b208>,\n",
       "        <matplotlib.axes._subplots.AxesSubplot object at 0x7f565afc5b00>,\n",
       "        <matplotlib.axes._subplots.AxesSubplot object at 0x7f565b2b2400>],\n",
       "       [<matplotlib.axes._subplots.AxesSubplot object at 0x7f565b170940>,\n",
       "        <matplotlib.axes._subplots.AxesSubplot object at 0x7f565af6e550>,\n",
       "        <matplotlib.axes._subplots.AxesSubplot object at 0x7f565af1b470>]], dtype=object)"
      ]
     },
     "execution_count": 59,
     "metadata": {},
     "output_type": "execute_result"
    },
    {
     "data": {
      "image/png": "[encoded data removed]",
      "text/plain": [
       "<matplotlib.figure.Figure at 0x7f565af177f0>"
      ]
     },
     "metadata": {},
     "output_type": "display_data"
    },
    {
     "data": {
      "image/png": "[encoded data removed]",
      "text/plain": [
       "<matplotlib.figure.Figure at 0x7f565b3400f0>"
      ]
     },
     "metadata": {},
     "output_type": "display_data"
    }
   ],
   "source": [
    "plotting.scatter_matrix(data[data['Gender'] == \"Female\"][['PIQ', 'VIQ', 'FSIQ']])\n",
    "plotting.scatter_matrix(data[data['Gender'] == \"Male\"][['PIQ', 'VIQ', 'FSIQ']])"
   ]
  },
  {
   "cell_type": "code",
   "execution_count": 64,
   "metadata": {
    "collapsed": false
   },
   "outputs": [
    {
     "name": "stdout",
     "output_type": "stream",
     "text": [
      "        Unnamed: 0   FSIQ     VIQ     PIQ      Weight     Height  MRI_Count\n",
      "Gender                                                                     \n",
      "Female       19.65  111.9  109.45  110.45  137.200000  65.765000   862654.6\n",
      "Male         21.35  115.0  115.25  111.60  166.444444  71.431579   954855.4\n"
     ]
    },
    {
     "data": {
      "text/plain": [
       "pandas.core.frame.DataFrame"
      ]
     },
     "execution_count": 64,
     "metadata": {},
     "output_type": "execute_result"
    }
   ],
   "source": [
    "x = groupby_gender.mean()\n",
    "print(x)\n",
    "type(x)"
   ]
  },
  {
   "cell_type": "code",
   "execution_count": 73,
   "metadata": {
    "collapsed": false
   },
   "outputs": [
    {
     "name": "stdout",
     "output_type": "stream",
     "text": [
      "<class 'pandas.core.frame.DataFrame'>\n"
     ]
    },
    {
     "data": {
      "text/plain": [
       "Index(['Unnamed: 0', 'FSIQ', 'VIQ', 'PIQ', 'Weight', 'MRI_Count'], dtype='object')"
      ]
     },
     "execution_count": 73,
     "metadata": {},
     "output_type": "execute_result"
    }
   ],
   "source": [
    "two_groups = data.groupby(('Gender', 'Height'))\n",
    "x = two_groups.mean()\n",
    "print(type(x))\n",
    "x.columns"
   ]
  },
  {
   "cell_type": "code",
   "execution_count": 79,
   "metadata": {
    "collapsed": false
   },
   "outputs": [
    {
     "data": {
      "text/plain": [
       "Ttest_1sampResult(statistic=30.088099970849328, pvalue=1.3289196468728067e-28)"
      ]
     },
     "execution_count": 79,
     "metadata": {},
     "output_type": "execute_result"
    }
   ],
   "source": [
    "from scipy import stats\n",
    "stats.ttest_1samp(data['VIQ'], 0)"
   ]
  },
  {
   "cell_type": "code",
   "execution_count": 89,
   "metadata": {
    "collapsed": false
   },
   "outputs": [
    {
     "data": {
      "text/plain": [
       "Ttest_indResult(statistic=-1.6598500055174645, pvalue=0.15783881063169586)"
      ]
     },
     "execution_count": 89,
     "metadata": {},
     "output_type": "execute_result"
    }
   ],
   "source": [
    "stats.ttest_ind(np.array([1, 2, 3]), np.array([2, 3, 4, 5]))"
   ]
  },
  {
   "cell_type": "code",
   "execution_count": 90,
   "metadata": {
    "collapsed": false
   },
   "outputs": [
    {
     "data": {
      "text/plain": [
       "Ttest_indResult(statistic=0.77261617232750113, pvalue=0.44452876778583217)"
      ]
     },
     "execution_count": 90,
     "metadata": {},
     "output_type": "execute_result"
    }
   ],
   "source": [
    "stats.ttest_ind(data[data['Gender'] == 'Male']['VIQ'],\n",
    "                data[data['Gender'] == 'Female']['VIQ'])"
   ]
  },
  {
   "cell_type": "code",
   "execution_count": 95,
   "metadata": {
    "collapsed": false
   },
   "outputs": [
    {
     "data": {
      "text/html": [
       "<div>\n",
       "<table border=\"1\" class=\"dataframe\">\n",
       "  <thead>\n",
       "    <tr style=\"text-align: right;\">\n",
       "      <th></th>\n",
       "      <th>Unnamed: 0</th>\n",
       "      <th>FSIQ</th>\n",
       "      <th>VIQ</th>\n",
       "      <th>PIQ</th>\n",
       "      <th>Weight</th>\n",
       "      <th>Height</th>\n",
       "      <th>MRI_Count</th>\n",
       "    </tr>\n",
       "    <tr>\n",
       "      <th>Gender</th>\n",
       "      <th></th>\n",
       "      <th></th>\n",
       "      <th></th>\n",
       "      <th></th>\n",
       "      <th></th>\n",
       "      <th></th>\n",
       "      <th></th>\n",
       "    </tr>\n",
       "  </thead>\n",
       "  <tbody>\n",
       "    <tr>\n",
       "      <th>Female</th>\n",
       "      <td>(19.65, 11.0692140642)</td>\n",
       "      <td>(111.9, 23.0865761862)</td>\n",
       "      <td>(109.45, 21.122203957)</td>\n",
       "      <td>(110.45, 21.3903599783)</td>\n",
       "      <td>(137.2, 16.5245272247)</td>\n",
       "      <td>(65.765, 2.23030827466)</td>\n",
       "      <td>(862654.6, 54478.2993387)</td>\n",
       "    </tr>\n",
       "    <tr>\n",
       "      <th>Male</th>\n",
       "      <td>(21.35, 11.938488179)</td>\n",
       "      <td>(115.0, 24.3536444911)</td>\n",
       "      <td>(115.25, 24.9917486383)</td>\n",
       "      <td>(111.6, 22.944280333)</td>\n",
       "      <td>(166.444444444, 19.4828192753)</td>\n",
       "      <td>(71.4315789474, 3.19556479343)</td>\n",
       "      <td>(954855.4, 54495.6475899)</td>\n",
       "    </tr>\n",
       "  </tbody>\n",
       "</table>\n",
       "</div>"
      ],
      "text/plain": [
       "                    Unnamed: 0                    FSIQ  \\\n",
       "Gender                                                   \n",
       "Female  (19.65, 11.0692140642)  (111.9, 23.0865761862)   \n",
       "Male     (21.35, 11.938488179)  (115.0, 24.3536444911)   \n",
       "\n",
       "                            VIQ                      PIQ  \\\n",
       "Gender                                                     \n",
       "Female   (109.45, 21.122203957)  (110.45, 21.3903599783)   \n",
       "Male    (115.25, 24.9917486383)    (111.6, 22.944280333)   \n",
       "\n",
       "                                Weight                          Height  \\\n",
       "Gender                                                                   \n",
       "Female          (137.2, 16.5245272247)         (65.765, 2.23030827466)   \n",
       "Male    (166.444444444, 19.4828192753)  (71.4315789474, 3.19556479343)   \n",
       "\n",
       "                        MRI_Count  \n",
       "Gender                             \n",
       "Female  (862654.6, 54478.2993387)  \n",
       "Male    (954855.4, 54495.6475899)  "
      ]
     },
     "execution_count": 95,
     "metadata": {},
     "output_type": "execute_result"
    }
   ],
   "source": [
    "def mean_and_sd(x):\n",
    "    return((np.nanmean(x), np.nanstd(x)))\n",
    "my_stats = groupby_gender.agg(func = mean_and_sd)\n",
    "my_stats"
   ]
  },
  {
   "cell_type": "code",
   "execution_count": 106,
   "metadata": {
    "collapsed": false
   },
   "outputs": [
    {
     "data": {
      "text/plain": [
       "-0.092379401217137613"
      ]
     },
     "execution_count": 106,
     "metadata": {},
     "output_type": "execute_result"
    }
   ],
   "source": [
    "(my_stats['FSIQ'][0][0] - my_stats['FSIQ'][1][0]) / np.sqrt(my_stats['FSIQ'][0][1]**2 + my_stats['FSIQ'][1][1]**2)"
   ]
  },
  {
   "cell_type": "code",
   "execution_count": 117,
   "metadata": {
    "collapsed": false
   },
   "outputs": [
    {
     "data": {
      "text/plain": [
       "<statsmodels.regression.linear_model.RegressionResultsWrapper at 0x7f565b405358>"
      ]
     },
     "execution_count": 117,
     "metadata": {},
     "output_type": "execute_result"
    }
   ],
   "source": [
    "x = np.linspace(-5, 5, 20)\n",
    "y = -5 + 3*x + 4 * np.random.normal(size = x.shape)\n",
    "data = pandas.DataFrame({'x': x, 'y': y})\n",
    "from statsmodels.formula.api import ols\n",
    "model = ols(\"y ~ x\", data).fit()\n",
    "model"
   ]
  },
  {
   "cell_type": "code",
   "execution_count": 119,
   "metadata": {
    "collapsed": false
   },
   "outputs": [
    {
     "name": "stdout",
     "output_type": "stream",
     "text": [
      "                            OLS Regression Results                            \n",
      "==============================================================================\n",
      "Dep. Variable:                      y   R-squared:                       0.815\n",
      "Model:                            OLS   Adj. R-squared:                  0.805\n",
      "Method:                 Least Squares   F-statistic:                     79.55\n",
      "Date:                mar, 23 feb 2016   Prob (F-statistic):           5.04e-08\n",
      "Time:                        15:35:40   Log-Likelihood:                -60.623\n",
      "No. Observations:                  20   AIC:                             125.2\n",
      "Df Residuals:                      18   BIC:                             127.2\n",
      "Df Model:                           1                                         \n",
      "Covariance Type:            nonrobust                                         \n",
      "==============================================================================\n",
      "                 coef    std err          t      P>|t|      [95.0% Conf. Int.]\n",
      "------------------------------------------------------------------------------\n",
      "Intercept     -3.6708      1.182     -3.106      0.006        -6.154    -1.188\n",
      "x              3.4731      0.389      8.919      0.000         2.655     4.291\n",
      "==============================================================================\n",
      "Omnibus:                        2.342   Durbin-Watson:                   2.407\n",
      "Prob(Omnibus):                  0.310   Jarque-Bera (JB):                1.627\n",
      "Skew:                           0.692   Prob(JB):                        0.443\n",
      "Kurtosis:                       2.802   Cond. No.                         3.03\n",
      "==============================================================================\n",
      "\n",
      "Warnings:\n",
      "[1] Standard Errors assume that the covariance matrix of the errors is correctly specified.\n"
     ]
    }
   ],
   "source": [
    "print(model.summary())"
   ]
  },
  {
   "cell_type": "code",
   "execution_count": 124,
   "metadata": {
    "collapsed": false
   },
   "outputs": [
    {
     "name": "stdout",
     "output_type": "stream",
     "text": [
      "Intercept   -3.670839\n",
      "x            3.473072\n",
      "dtype: float64\n",
      "0    -21.036199\n",
      "1    -19.208266\n",
      "2    -17.380333\n",
      "3    -15.552401\n",
      "4    -13.724468\n",
      "5    -11.896536\n",
      "6    -10.068603\n",
      "7     -8.240670\n",
      "8     -6.412738\n",
      "9     -4.584805\n",
      "10    -2.756873\n",
      "11    -0.928940\n",
      "12     0.898993\n",
      "13     2.726925\n",
      "14     4.554858\n",
      "15     6.382790\n",
      "16     8.210723\n",
      "17    10.038656\n",
      "18    11.866588\n",
      "19    13.694521\n",
      "dtype: float64\n"
     ]
    },
    {
     "data": {
      "text/plain": [
       "Intercept   -2.670839\n",
       "x            4.473072\n",
       "dtype: float64"
      ]
     },
     "execution_count": 124,
     "metadata": {},
     "output_type": "execute_result"
    }
   ],
   "source": [
    "print(model.params)\n",
    "print(model.fittedvalues)\n",
    "model.params + 1"
   ]
  },
  {
   "cell_type": "code",
   "execution_count": 127,
   "metadata": {
    "collapsed": false
   },
   "outputs": [
    {
     "data": {
      "text/plain": [
       "array([ -2.79823425e+01,  -2.74912010e+01,  -2.70000595e+01,\n",
       "        -2.65089180e+01,  -2.60177765e+01,  -2.55266350e+01,\n",
       "        -2.50354936e+01,  -2.45443521e+01,  -2.40532106e+01,\n",
       "        -2.35620691e+01,  -2.30709276e+01,  -2.25797861e+01,\n",
       "        -2.20886446e+01,  -2.15975031e+01,  -2.11063617e+01,\n",
       "        -2.06152202e+01,  -2.01240787e+01,  -1.96329372e+01,\n",
       "        -1.91417957e+01,  -1.86506542e+01,  -1.81595127e+01,\n",
       "        -1.76683712e+01,  -1.71772298e+01,  -1.66860883e+01,\n",
       "        -1.61949468e+01,  -1.57038053e+01,  -1.52126638e+01,\n",
       "        -1.47215223e+01,  -1.42303808e+01,  -1.37392393e+01,\n",
       "        -1.32480979e+01,  -1.27569564e+01,  -1.22658149e+01,\n",
       "        -1.17746734e+01,  -1.12835319e+01,  -1.07923904e+01,\n",
       "        -1.03012489e+01,  -9.81010744e+00,  -9.31896595e+00,\n",
       "        -8.82782446e+00,  -8.33668297e+00,  -7.84554148e+00,\n",
       "        -7.35440000e+00,  -6.86325851e+00,  -6.37211702e+00,\n",
       "        -5.88097553e+00,  -5.38983404e+00,  -4.89869256e+00,\n",
       "        -4.40755107e+00,  -3.91640958e+00,  -3.42526809e+00,\n",
       "        -2.93412661e+00,  -2.44298512e+00,  -1.95184363e+00,\n",
       "        -1.46070214e+00,  -9.69560654e-01,  -4.78419166e-01,\n",
       "         1.27223221e-02,   5.03863810e-01,   9.95005298e-01,\n",
       "         1.48614679e+00,   1.97728827e+00,   2.46842976e+00,\n",
       "         2.95957125e+00,   3.45071274e+00,   3.94185423e+00,\n",
       "         4.43299571e+00,   4.92413720e+00,   5.41527869e+00,\n",
       "         5.90642018e+00,   6.39756166e+00,   6.88870315e+00,\n",
       "         7.37984464e+00,   7.87098613e+00,   8.36212762e+00,\n",
       "         8.85326910e+00,   9.34441059e+00,   9.83555208e+00,\n",
       "         1.03266936e+01,   1.08178351e+01,   1.13089765e+01,\n",
       "         1.18001180e+01,   1.22912595e+01,   1.27824010e+01,\n",
       "         1.32735425e+01,   1.37646840e+01,   1.42558255e+01,\n",
       "         1.47469670e+01,   1.52381084e+01,   1.57292499e+01,\n",
       "         1.62203914e+01,   1.67115329e+01,   1.72026744e+01,\n",
       "         1.76938159e+01,   1.81849574e+01,   1.86760989e+01,\n",
       "         1.91672403e+01,   1.96583818e+01,   2.01495233e+01,\n",
       "         2.06406648e+01])"
      ]
     },
     "execution_count": 127,
     "metadata": {},
     "output_type": "execute_result"
    }
   ],
   "source": [
    "new_x = pandas.DataFrame({'x': np.linspace(-7, 7, 100)})\n",
    "model.predict(exog=new_x)"
   ]
  },
  {
   "cell_type": "code",
   "execution_count": 138,
   "metadata": {
    "collapsed": false
   },
   "outputs": [
    {
     "name": "stdout",
     "output_type": "stream",
     "text": [
      "                            OLS Regression Results                            \n",
      "==============================================================================\n",
      "Dep. Variable:                    VIQ   R-squared:                       0.526\n",
      "Model:                            OLS   Adj. R-squared:                 -0.125\n",
      "Method:                 Least Squares   F-statistic:                    0.8077\n",
      "Date:                mar, 23 feb 2016   Prob (F-statistic):              0.685\n",
      "Time:                        15:47:28   Log-Likelihood:                -163.28\n",
      "No. Observations:                  39   AIC:                             372.6\n",
      "Df Residuals:                      16   BIC:                             410.8\n",
      "Df Model:                          22                                         \n",
      "Covariance Type:            nonrobust                                         \n",
      "===================================================================================================\n",
      "                                      coef    std err          t      P>|t|      [95.0% Conf. Int.]\n",
      "---------------------------------------------------------------------------------------------------\n",
      "Intercept                         129.0000     24.859      5.189      0.000        76.302   181.698\n",
      "C(Height)[T.62.5]                  -3.0000     35.155     -0.085      0.933       -77.526    71.526\n",
      "C(Height)[T.63.0]                 -44.5000     30.446     -1.462      0.163      -109.042    20.042\n",
      "C(Height)[T.64.5]                  -8.2500     27.793     -0.297      0.770       -67.168    50.668\n",
      "C(Height)[T.65.0]                   3.0000     35.155      0.085      0.933       -71.526    77.526\n",
      "C(Height)[T.66.0]                 -34.0000     30.446     -1.117      0.281       -98.542    30.542\n",
      "C(Height)[T.66.299999999999997]   -26.5000     30.446     -0.870      0.397       -91.042    38.042\n",
      "C(Height)[T.66.5]                 -14.0000     28.704     -0.488      0.632       -74.850    46.850\n",
      "C(Height)[T.67.0]                  16.0000     35.155      0.455      0.655       -58.526    90.526\n",
      "C(Height)[T.68.0]                 -27.0000     28.704     -0.941      0.361       -87.850    33.850\n",
      "C(Height)[T.68.5]                   3.0000     35.155      0.085      0.933       -71.526    77.526\n",
      "C(Height)[T.68.799999999999997]    -7.5000     30.446     -0.246      0.809       -72.042    57.042\n",
      "C(Height)[T.69.0]                 -24.0000     28.704     -0.836      0.415       -84.850    36.850\n",
      "C(Height)[T.70.0]                 -15.5000     30.446     -0.509      0.618       -80.042    49.042\n",
      "C(Height)[T.70.5]                   6.0000     30.446      0.197      0.846       -58.542    70.542\n",
      "C(Height)[T.72.0]                  16.0000     35.155      0.455      0.655       -58.526    90.526\n",
      "C(Height)[T.72.5]                  21.0000     35.155      0.597      0.559       -53.526    95.526\n",
      "C(Height)[T.73.299999999999997]    -6.0000     35.155     -0.171      0.867       -80.526    68.526\n",
      "C(Height)[T.73.5]                 -33.0000     35.155     -0.939      0.362      -107.526    41.526\n",
      "C(Height)[T.74.0]                 -39.0000     35.155     -1.109      0.284      -113.526    35.526\n",
      "C(Height)[T.75.5]                 -35.5000     30.446     -1.166      0.261      -100.042    29.042\n",
      "C(Height)[T.76.5]                 -22.0000     35.155     -0.626      0.540       -96.526    52.526\n",
      "C(Height)[T.77.0]                 -33.0000     35.155     -0.939      0.362      -107.526    41.526\n",
      "==============================================================================\n",
      "Omnibus:                        2.985   Durbin-Watson:                   2.071\n",
      "Prob(Omnibus):                  0.225   Jarque-Bera (JB):                2.176\n",
      "Skew:                           0.062   Prob(JB):                        0.337\n",
      "Kurtosis:                       4.150   Cond. No.                         31.2\n",
      "==============================================================================\n",
      "\n",
      "Warnings:\n",
      "[1] Standard Errors assume that the covariance matrix of the errors is correctly specified.\n"
     ]
    }
   ],
   "source": [
    "data = pandas.read_csv(\"brain_size.csv\", sep = \";\", na_values=\".\")\n",
    "model = ols('VIQ ~ C(Height)', data = data).fit()\n",
    "print(model.summary())"
   ]
  },
  {
   "cell_type": "code",
   "execution_count": 145,
   "metadata": {
    "collapsed": false
   },
   "outputs": [
    {
     "data": {
      "text/plain": [
       "<seaborn.axisgrid.PairGrid at 0x7f56508c37b8>"
      ]
     },
     "execution_count": 145,
     "metadata": {},
     "output_type": "execute_result"
    },
    {
     "data": {
      "image/png": "[encoded data removed]",
      "text/plain": [
       "<matplotlib.figure.Figure at 0x7f56508c30b8>"
      ]
     },
     "metadata": {},
     "output_type": "display_data"
    },
    {
     "data": {
      "image/png": "[encoded data removed]",
      "text/plain": [
       "<matplotlib.figure.Figure at 0x7f5650612048>"
      ]
     },
     "metadata": {},
     "output_type": "display_data"
    }
   ],
   "source": [
    "import seaborn\n",
    "data\n",
    "seaborn.pairplot(data, vars = ('FSIQ', 'VIQ', 'PIQ'), kind='reg')\n",
    "seaborn.pairplot(data, vars = ('FSIQ', 'VIQ', 'PIQ'), kind='reg', hue='Gender')"
   ]
  },
  {
   "cell_type": "markdown",
   "metadata": {},
   "source": [
    "What else can we do with pandas?"
   ]
  },
  {
   "cell_type": "code",
   "execution_count": null,
   "metadata": {
    "collapsed": true
   },
   "outputs": [],
   "source": []
  }
 ],
 "metadata": {
  "kernelspec": {
   "display_name": "Python 3",
   "language": "python",
   "name": "python3"
  },
  "language_info": {
   "codemirror_mode": {
    "name": "ipython",
    "version": 3
   },
   "file_extension": ".py",
   "mimetype": "text/x-python",
   "name": "python",
   "nbconvert_exporter": "python",
   "pygments_lexer": "ipython3",
   "version": "3.5.1"
  }
 },
 "nbformat": 4,
 "nbformat_minor": 0
}
